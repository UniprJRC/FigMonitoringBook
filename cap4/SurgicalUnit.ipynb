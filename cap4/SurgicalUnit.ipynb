{
 "cells": [
  {
   "cell_type": "markdown",
   "metadata": {},
   "source": [
    "\n",
    "# <span style=\"color:rgb(213,80,0)\">Surgical Unit data.</span>\n",
    "\n",
    "This file creates Figures 4.30\\-4.33.\n",
    "\n",
    "## Beginning of code"
   ]
  },
  {
   "cell_type": "code",
   "execution_count": 1,
   "metadata": {},
   "source": [
    "close all;\n",
    "clearvars;\n",
    "load('hospitalFS.txt');\n",
    "y=hospitalFS(:,5);\n",
    "X=hospitalFS(:,1:4);\n",
    "\n",
    "n=length(y);\n",
    "prin=0;"
   ],
   "outputs": []
  },
  {
   "cell_type": "markdown",
   "metadata": {},
   "source": [
    "\n",
    "## Prepare input for Figure 4.30\n",
    "\n",
    "LMS using all subsamples (very lengthy)\n",
    ""
   ]
  },
  {
   "cell_type": "code",
   "execution_count": 2,
   "metadata": {},
   "source": [
    "computeLMSusingAllSubsets=false;\n",
    "if computeLMSusingAllSubsets ==true\n",
    "    nsamp=0;\n",
    "    [outLXS]=LXS(y,X,'nsamp',nsamp);\n",
    "else\n",
    "    % best out of 111,469,176 subsets\n",
    "    outLXS=struct;\n",
    "    outLXS.bs= [ 3   11   20   23   74];\n",
    "end\n",
    "\n",
    "p=size(X,2)+1;\n",
    "\n",
    "outFS=FSReda(y,X,outLXS.bs);\n",
    "\n",
    "% Tranform minimum deletion residual from standard coordinates to normal\n",
    "% coordinates\n",
    "outFS1=FSRinvmdr(outFS,p);"
   ],
   "outputs": []
  },
  {
   "cell_type": "markdown",
   "metadata": {},
   "source": [
    "\n",
    "## Create Figure 4.30"
   ]
  },
  {
   "cell_type": "code",
   "execution_count": 3,
   "metadata": {},
   "source": [
    "mdrplot(outFS1,'ncoord',true,'quant',[0.1 0.5 0.99 0.999 0.9999]);\n",
    "\n",
    "if prin==1\n",
    "    % print to postscript\n",
    "    print -depsc SPmdrncoord.eps;\n",
    "end\n",
    "\n",
    "title('Figure 4.30')\n",
    "set(gcf,\"Name\",'Figure 4.30')"
   ],
   "outputs": []
  },
  {
   "cell_type": "markdown",
   "metadata": {},
   "source": [
    "\n",
    "## Create Figure\n",
    "\n",
    "Automatic outlier detection\n",
    ""
   ]
  },
  {
   "cell_type": "code",
   "execution_count": 4,
   "metadata": {},
   "source": [
    "startJustSearchin1000Subsets=true;\n",
    "if startJustSearchin1000Subsets ==true\n",
    "    out=FSR(y,X,'plots',0);\n",
    "else\n",
    "    outLXS=struct;\n",
    "    outLXS.bs= [ 3   11   20   23   74];\n",
    "    [out]=FSR(y,X,'lms',outLXS.bs,'plots',0);\n",
    "end\n",
    "disp(out)\n",
    "if prin==1\n",
    "    % print to postscript\n",
    "    print -depsc SPfsr.eps;\n",
    "end"
   ],
   "outputs": []
  },
  {
   "cell_type": "markdown",
   "metadata": {},
   "source": [
    "\n",
    "## Create Figure 4.31\n",
    "\n",
    "SP data Monitoring of prop of units in bsb and tstat\n",
    ""
   ]
  },
  {
   "cell_type": "code",
   "execution_count": 5,
   "metadata": {},
   "source": [
    "figure\n",
    "nr=1;\n",
    "nc=2;\n",
    "Prop=[(p+1:n)' zeros(n-p,1)];\n",
    "[Un,BB]=FSRbsb(y,X,outLXS.bs,'init',p+1,'bsbsteps',p+1:n);\n",
    "for j=1:size(BB,2)\n",
    "    bj=BB(:,j);\n",
    "    bj=bj(~isnan(bj));\n",
    "    Prop(j,2)=sum(bj<=54)/length(bj);\n",
    "end\n",
    "\n",
    "% subplot(nr,nc,1)\n",
    "plot(Prop(:,1),Prop(:,2),'LineWidth',2)\n",
    "xlabel('Subset size')\n",
    "\n",
    "title('Figure 4.31 (left panel)')\n",
    "set(gcf,\"Name\",'Figure 4.31 (left panel)')"
   ],
   "outputs": []
  },
  {
   "cell_type": "markdown",
   "metadata": {},
   "source": [
    "\n",
    "\n",
    "## Create Figure 4.31 right panel\n",
    "\n",
    "Forward Search\n",
    ""
   ]
  },
  {
   "cell_type": "code",
   "execution_count": 6,
   "metadata": {},
   "source": [
    "[outFS]=FSReda(y,X,outLXS.bs,'init',p+1);\n",
    "\n",
    "fanplotFS(outFS,'conflev',0.95,'flabstep',40);\n",
    "\n",
    "if prin==1\n",
    "    % print to postscript\n",
    "    print -depsc SPtmonitor.eps;\n",
    "end\n",
    "title('Figure 4.31 (right panel)')\n",
    "set(gcf,\"Name\",'Figure 4.31 (right panel)')"
   ],
   "outputs": []
  },
  {
   "cell_type": "markdown",
   "metadata": {},
   "source": [
    "\n",
    "## Create Figure 4.32 (with overlapping labels)\n",
    "\n",
    "Forward Search Monitoring of traditional tstat\n",
    ""
   ]
  },
  {
   "cell_type": "code",
   "execution_count": 7,
   "metadata": {},
   "source": [
    "[outFS]=FSReda(y,X,outLXS.bs,'init',p+1,'tstat','trad');\n",
    "fanplotFS(outFS,'ylimy',[-5 300],'tag','ploverl','xlimx',[5 120],'flabstep',40);\n",
    "\n",
    "if prin==1\n",
    "    % print to postscript\n",
    "    print -depsc SPtmonitortrad.eps;\n",
    "end\n",
    "title('Figure 4.32')\n",
    "set(gcf,\"Name\",'Figure 4.32')"
   ],
   "outputs": []
  },
  {
   "cell_type": "markdown",
   "metadata": {},
   "source": [
    "\n",
    "## Create Figure 4.33\n",
    "\n",
    "SP data Forward Search Monitoring of added tstat\n",
    ""
   ]
  },
  {
   "cell_type": "code",
   "execution_count": 8,
   "metadata": {},
   "source": [
    "figure\n",
    "[out]=FSRaddt(y,X,'plots',1,'nameX',{'X1','X2','X3' 'X4'},'lwdenv',2,'lwdt',2);\n",
    "title('Figure 4.33')\n",
    "set(gcf,\"Name\",'Figure 4.33')\n",
    "\n",
    "if prin==1\n",
    "    % print to postscript\n",
    "    print -depsc SPtmonitoradd.eps;\n",
    "end\n",
    "\n",
    "%InsideREADME"
   ],
   "outputs": []
}
 ],
 "metadata": {
  "kernelspec": {
   "display_name": "MATLAB (matlabkernel)",
   "language": "matlab",
   "name": "matlab"
  },
  "language_info": {
   "file_extension": ".m",
   "mimetype": "text/matlab",
   "name": "matlab",
   "nbconvert_exporter": "matlab",
   "pygments_lexer": "matlab",
   "version": "24.1.0.2453260"
  }
 },
 "nbformat": 4,
 "nbformat_minor": 4
}