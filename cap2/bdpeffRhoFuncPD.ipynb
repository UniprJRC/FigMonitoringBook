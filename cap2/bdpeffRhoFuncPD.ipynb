{
 "cells": [
  {
   "cell_type": "markdown",
   "metadata": {},
   "source": [
    "\n",
    "# <span style=\"color:rgb(213,80,0)\">Breakdown point and efficiency for PD link.</span>\n",
    "\n",
    "This file creates Figure 2.13.\n",
    "\n",
    "## Beginning of code\n",
    "\n",
    "Power divergence: breakdown point and efficiency as functions of alpha. Analysis of breakdown point and asymptotic efficiency at the normal distribution as a function of alpha in regression.\n",
    ""
   ]
  },
  {
   "cell_type": "code",
   "execution_count": 1,
   "metadata": {},
   "source": [
    "c=0.01:0.01:3;\n",
    "\n",
    "bdp=zeros(length(c), 1);\n",
    "eff=zeros(length(c), 1);\n",
    "for j=1:length(c)\n",
    "    [bdp(j),eff(j)]=PDc(c(j));\n",
    "end\n",
    "\n",
    "subplot(2,1,1)\n",
    "plot(c,bdp)\n",
    "xlabel(' $\\alpha$ ','Interpreter','Latex','FontSize',16)\n",
    "ylabel('Breakdown point','Interpreter','none')\n",
    "grid on\n",
    "subplot(2,1,2)\n",
    "plot(c,eff)\n",
    "xlabel(' $\\alpha$ ','Interpreter','Latex','FontSize',16)\n",
    "ylabel('Asymptotic efficiency','Interpreter','none')\n",
    "grid on\n",
    "prin=0;\n",
    "if prin==1\n",
    "    % print to postscript\n",
    "    print -depsc figs\\MD3.eps;\n",
    "end\n",
    "\n",
    "sgtitle('Figure 2.13')\n",
    "set(gcf,\"Name\",'Figure 2.13')\n",
    "\n",
    "%InsideREADME"
   ],
   "outputs": []
}
 ],
 "metadata": {
  "kernelspec": {
   "display_name": "MATLAB (matlabkernel)",
   "language": "matlab",
   "name": "matlab"
  },
  "language_info": {
   "file_extension": ".m",
   "mimetype": "text/matlab",
   "name": "matlab",
   "nbconvert_exporter": "matlab",
   "pygments_lexer": "matlab",
   "version": "24.1.0.2453260"
  }
 },
 "nbformat": 4,
 "nbformat_minor": 4
}