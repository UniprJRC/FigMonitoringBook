{
 "cells": [
  {
   "cell_type": "markdown",
   "metadata": {},
   "source": [
    "\n",
    "# <span style=\"color:rgb(213,80,0)\">Loyalty cards data.</span>\n",
    "\n",
    "This file creates Figures 6.15\\-6.16. Note that Figures 6.2\\-6.6 are created by file LoyaltyCards.m.\n",
    "\n",
    "## LD (Loyalty cards data)"
   ]
  },
  {
   "cell_type": "code",
   "execution_count": 1,
   "metadata": {},
   "source": [
    "load('loyalty.txt');\n",
    "y=loyalty(:,4); %#ok<SUSENS>\n",
    "X=loyalty(:,1:3);\n",
    "n=length(y);\n",
    "prin=0;"
   ],
   "outputs": []
  },
  {
   "cell_type": "markdown",
   "metadata": {},
   "source": [
    "\n",
    "## Create Figure 6.15"
   ]
  },
  {
   "cell_type": "code",
   "execution_count": 2,
   "metadata": {},
   "source": [
    "la=-1:0.5:1;\n",
    "[outFSRfan]=FSRfan(y,X,'plots',0,'init',round(n*0.3),'nsamp',10000,'la',la,'msg',0);\n",
    "[out5la]=fanBIC(outFSRfan);\n",
    "\n",
    "set(gcf,\"Name\",'Figure 6.15)')\n",
    "\n",
    "if prin==1\n",
    "    % print to postscript\n",
    "    print -depsc figs\\L2a.eps\n",
    "     print -depsc figs\\L2b.eps\n",
    "end"
   ],
   "outputs": []
  },
  {
   "cell_type": "markdown",
   "metadata": {},
   "source": [
    "\n",
    "## Create Figure 6.16\n",
    "\n",
    "BIC and AGI finer grid for la\n",
    ""
   ]
  },
  {
   "cell_type": "code",
   "execution_count": 3,
   "metadata": {},
   "source": [
    "la=-1:0.1:1;\n",
    "[outFSRfan]=FSRfan(y,X,'plots',0,'init',round(n*0.3),'nsamp',10000,'la',la,'msg',0);\n",
    "\n",
    "[out21la]=fanBIC(outFSRfan,'tag','pl_sco21');\n",
    "set(gcf,\"Name\",'Figure 6.16')\n",
    "\n",
    "if prin==1\n",
    "    % print to postscript\n",
    "    print -depsc figs\\L1.eps\n",
    "end\n",
    "\n",
    "%InsideREADME"
   ],
   "outputs": []
}
 ],
 "metadata": {
  "kernelspec": {
   "display_name": "MATLAB (matlabkernel)",
   "language": "matlab",
   "name": "matlab"
  },
  "language_info": {
   "file_extension": ".m",
   "mimetype": "text/matlab",
   "name": "matlab",
   "nbconvert_exporter": "matlab",
   "pygments_lexer": "matlab",
   "version": "24.1.0.2453260"
  }
 },
 "nbformat": 4,
 "nbformat_minor": 4
}