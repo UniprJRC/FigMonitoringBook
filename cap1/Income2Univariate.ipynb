{
 "cells": [
  {
   "cell_type": "markdown",
   "metadata": {},
   "source": [
    "\n",
    "# <span style=\"color:rgb(213,80,0)\">This file is referred to dataset Income2</span>\n",
    "\n",
    "Univariate analysis of the response for dataset Income2. It creates Figure 1.6 and Tables 1.3, 1.4\n",
    "\n",
    "## Data loading"
   ]
  },
  {
   "cell_type": "code",
   "execution_count": 1,
   "metadata": {},
   "source": [
    "clear\n",
    "close all\n",
    "load Income2;\n",
    "y=Income2{:,\"Income\"};\n",
    "X=Income2{:,1:end-1};\n",
    "\n",
    "% y and X in table format\n",
    "yt=Income2(:,end);\n",
    "Xt=Income2(:,1:end-1);\n",
    "Xytable=Income2;\n",
    "\n",
    "n=length(y);\n",
    "one=ones(n,1);\n",
    "% prin =\n",
    "prin=0;"
   ],
   "outputs": []
  },
  {
   "cell_type": "markdown",
   "metadata": {},
   "source": [
    "## Analysis of the score test\n",
    "\n",
    "Table 1.3\n",
    ""
   ]
  },
  {
   "cell_type": "code",
   "execution_count": 2,
   "metadata": {},
   "source": [
    "la=[-2  -1.5 -1 -0.5 0 1];\n",
    "out=Score(y,one, 'la',la);\n",
    "disp([la' out.Score])\n",
    "\n",
    "Score=out.Score;\n",
    "rownam=[\"-2\" \"-1.5\" \"Inverse\" \"Reciprocal square root\" \"Logarithmic\" \"None\"];\n",
    "colnam=[\"lambda\" \"Score test\"];\n",
    "\n",
    "ScoreT=array2table([la' Score],\"RowNames\",rownam,\"VariableNames\",colnam);\n",
    "format bank\n",
    "disp('Table 1.3')\n",
    "disp(ScoreT)"
   ],
   "outputs": []
  },
  {
   "cell_type": "markdown",
   "metadata": {},
   "source": [
    "## Compute statistics in the original and transformed scale\n",
    "\n",
    "Table 1.4 with lambda=1, lambda=-1 or lambda=-1.5\n",
    ""
   ]
  },
  {
   "cell_type": "code",
   "execution_count": 3,
   "metadata": {},
   "source": [
    "ysor=sort(y);\n",
    "\n",
    "alpha=0.10;\n",
    "m=floor((n-1)*alpha);\n",
    "meanTri=mean(ysor(m+1:n-m));\n",
    "mea=mean(y);\n",
    "medi=median(y);\n",
    "sta=std(y);\n",
    "consfact=1/norminv(0.75);\n",
    "madn=consfact*mad(y,1);\n",
    "\n",
    "loc=[mea; meanTri; medi; sta; madn];\n",
    "yori=y;\n",
    "\n",
    "laj=-1;\n",
    "y1=100000*(yori.^laj);\n",
    "\n",
    "ysor=sort(y1);\n",
    "alpha=0.10;\n",
    "m=floor((n-1)*alpha);\n",
    "meanTri1=mean(ysor(m+1:n-m));\n",
    "mea1=mean(y1);\n",
    "medi1=median(y1);\n",
    "sta1=std(y1);\n",
    "madn1=consfact*mad(y1,1);\n",
    "\n",
    "loc1=[mea1; meanTri1; medi1; sta1; madn1];\n",
    "\n",
    "laj=-1.5;\n",
    "y1=10000000*(yori.^laj);\n",
    "ysor=sort(y1);\n",
    "meanTri1=mean(ysor(m+1:n-m));\n",
    "mea1=mean(y1);\n",
    "medi1=median(y1);\n",
    "sta1=std(y1);\n",
    "madn1=consfact*mad(y1,1);\n",
    "\n",
    "loc2=[mea1; meanTri1; medi1; sta1; madn1];\n",
    "\n",
    "LOC=[loc loc1 loc2];\n",
    "\n",
    "rn=[\"Mean\" \"Trimmed mean\" \"Median\" \"Standard Deviation\" \"MADN\"];\n",
    "vn=[\"Original data\" \"Inverse transf\" \"la=-1.5\"];\n",
    "LOCt=array2table(LOC,'RowNames',rn,'VariableNames',vn);\n",
    "format bank\n",
    "disp(LOCt)"
   ],
   "outputs": []
  },
  {
   "cell_type": "markdown",
   "metadata": {},
   "source": [
    "## Create Figure 1.6 fanplot\n",
    "\n",
    "Fanplot using just the intercept\n",
    ""
   ]
  },
  {
   "cell_type": "code",
   "execution_count": 4,
   "metadata": {},
   "source": [
    "outFSRfanUNI=FSRfan(y,one,'intercept',0,'la',[-2 -1.5 -1 -0.5],'tag','fanplotnoExpl');\n",
    "title('Figure 1.6')\n",
    "if prin==1\n",
    "    % print to postscript\n",
    "    print -depsc fanIncome2.eps;\n",
    "end\n",
    "\n",
    "%InsideREADME"
   ],
   "outputs": []
}
 ],
 "metadata": {
  "kernelspec": {
   "display_name": "MATLAB (matlabkernel)",
   "language": "matlab",
   "name": "matlab"
  },
  "language_info": {
   "file_extension": ".m",
   "mimetype": "text/matlab",
   "name": "matlab",
   "nbconvert_exporter": "matlab",
   "pygments_lexer": "matlab",
   "version": "23.2.0.2428915"
  }
 },
 "nbformat": 4,
 "nbformat_minor": 4
}