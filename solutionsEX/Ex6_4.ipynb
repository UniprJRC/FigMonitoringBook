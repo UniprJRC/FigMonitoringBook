{
 "cells": [
  {
   "cell_type": "markdown",
   "metadata": {},
   "source": [
    "\n",
    "# <span style=\"color:rgb(213,80,0)\">Exercise 6.4: Transformed data and F test.</span>\n",
    "\n",
    "This file creates Figures A.19 and A.20\n",
    "\n",
    "## Beginning of code\n",
    "\n",
    "Balance sheets data\n",
    ""
   ]
  },
  {
   "cell_type": "code",
   "execution_count": 1,
   "metadata": {},
   "source": [
    "XX=load('BalanceSheets.txt');\n",
    "% Define X and y\n",
    "y=XX(:,6);\n",
    "X=XX(:,1:5);\n",
    "n=length(y);\n",
    "prin=0;"
   ],
   "outputs": []
  },
  {
   "cell_type": "markdown",
   "metadata": {},
   "source": [
    "## Transoform the data using lambda_P=0.5 and lambda_N=1.5"
   ]
  },
  {
   "cell_type": "code",
   "execution_count": 2,
   "metadata": {},
   "source": [
    "y0515=normYJpn(y, [], [0.5, 1.5], 'inverse',false, 'Jacobian', false);\n",
    "\n",
    "Y=[y y0515 ];\n",
    "\n",
    "% Initialize matrix which will contain the unbiased F test\n",
    "init=1000;\n",
    "FtestUnbiased=[(init:n)' zeros(n-init+1,1)];\n",
    "\n",
    "for j=1:size(Y,2)\n",
    "\n",
    "[outINI]=LXS(Y(:,j),X,'nsamp',1000);\n",
    "outEDA=FSReda(Y(:,j),X,outINI.bs,'init',init);\n",
    "\n",
    "% Store biased F test in the search\n",
    "BB=outEDA.BB;\n",
    "for mm=init:n\n",
    "    % Indexes of the units forming subset at step mm\n",
    "    bsb=BB(:,mm-init+1);\n",
    "    bsb=bsb(~isnan(bsb));\n",
    "    Xb=X(bsb,:);\n",
    "    yb=Y(bsb,j);\n",
    "    % Compute and store F test based on Xb and yb\n",
    "    regs=regstats(yb,Xb,\"linear\",\"fstat\");\n",
    "    FtestUnbiased(mm-init+1,j+1)=regs.fstat.f;\n",
    "end\n",
    "end\n",
    "\n",
    "% Correct the F test\n",
    "Sco=FtestUnbiased;\n",
    "mm=Sco(:,1);\n",
    "a=norminv(0.5*(1+mm/n));\n",
    "corr=1-2*(n./mm).*a.*normpdf(a);\n",
    "corr(end)=1;\n",
    "Sco1=Sco;\n",
    "Sco1(:,2:3)=Sco1(:,2:3).*corr;\n",
    "\n",
    "out=struct;\n",
    "out.Tdel=Sco1;\n",
    "out.y=y;\n",
    "out.X=X;\n",
    "nameX=[\"\\lambda_P=1 \\lambda_N=1\" \"\\lambda_P=0.5 \\lambda_N=1.5\"];\n",
    "out.la=nameX;\n",
    "out.class='FSRaddt';"
   ],
   "outputs": []
  },
  {
   "cell_type": "markdown",
   "metadata": {},
   "source": [
    "## Create Figure A.19"
   ]
  },
  {
   "cell_type": "code",
   "execution_count": 3,
   "metadata": {},
   "source": [
    "fanplotFS(out,\"ylimy\",[200 520])\n",
    "title('')\n",
    "ylabel('F test')\n",
    "if prin==1\n",
    "    % print to postscript\n",
    "    print -depsc BSmonitorFtest.eps;\n",
    "end\n",
    "\n",
    "title('Figure A.19')\n",
    "set(gcf,\"Name\",'Figure A.19')"
   ],
   "outputs": []
  },
  {
   "cell_type": "markdown",
   "metadata": {},
   "source": [
    "## Prepare the input for Figure A.20\n",
    "\n",
    "Outlier detection in the transformed scale laP=0.5 and laN=1.5\n",
    ""
   ]
  },
  {
   "cell_type": "code",
   "execution_count": 4,
   "metadata": {},
   "source": [
    "outf=FSR(Y(:,2),X,'plots',0);"
   ],
   "outputs": []
  },
  {
   "cell_type": "markdown",
   "metadata": {},
   "source": [
    "## Create Figure A.20"
   ]
  },
  {
   "cell_type": "code",
   "execution_count": 5,
   "metadata": {},
   "source": [
    "figure\n",
    "j=1;\n",
    "nr=2; nc=1;\n",
    "h1=subplot(nr,nc,j);\n",
    "mdl=fitlm(X,Y(:,j));\n",
    "res=mdl.Residuals{:,3};\n",
    "qqplotFS(res,'X',X,'plots',1,'h',h1,'conflev',0.99);\n",
    "title(nameX(j))\n",
    "\n",
    "j=2;\n",
    "h2=subplot(nr,nc,j);\n",
    "mdl=fitlm(X,Y(:,j),'Exclude',outf.outliers);\n",
    "\n",
    "% Plot residuals\n",
    "good=setdiff(1:n,outf.outliers);\n",
    "Xg=X(good,:);\n",
    "yg=Y(good,j);\n",
    "resg=mdl.Residuals{good,3};\n",
    "qqplotFS(resg,'X',Xg,'plots',1,'h',h2,'conflev',0.99);\n",
    "title(nameX(j))\n",
    "\n",
    "sgtitle('Figure A.20')\n",
    "set(gcf,\"Name\",'Figure A.20')\n",
    "\n",
    "if prin==1\n",
    "    % print to postscript\n",
    "    print -depsc BSqqplots.eps;\n",
    "end\n",
    "\n",
    "%InsideREADME"
   ],
   "outputs": []
}
 ],
 "metadata": {
  "kernelspec": {
   "display_name": "MATLAB (matlabkernel)",
   "language": "matlab",
   "name": "matlab"
  },
  "language_info": {
   "file_extension": ".m",
   "mimetype": "text/matlab",
   "name": "matlab",
   "nbconvert_exporter": "matlab",
   "pygments_lexer": "matlab",
   "version": "23.2.0.2428915"
  }
 },
 "nbformat": 4,
 "nbformat_minor": 4
}