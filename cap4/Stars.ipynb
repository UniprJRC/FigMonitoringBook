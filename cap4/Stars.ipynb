{
 "cells": [
  {
   "cell_type": "markdown",
   "metadata": {},
   "source": [
    "\n",
    "# <span style=\"color:rgb(213,80,0)\">Stars data.</span>\n",
    "\n",
    "This file creates Figures 4.1-4.4, 4.9-4.11\n",
    "\n",
    "## Beginning of code"
   ]
  },
  {
   "cell_type": "code",
   "execution_count": 1,
   "metadata": {},
   "source": [
    "clearvars;\n",
    "close all;\n",
    "prin=0;\n",
    "stars=load('stars.txt');\n",
    "y=stars(:,2);\n",
    "X=stars(:,1);\n",
    "n=length(y);"
   ],
   "outputs": []
  },
  {
   "cell_type": "markdown",
   "metadata": {},
   "source": [
    "## Create Figure 4.1"
   ]
  },
  {
   "cell_type": "code",
   "execution_count": 2,
   "metadata": {},
   "source": [
    "plot(X,y,'o');\n",
    "xlabel('Log effective surface temperature')\n",
    "ylabel('Log light intensity')\n",
    "set(gca,'XDir','reverse');\n",
    "\n",
    "plot(X,y,'o','MarkerFaceColor','black')\n",
    "set(gca,'FontSize',12)\n",
    "\n",
    "xlabel('Log temperature)')\n",
    "ylabel('Log light intensity')\n",
    "sgtitle('Figure 4.1')\n",
    "set(gcf,\"Name\",'Figure 4.1')"
   ],
   "outputs": []
  },
  {
   "cell_type": "markdown",
   "metadata": {},
   "source": [
    "## Create Figure 4.2\n",
    "\n",
    "Automatic outlier detection process\n",
    ""
   ]
  },
  {
   "cell_type": "code",
   "execution_count": 3,
   "metadata": {},
   "source": [
    "[out]=FSR(y,X,'plots',1);\n",
    "pl_yX=findobj(0, 'type', 'figure','tag','fsr_yXplot');\n",
    "close(pl_yX(end))\n",
    "\n",
    "pl_fsr=findobj(0, 'type', 'figure','tag','pl_fsr');\n",
    "figure(pl_fsr(end))\n",
    "xlabel('Subset size m')\n",
    "ylabel(\"MDR in original coordinates\")\n",
    "\n",
    "title('Figure 4.2')\n",
    "set(gcf,\"Name\",'Figure 4.2')\n",
    "\n",
    "if prin==1\n",
    "    % print to postscript\n",
    "    print -depsc figs\\STdetails.eps;\n",
    "end"
   ],
   "outputs": []
  },
  {
   "cell_type": "markdown",
   "metadata": {},
   "source": [
    "## Create Figure 4.3"
   ]
  },
  {
   "cell_type": "code",
   "execution_count": 4,
   "metadata": {},
   "source": [
    "quan=[0.01 0.5 0.99 0.999 0.9999 0.99999];\n",
    "plots=struct;\n",
    "plots.conflev=quan;\n",
    "plots.LineWidth=2;\n",
    "plots.LineWidthEnv=2;\n",
    "MDRinv=FSRinvmdr(out.mdr,size(X,2)+1,'plots',plots);\n",
    "xlim([3 length(y)])\n",
    "\n",
    "if prin==1\n",
    "    % print to postscript\n",
    "    print -depsc figs\\STdetailsNC.eps;\n",
    "end\n",
    "title('Figure 4.3')\n",
    "set(gcf,\"Name\",'Figure 4.3')"
   ],
   "outputs": []
  },
  {
   "cell_type": "markdown",
   "metadata": {},
   "source": [
    "## Create Figure 4.4\n",
    "\n",
    "Resuperimposing envelopes using mdr coordinates and normal coordinates at particular steps\n",
    ""
   ]
  },
  {
   "cell_type": "code",
   "execution_count": 5,
   "metadata": {},
   "source": [
    "n0=[42 43 44];\n",
    "ninv=norminv(quan);\n",
    "lwdenv=2;\n",
    "supn0=max(n0);\n",
    "\n",
    "figure;\n",
    "ij=0;\n",
    "for jn0=n0\n",
    "    ij=ij+1;\n",
    "    [MDRinv] = FSRinvmdr(out.mdr,2,'n',jn0);\n",
    "    % Plot for each step of the fwd search the values of mdr translated in\n",
    "    % Plot for each step of the fwd search the values of mdr translated in\n",
    "    % terms of normal quantiles\n",
    "    subplot(2,2,ij)\n",
    "    plot(MDRinv(:,1),norminv(MDRinv(:,2)),'LineWidth',2)\n",
    "    xlim([0 supn0])\n",
    "    v=axis;\n",
    "    line(v(1:2)',[ninv;ninv],'color','g','LineWidth',lwdenv,'LineStyle','--','Tag','env');\n",
    "    text(v(1)*ones(length(quan),1),ninv',strcat(num2str(100*quan'),'%'));\n",
    "    line(MDRinv(:,1),norminv(MDRinv(:,2)),'LineWidth',2)\n",
    "    title(['Resuperimposed envelope n*=' num2str(jn0)]);\n",
    "end\n",
    "\n",
    "if prin==1\n",
    "    % print to postscript\n",
    "    print -depsc STresuperNC.eps;\n",
    "end\n",
    "sgtitle('Figure 4.4')\n",
    "set(gcf,\"Name\",'Figure 4.4')"
   ],
   "outputs": []
  },
  {
   "cell_type": "markdown",
   "metadata": {},
   "source": [
    "## Create Figure 4.9\n",
    "\n",
    "Compare different fits\n",
    ""
   ]
  },
  {
   "cell_type": "code",
   "execution_count": 6,
   "metadata": {},
   "source": [
    "figure\n",
    "lwd=2;\n",
    "\n",
    "plot(X,y,'o','MarkerFaceColor','black')\n",
    "set(gca,'FontSize',12)\n",
    "\n",
    "xlabel('Log(effective surface temperature)')\n",
    "ylabel('Log(light intensity)')\n",
    "\n",
    "% FS line\n",
    "[out]=FSR(y,X,'plots',0);\n",
    "\n",
    "x1=min(X);\n",
    "x2=max(X);\n",
    "y1=out.beta(1)+out.beta(2)*x1;\n",
    "y2=out.beta(1)+out.beta(2)*x2;\n",
    "line([x1;x2],[y1;y2],'LineStyle','--','LineWidth',lwd,'Color','m')\n",
    "\n",
    "% S estimator with bdp=0.5\n",
    "rhofunc='bisquare';\n",
    "[outS]=Sreg(y,X,'rhofunc',rhofunc,'bdp',0.5,'conflev',1-0.01/n);\n",
    "\n",
    "x1=min(X);\n",
    "x2=max(X);\n",
    "y1=outS.beta(1)+outS.beta(2)*x1;\n",
    "y2=outS.beta(1)+outS.beta(2)*x2;\n",
    "line([x1;x2],[y1;y2],'LineStyle','--','LineWidth',lwd)\n",
    "\n",
    "% MM085 = MM estimator with efficiency set to 0.85\n",
    "[outMM]=MMregcore(y,X,outS.beta,outS.scale,'eff',0.85,'rhofunc',rhofunc);\n",
    "x1=min(X);\n",
    "x2=max(X);\n",
    "y1=outMM.beta(1)+outMM.beta(2)*x1;\n",
    "y2=outMM.beta(1)+outMM.beta(2)*x2;\n",
    "line([x1;x2],[y1;y2],'LineStyle','-.','Color','green','LineWidth',lwd)\n",
    "\n",
    "% MM095 = MM estimator with efficiency set to 0.95\n",
    "[outMM]=MMregcore(y,X,outS.beta,outS.scale,'eff',0.95,'rhofunc',rhofunc);\n",
    "x1=min(X);\n",
    "x2=max(X);\n",
    "y1=outMM.beta(1)+outMM.beta(2)*x1;\n",
    "y2=outMM.beta(1)+outMM.beta(2)*x2;\n",
    "line([x1;x2],[y1;y2],'LineStyle','-.','Color','red','LineWidth',lwd)\n",
    "\n",
    "%  LTS with bdp=0.5\n",
    "[outLXS]=LXS(y,X,'lms',0);\n",
    "y1=outLXS.beta(1)+outLXS.beta(2)*x1;\n",
    "y2=outLXS.beta(1)+outLXS.beta(2)*x2;\n",
    "line([x1;x2],[y1;y2],'LineStyle',':','Color','black','LineWidth',lwd+2)\n",
    "\n",
    "% LS: traditional regression\n",
    "whichstats = {'beta','yhat','r','rsquare'};\n",
    "stats = regstats(y, X,'linear',whichstats);\n",
    "y1=stats.beta(1)+stats.beta(2)*x1;\n",
    "y2=stats.beta(1)+stats.beta(2)*x2;\n",
    "line([x1;x2],[y1;y2],'LineStyle','-','LineWidth',3)\n",
    "xlim([x1 x2])\n",
    "\n",
    "ylim([min(y)-0.1 max(y)+0.1])\n",
    "legend('Data','FS','S','MM085','MM095','LTS','LS')\n",
    "sel=[ 7 9 11 20 30 34]';\n",
    "text(X(sel)+0.05,y(sel),num2str(sel),'FontSize',16)\n",
    "\n",
    "sgtitle('Figure 4.9')\n",
    "set(gcf,\"Name\",'Figure 4.9')\n",
    "\n",
    "if prin==1\n",
    "    % print to postscript\n",
    "    print -depsc starsdatawithrobfit.eps;\n",
    "end"
   ],
   "outputs": []
  },
  {
   "cell_type": "markdown",
   "metadata": {},
   "source": [
    "## Create Figure 4.10\n",
    "\n",
    "Monitoring S residuals\n",
    ""
   ]
  },
  {
   "cell_type": "code",
   "execution_count": 7,
   "metadata": {},
   "source": [
    "[outS]=Sregeda(y,X,'msg',0);\n",
    "sel=[11 20 30 34  7 9]';\n",
    "fground.LineStyle={'-.','-.','-.','-.','--','--'};\n",
    "fground.Color={'r';'r';'r';'r';'k';'k'};\n",
    "fground.flabstep=[0.01 0.5];\n",
    "fground.funit=sel;\n",
    "fground.FontSize=12;\n",
    "standard=struct;\n",
    "standard.laby='S residuals bisquare \\rho function';\n",
    "resfwdplot(outS,'standard',standard,'fground',fground, ...\n",
    "    'corres',true,'tag','Sres');\n",
    "\n",
    "if prin==1\n",
    "    % print to postscript\n",
    "    print -depsc figs\\Sres.eps;\n",
    "end\n",
    "sgtitle('Figure 4.10')\n",
    "set(gcf,\"Name\",'Figure 4.10')"
   ],
   "outputs": []
  },
  {
   "cell_type": "markdown",
   "metadata": {},
   "source": [
    "## Create Figure 4.11\n",
    "\n",
    "Monitoring MM residuals\n",
    ""
   ]
  },
  {
   "cell_type": "code",
   "execution_count": 8,
   "metadata": {},
   "source": [
    "[outMM]=MMregeda(y,X);\n",
    "\n",
    "fground=struct;\n",
    "sel=[11 20 30 34  7 9]';\n",
    "fground.LineStyle={'-.','-.','-.','-.','--','--'};\n",
    "fground.Color={'r';'r';'r';'r';'k';'k'};\n",
    "fground.flabstep=[0.5 0.99];\n",
    "fground.funit=sel;\n",
    "fground.FontSize=12;\n",
    "standard.laby='MM residuals bisquare \\rho function';\n",
    "resfwdplot(outMM,'standard',standard,'fground',fground, ...\n",
    "    'corres',true,'tag','MMres');\n",
    "\n",
    "prin=0;\n",
    "if prin==1\n",
    "    % print to postscript\n",
    "    print -depsc figs\\MMres.eps;\n",
    "end\n",
    "\n",
    "sgtitle('Figure 4.11')\n",
    "set(gcf,\"Name\",'Figure 4.11')\n",
    "\n",
    "%InsideREADME"
   ],
   "outputs": []
}
 ],
 "metadata": {
  "kernelspec": {
   "display_name": "MATLAB (matlabkernel)",
   "language": "matlab",
   "name": "matlab"
  },
  "language_info": {
   "file_extension": ".m",
   "mimetype": "text/matlab",
   "name": "matlab",
   "nbconvert_exporter": "matlab",
   "pygments_lexer": "matlab",
   "version": "23.2.0.2428915"
  }
 },
 "nbformat": 4,
 "nbformat_minor": 4
}