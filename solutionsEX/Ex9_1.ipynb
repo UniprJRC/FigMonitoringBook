{
 "cells": [
  {
   "cell_type": "markdown",
   "metadata": {},
   "source": [
    "\n",
    "# <span style=\"color:rgb(213,80,0)\">Exercise 9.1</span>\n",
    "\n",
    "Analysis of the reduced logged ozone data using RAVAS This file creates Figures A.56, A.57 and Table A.20\n",
    "\n",
    "## Load Ozone data (reduced data)"
   ]
  },
  {
   "cell_type": "code",
   "execution_count": 1,
   "metadata": {},
   "source": [
    "X=load('ozone.txt');\n",
    "% Transform the response using logs\n",
    "X(:,end)=log(X(:,end));\n",
    "% Add a time trend\n",
    "X=[(-40:39)' X];\n",
    "% Define y\n",
    "y=X(:,end);\n",
    "% Define X\n",
    "X=X(:,1:end-1);\n",
    "labels={'Time','1','2','3','4','5','6','7','8'};\n",
    "% Select Time + variables 4,5, and 6\n",
    "sel=[1 [ 4 5 6]+1];\n",
    "Xsel=X(:,sel);\n",
    "nameX=\"X\"+string(labels(sel));\n",
    "nameXy=[nameX \"y\"];\n",
    "nameXy(1)=\"Time\";\n",
    "\n",
    "prin=0;"
   ],
   "outputs": []
  },
  {
   "cell_type": "markdown",
   "metadata": {},
   "source": [
    "## Prepare input for Figures A.56 and A.57"
   ]
  },
  {
   "cell_type": "code",
   "execution_count": 2,
   "metadata": {},
   "source": [
    "out=avasms(y,Xsel,'plots',0);\n",
    "j=1;\n",
    "outjm=out{j,\"Out\"};\n",
    "outm=outjm{:};"
   ],
   "outputs": []
  },
  {
   "cell_type": "markdown",
   "metadata": {},
   "source": [
    "## Create Figures A.56 and A.57"
   ]
  },
  {
   "cell_type": "code",
   "execution_count": 3,
   "metadata": {},
   "source": [
    "aceplot(outm,'VarNames',nameXy)\n",
    "pl_ty=findobj(0, 'type', 'figure','tag','pl_ty');\n",
    "figure(pl_ty(1))\n",
    "sgtitle('Figure A.56')\n",
    "set(gcf,\"Name\",'Figure A.56')\n",
    "\n",
    "pl_tX=findobj(0, 'type', 'figure','tag','pl_tX');\n",
    "figure(pl_tX(1))\n",
    "sgtitle('Figure A.57')\n",
    "set(gcf,\"Name\",'Figure A.57')\n",
    "\n",
    "disp(\"number of outliers found\")\n",
    "disp(length(outm.outliers))\n",
    "\n",
    "if prin==1\n",
    "    % print to postscript\n",
    "    print -depsc ozoneredRAVAS.eps;\n",
    "      print -depsc ozoneredRAVAStX.eps;\n",
    "end"
   ],
   "outputs": []
  },
  {
   "cell_type": "markdown",
   "metadata": {},
   "source": [
    "## Create Table A.20"
   ]
  },
  {
   "cell_type": "code",
   "execution_count": 4,
   "metadata": {},
   "source": [
    "outLM=fitlm(outm.tX,outm.ty,'Exclude',outm.outliers,'VarNames',nameXy);\n",
    "disp(\"Table A.20\")\n",
    "disp(outLM)\n",
    "\n",
    "%InsideREADME"
   ],
   "outputs": []
}
 ],
 "metadata": {
  "kernelspec": {
   "display_name": "MATLAB (matlabkernel)",
   "language": "matlab",
   "name": "matlab"
  },
  "language_info": {
   "file_extension": ".m",
   "mimetype": "text/matlab",
   "name": "matlab",
   "nbconvert_exporter": "matlab",
   "pygments_lexer": "matlab",
   "version": "23.2.0.2428915"
  }
 },
 "nbformat": 4,
 "nbformat_minor": 4
}