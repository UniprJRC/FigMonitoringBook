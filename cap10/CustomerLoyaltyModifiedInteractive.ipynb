{
 "cells": [
  {
   "cell_type": "markdown",
   "metadata": {},
   "source": [
    "\n",
    "# <span style=\"color:rgb(213,80,0)\">Modified Customer Loyalty dataset (interactive part).</span>\n",
    "\n",
    "It creates Figures 10.37 \\-\\-\\-\\- 10.46 and Table 10.7\n",
    "\n",
    "## Data loading"
   ]
  },
  {
   "cell_type": "code",
   "execution_count": 1,
   "metadata": {},
   "source": [
    "close all\n",
    "clear\n",
    "load ConsLoyaltyRet.mat\n",
    "Xytable=ConsLoyaltyRet(:,2:end);\n",
    "nameXy=Xytable.Properties.VariableNames;\n",
    "nameX=nameXy(1:end-1);\n",
    "X=Xytable{:,1:end-1};\n",
    "y=Xytable{:,end};\n",
    "ytra=sqrt(y);\n",
    "n=length(y);\n",
    "\n",
    "% Contaminate the data\n",
    "ss=Xytable.Price==10 & Xytable.NegativePublicity<0.2;\n",
    "kk=3;\n",
    "y(ss)=y(ss)-kk;\n",
    "Xytable{ss,end}= Xytable{ss,end}-kk;"
   ],
   "outputs": []
  },
  {
   "cell_type": "markdown",
   "metadata": {},
   "source": [
    "## FS analysis with brushing"
   ]
  },
  {
   "cell_type": "code",
   "execution_count": 2,
   "metadata": {},
   "source": [
    "[outLXS]=LXS(y,X,'nsamp',100000);\n",
    "% Forward Search\n",
    "[out]=FSReda(y,X,outLXS.bs);\n",
    "\n",
    "resfwdplot(out,'databrush',1,'datatooltip',0)\n",
    "if prin==1\n",
    "    % print to postscript\n",
    "    print -depsc figs\\modCL3.eps;\n",
    "    print -depsc figs\\modCL4.eps;\n",
    "end\n",
    "\n",
    "%InsideREADME"
   ],
   "outputs": []
}
 ],
 "metadata": {
  "kernelspec": {
   "display_name": "MATLAB (matlabkernel)",
   "language": "matlab",
   "name": "matlab"
  },
  "language_info": {
   "file_extension": ".m",
   "mimetype": "text/matlab",
   "name": "matlab",
   "nbconvert_exporter": "matlab",
   "pygments_lexer": "matlab",
   "version": "24.1.0.2628055"
  }
 },
 "nbformat": 4,
 "nbformat_minor": 4
}