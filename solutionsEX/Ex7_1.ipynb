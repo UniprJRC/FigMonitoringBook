{
 "cells": [
  {
   "cell_type": "markdown",
   "metadata": {},
   "source": [
    "\n",
    "# <span style=\"color:rgb(213,80,0)\">Exercise 7.1</span>\n",
    "\n",
    "New updated transformed values in AVAS This file creates Figure A.35 and Table A.17\n",
    "\n",
    "## Beginning of code"
   ]
  },
  {
   "cell_type": "code",
   "execution_count": 1,
   "metadata": {},
   "source": [
    "prin=0;\n",
    "\n",
    "divisor=9.5;\n",
    "x = (0:pi/divisor:pi)';\n",
    "y = sin(x);\n",
    "X=x;\n",
    "y=exp(y);\n",
    "scatter(x,y)\n",
    "n=length(y);\n",
    "\n",
    "if prin==1\n",
    "    % print to postscript\n",
    "    print -depsc ctsubxy.eps;\n",
    "end"
   ],
   "outputs": []
  },
  {
   "cell_type": "markdown",
   "metadata": {},
   "source": [
    "## Create Table A.17"
   ]
  },
  {
   "cell_type": "code",
   "execution_count": 2,
   "metadata": {},
   "source": [
    "oldValuestyhat=(y-mean(y))/std(y,1);\n",
    "updatedValuestyhatTfalse=ctsub(yhatord,v,oldValuestyhat,false);\n",
    "updatedValuestyhatTtrue=ctsub(yhatord,v,oldValuestyhat,true);\n",
    "\n",
    "names=[\"Old values tyhat\" \"Updated values tyhat trapeziod=false\" ...\n",
    "    \"Updated values tyhat trapeziod=true\"];\n",
    "oldAndNew=[oldValuestyhat updatedValuestyhatTfalse updatedValuestyhatTtrue];\n",
    "oldAndNewT=array2table(oldAndNew,\"VariableNames\",names);\n",
    "disp('Table A.17')\n",
    "disp(oldAndNewT)"
   ],
   "outputs": []
  },
  {
   "cell_type": "markdown",
   "metadata": {},
   "source": [
    "## Create Figure A.35\n",
    "\n",
    "load v= reciprocal of smoothed residuals load yhatord = sorted fitted values\n",
    ""
   ]
  },
  {
   "cell_type": "code",
   "execution_count": 3,
   "metadata": {},
   "source": [
    "load wsctsub.mat\n",
    "\n",
    "plot(yhatord,v,'LineWidth',2)\n",
    "hold('on')\n",
    "stem(yhatord,v)\n",
    "scatter(oldValuestyhat,zeros(n,1),'black','filled')\n",
    "set(gca,\"XTickLabel\",'');\n",
    "yhatstr=\" $\\widehat{ty}_{[\"+ string((1:(n-1))') + \"]}^{(1)}$ \";\n",
    "text(yhatord(1:n-1),zeros(n-1,1)-0.7,yhatstr,'Interpreter','latex', ...\n",
    "    'FontSize',16,'VerticalAlignment','baseline','HorizontalAlignment','left')\n",
    "\n",
    "yhatstr10=\" $\\widehat{ty}_{[\"+ string(n) + \"]}^{(1)}$ \";\n",
    "text(yhatord(n)+0.03,zeros(1,1)-0.7,yhatstr10,'Interpreter','latex', ...\n",
    "    'FontSize',16,'VerticalAlignment','baseline','HorizontalAlignment','left')\n",
    "\n",
    "tyhatstr=\" $\\widehat{ty}_{\"+ string((1:n)') + \"}^{(0)}$ \";\n",
    "text(oldValuestyhat,zeros(n,1)+0.8,tyhatstr,'Interpreter','latex', ...\n",
    "    'FontSize',16,'VerticalAlignment','top','HorizontalAlignment','left')\n",
    "vstr=\" $v_{\"+ string((1:n)') + \"}$ \";\n",
    "\n",
    "text(yhatord,v,vstr,'Interpreter','latex', ...\n",
    "    'FontSize',16,'VerticalAlignment','top','HorizontalAlignment','left')\n",
    "xlabel('Ordered fitted values','FontSize',14)\n",
    "ylabel('Reciprocal of smoothed residuals ( $v$ )','Interpreter','latex', ...\n",
    "    'FontName','Courier New','FontSize',16)\n",
    "vec_pos = get(get(gca, 'XLabel'), 'Position');\n",
    "set(get(gca, 'XLabel'), 'Position', vec_pos + [0 -0.5 0]);\n",
    "set(gca,\"Xtick\",'')\n",
    "if prin==1\n",
    "    % print to postscript\n",
    "    print -depsc ctsub.eps;\n",
    "end\n",
    "\n",
    "%InsideREADME"
   ],
   "outputs": []
}
 ],
 "metadata": {
  "kernelspec": {
   "display_name": "MATLAB (matlabkernel)",
   "language": "matlab",
   "name": "matlab"
  },
  "language_info": {
   "file_extension": ".m",
   "mimetype": "text/matlab",
   "name": "matlab",
   "nbconvert_exporter": "matlab",
   "pygments_lexer": "matlab",
   "version": "23.2.0.2428915"
  }
 },
 "nbformat": 4,
 "nbformat_minor": 4
}