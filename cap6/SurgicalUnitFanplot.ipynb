{
 "cells": [
  {
   "cell_type": "markdown",
   "metadata": {},
   "source": [
    "\n",
    "# <span style=\"color:rgb(213,80,0)\">Surgical Unit data.</span>\n",
    "\n",
    "This file creates Figure 6.1.\n",
    "\n",
    "## Preapare input for Figure 6.1"
   ]
  },
  {
   "cell_type": "code",
   "execution_count": 1,
   "metadata": {},
   "source": [
    "close all;\n",
    "clearvars;\n",
    "load('hospitalFS.txt');\n",
    "y=exp(hospitalFS(:,5));\n",
    "X=hospitalFS(:,1:4);\n",
    "\n",
    "n=length(y);\n",
    "prin=0;\n",
    "[outFSRfan]=FSRfan(y,X,'plots',0,'init',round(n*0.2),'nsamp',100000,'msg',0,'family','YJ');"
   ],
   "outputs": []
  },
  {
   "cell_type": "markdown",
   "metadata": {},
   "source": [
    "\n",
    "## Create Figure 6.1"
   ]
  },
  {
   "cell_type": "code",
   "execution_count": 2,
   "metadata": {},
   "source": [
    "mm=round(0.6*n);\n",
    "fanplotFS(outFSRfan,'conflev',[0.99 0.9999],'addxline',mm)\n",
    "\n",
    "title('Figure 6.1')\n",
    "set(gcf,\"Name\",'Figure 6.1')\n",
    "\n",
    "if prin==1\n",
    "    % print to postscript\n",
    "    print -depsc figs\\H1.eps\n",
    "end\n",
    "\n",
    "%InsideREADME"
   ],
   "outputs": []
}
 ],
 "metadata": {
  "kernelspec": {
   "display_name": "MATLAB (matlabkernel)",
   "language": "matlab",
   "name": "matlab"
  },
  "language_info": {
   "file_extension": ".m",
   "mimetype": "text/matlab",
   "name": "matlab",
   "nbconvert_exporter": "matlab",
   "pygments_lexer": "matlab",
   "version": "24.1.0.2453260"
  }
 },
 "nbformat": 4,
 "nbformat_minor": 4
}