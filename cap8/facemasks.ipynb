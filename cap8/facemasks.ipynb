{
 "cells": [
  {
   "cell_type": "code",
   "execution_count": 1,
   "metadata": {},
   "source": [
    "% Facemasks: 352 imports of FFP2 and FFP3 masks (product 6307909810) into the European\n",
    "% Union extracted in a day of November.\n",
    "% This file creates Figures 8.19-8.20, 8.22, 8.26-8.28."
   ],
   "outputs": []
  },
  {
   "cell_type": "markdown",
   "metadata": {},
   "source": [
    "## Data loading"
   ]
  },
  {
   "cell_type": "code",
   "execution_count": 2,
   "metadata": {},
   "source": [
    "load facemasks.mat\n",
    "y=facemasks.V;\n",
    "X=[facemasks.W facemasks.SU];\n",
    "\n",
    "n = size(y,1);\n",
    "prin=0;\n",
    "gcp();"
   ],
   "outputs": [
    {
     "data": {
      "text/plain": [
       "Starting parallel pool (parpool) using the 'Threads' profile ...\n",
       "Connected to parallel pool with 8 workers."
      ]
     },
     "metadata": {},
     "execution_count":  2,
     "output_type": "execute_result"
    }
   ]
  },
  {
   "cell_type": "code",
   "execution_count": 3,
   "metadata": {},
   "source": [
    "pctRunOnAll warning('off', 'all');"
   ],
   "outputs": [
    {
     "data": {
      "text/plain": [
       "Error using pctRunOnAll (line 39)\n",
       "Syntax not supported on a thread-based pool. Use a process-based parallel pool instead."
      ]
     },
     "metadata": {},
     "execution_count":  3,
     "output_type": "execute_result"
    }
   ]
  },
  {
   "cell_type": "markdown",
   "metadata": {},
   "source": [
    "## Create Figure 8.19"
   ]
  },
  {
   "cell_type": "code",
   "execution_count": 4,
   "metadata": {},
   "source": [
    "plo=struct;\n",
    "plo.namey='Value';\n",
    "plo.nameX={'Quantity (W)', 'Supplementary units (SU)'};\n",
    "yXplot(y,X,'plo',plo);\n",
    "legend('off')\n",
    "\n",
    "if prin==1\n",
    "    % print to postscript\n",
    "    print -depsc P6307909810_SP.eps;\n",
    "else\n",
    "    set(gcf,'Name', 'Figure 8.19');\n",
    "    sgtitle('Figure 8.19')\n",
    "end\n",
    "\n",
    "drawnow;"
   ],
   "outputs": []
  },
  {
   "cell_type": "markdown",
   "metadata": {},
   "source": [
    "## Create Figure 8.20\n",
    "\n",
    "Random start The trajectories are unstable at the beginning, but converge quickly to a reduced number of trajectories in the central part. The instability generates many messages of 'Warning: Value of S2 at step 10 is zero, mdr is NaN'\n",
    ""
   ]
  },
  {
   "cell_type": "code",
   "execution_count": 5,
   "metadata": {},
   "source": [
    "[outFM0]=FSRmdrrs(y,X,'init',3,'intercept',0,'nsimul',500,'plots',0,'numpool',0);\n",
    "mdrrsplot(outFM0);\n",
    "h_mdrrs=findobj(0,'Tag','pl_mdrrs');\n",
    "figure(h_mdrrs(end))\n",
    "if prin==1\n",
    "    % print to postscript\n",
    "    print -depsc P6307909810_SP.eps;\n",
    "else\n",
    "    set(gcf,'Name', 'Figure 8.20');\n",
    "    title('Figure 8.20')\n",
    "end\n",
    "\n",
    "drawnow;"
   ],
   "outputs": []
  },
  {
   "cell_type": "markdown",
   "metadata": {},
   "source": [
    "## Figures 8.21 and 8.23 are created by facemaskInteractive.m\n",
    "## Create Figure 8.22\n",
    "\n",
    "Monitor estimated slope (just 1 explanatory variable)\n",
    ""
   ]
  },
  {
   "cell_type": "code",
   "execution_count": 6,
   "metadata": {},
   "source": [
    "X1=X(:,1);\n",
    "init = 10;\n",
    "\n",
    "bs1 = [1, 4, 8, 13, 14, 16, 17, 18, 29, 31]; % start from a second subset\n",
    "[out2]=FSReda(y,X1,bs1,'init',init,'intercept',0);\n",
    "\n",
    "bs2 = [5, 6, 11, 15, 19, 20, 24, 25, 26, 33]; % start from a subset\n",
    "[out1]=FSReda(y,X1,bs2,'init',init,'intercept',0);\n",
    "\n",
    "bs3 = [3, 5, 6, 10, 11, 15, 19, 20, 23, 24];\n",
    "[out3]=FSReda(y,X1,bs3,'init',init,'intercept',0);\n",
    "\n",
    "% ch8_a_0_is\n",
    "lwd=2; fs=14;\n",
    "figure;\n",
    "hold on;\n",
    "plot(init:n,out2.Bols(:,2),'-.k','LineWidth',lwd);\n",
    "plot(init:n,out1.Bols(:,2),'-.r','LineWidth',lwd);\n",
    "plot(init:n,out3.Bols(:,2),'-.m','LineWidth',lwd);\n",
    "set(gca,'FontSize',fs)\n",
    "xlabel('Subset size m','FontSize',fs);\n",
    "ylabel('Fitted slope','FontSize',fs);\n",
    "legend('Group 1' , 'Group 2', 'Group 3','FontSize',14)\n",
    "\n",
    "if prin==1\n",
    "    % print to postscript\n",
    "    print -depsc P6307909810_SP.eps;\n",
    "else\n",
    "    set(gcf,'Name', 'Figure 8.22');\n",
    "    title('Figure 8.22')\n",
    "end"
   ],
   "outputs": []
  },
  {
   "cell_type": "markdown",
   "metadata": {},
   "source": [
    "## Create left panel of Figure 8.26"
   ]
  },
  {
   "cell_type": "code",
   "execution_count": 7,
   "metadata": {},
   "source": [
    "typeIC='MIXMIX';\n",
    "alphaLik=0.10;\n",
    "alphaX=0;\n",
    "SpuriousSolutions=false;\n",
    "rng(300)\n",
    "nsamp=20000;\n",
    "out = tclustregIC(y,X,'whichIC',typeIC,'alphaLik',alphaLik,'alphaX',alphaX, ...\n",
    "    'kk',1:5,'nsamp',nsamp,'intercept',0,'plots',0);\n",
    "% Show the elbow plot\n",
    "tclustICplot(out,'whichIC',typeIC,'datatooltip','');\n",
    "h_MIXMIX=findobj(0,'Tag','pl_IC_MIXMIX');\n",
    "figure(h_MIXMIX(end))\n",
    "if prin==1\n",
    "    % print to postscript\n",
    "    print -depsc C2a.eps;\n",
    "else\n",
    "    set(gcf,'Name', 'Left panel of Figure 8.26');\n",
    "    title('Left panel of Figure 8.26')\n",
    "end\n",
    "drawnow"
   ],
   "outputs": []
  },
  {
   "cell_type": "markdown",
   "metadata": {},
   "source": [
    "## Create right panel of Figure 8.26\n",
    "\n",
    "figure Find the best tentative solutions\n",
    ""
   ]
  },
  {
   "cell_type": "code",
   "execution_count": 8,
   "metadata": {},
   "source": [
    "outICsol=tclustICsol(out,'whichIC',typeIC,'SpuriousSolutions',SpuriousSolutions, ...\n",
    "    'NumberOfBestSolutions',7,'plots',0);\n",
    "% Show the car-bike plot\n",
    "carbikeplot(outICsol,'SpuriousSolutions',SpuriousSolutions);\n",
    "if prin==1\n",
    "    % print to postscript\n",
    "    print -depsc C2b.eps;\n",
    "else\n",
    "    set(gcf,'Name', 'Right panel of Figure 8.26');\n",
    "    title('Right panel of Figure 8.26')\n",
    "end"
   ],
   "outputs": []
  },
  {
   "cell_type": "markdown",
   "metadata": {},
   "source": [
    "## Prepare input for Figure 8.27"
   ]
  },
  {
   "cell_type": "code",
   "execution_count": 9,
   "metadata": {},
   "source": [
    "rng(1)\n",
    "alphaLik = (0.10:-0.01:0)' ;\n",
    "alphaX = 0;\n",
    "nsamp=50000;\n",
    "\n",
    "% Prepare input for upper panel of Figure 8.27\n",
    "% rng(100)\n",
    "k=3;\n",
    "restrfact =128;\n",
    "out3 = tclustregeda(y,X,k,restrfact,alphaLik,alphaX,'intercept',false,'msg',1,'plots',0,'mixt',2,'nsamp',nsamp);\n",
    "\n",
    "rng(1)\n",
    "restrfact =32;\n",
    "% Prepare input for lower panel of Figure 8.27\n",
    "k=4;\n",
    "out4 = tclustregeda(y,X,k,restrfact,alphaLik,alphaX,'intercept',false,'msg',1,'plots',0,'mixt',2,'nsamp',nsamp);"
   ],
   "outputs": []
  },
  {
   "cell_type": "markdown",
   "metadata": {},
   "source": [
    "## Create Figure 8.27"
   ]
  },
  {
   "cell_type": "code",
   "execution_count": 10,
   "metadata": {},
   "source": [
    "figure\n",
    "plotLineWidth=3;\n",
    "xyTickFontSize      = 12;\n",
    "xyLabelSize         = 16;\n",
    "yLabelLatexSize     = 18;\n",
    "legendSize          = 14;\n",
    "titleSize           = 18;\n",
    "subtitleSize        = 16;\n",
    "matrixFont          = 8;\n",
    "clrdef = 'bkmgcrbkmgcrbkmgcrbkmgcrbkmgcrbkmgcrbkmgcr';\n",
    "symdef = '+sd^v><phos+*d^v><phos+*d^v><phos+*d^v><phos';\n",
    "linedef = {'-','--',':','-.'};\n",
    "linedef=repmat(linedef,1,5);\n",
    "k=3;\n",
    "legendGroups=cellstr([repmat('Group ',k,1) num2str((1:k)')]);\n",
    "lalpha   = length(alphaLik);\n",
    "\n",
    "% first subplot\n",
    "subplot(2,1,1);\n",
    "% Sigma2y is k-by-length(alphaLik)\n",
    "h1  = plot(alphaLik,out3.Sigma2y','LineWidth',plotLineWidth);\n",
    "% set the colors and linestyle\n",
    "set(h1,{'Color'},cellstr(clrdef(1:k)'),{'LineStyle'},linedef(1:k)',{'DisplayName'},legendGroups);\n",
    "\n",
    "xlim([min(alphaLik),max(alphaLik)])\n",
    "% set(gca,'XTickLabel',num2str(alpha1'))\n",
    "\n",
    "L = get(gca,'XLim');\n",
    "set(gca,'XTick',linspace(L(1),L(2),lalpha), 'FontSize' , xyTickFontSize);\n",
    "set(gca,'XTickLabel',num2str(flipud(alphaLik)), 'FontSize' , xyTickFontSize);\n",
    "set(gca,'XDir','reverse','XGrid','on');\n",
    "\n",
    "% xlabel('Level of trimmming', 'FontSize' , xyLabelSize);\n",
    "ylabel(' $\\hat \\sigma^2_j$ ','Interpreter','latex', 'FontSize' , yLabelLatexSize);\n",
    "title('k=3')\n",
    "ylim([0 2*10^10])\n",
    "\n",
    "% second subplot\n",
    "subplot(2,1,2);\n",
    "k=4;\n",
    "legendGroups=cellstr([repmat('Group ',k,1) num2str((1:k)')]);\n",
    "\n",
    "h2  = plot(alphaLik,out4.Sigma2y','LineWidth',plotLineWidth);\n",
    "% set the colors and linestyle\n",
    "set(h2,{'Color'},cellstr(clrdef(1:k)'),{'LineStyle'},linedef(1:k)',{'DisplayName'},legendGroups);\n",
    "\n",
    "xlim([min(alphaLik),max(alphaLik)]);\n",
    "% set(gca,'XTickLabel',num2str(alpha1'))\n",
    "\n",
    "L = get(gca,'XLim');\n",
    "set(gca,'XTick',linspace(L(1),L(2),lalpha), 'FontSize' , xyTickFontSize);\n",
    "set(gca,'XTickLabel',num2str(flipud(alphaLik)), 'FontSize' , xyTickFontSize);\n",
    "set(gca,'XDir','reverse','XGrid','on');\n",
    "\n",
    "xlabel('Level of trimmming', 'FontSize' , xyLabelSize);\n",
    "ylabel(' $\\hat \\sigma^2_{j}$ ','Interpreter','latex', 'FontSize' , yLabelLatexSize);\n",
    "\n",
    "axis('manual');\n",
    "title('k=4')\n",
    "ylim([0 2*10^10])\n",
    "\n",
    "if prin==1\n",
    "    % print to postscript\n",
    "    print -depsc C3.eps;\n",
    "else\n",
    "    set(gcf,'Name', 'Figure 8.27');\n",
    "    sgtitle('Figure 8.27')\n",
    "end"
   ],
   "outputs": []
  },
  {
   "cell_type": "markdown",
   "metadata": {},
   "source": [
    "## Create left panel of Figure 8.28\n",
    "\n",
    "Final classification with k=3\n",
    ""
   ]
  },
  {
   "cell_type": "code",
   "execution_count": 11,
   "metadata": {},
   "source": [
    "rng(1000)\n",
    "k=3;\n",
    "alpha1=0.04;\n",
    "restrfact =128;\n",
    "nsamp=10000;\n",
    "out3final = tclustreg(y,X,k,restrfact,alpha1,alphaX,'intercept',false,'msg',1,'plots',0,'mixt',2,'nsamp',nsamp);\n",
    "yXplot(y,X,'group',out3final.idx,'plo',plo,'tag','calk3');\n",
    "if prin==1\n",
    "    % print to postscript\n",
    "    print -depsc C4a.eps;\n",
    "else\n",
    "    set(gcf,'Name', 'Left panel of Figure 8.28');\n",
    "    sgtitle('Left panel of Figure 8.28')\n",
    "end"
   ],
   "outputs": []
  },
  {
   "cell_type": "markdown",
   "metadata": {},
   "source": [
    "## Create right panel of Figure 8.28\n",
    "\n",
    "Final classification with k=4;\n",
    ""
   ]
  },
  {
   "cell_type": "code",
   "execution_count": 12,
   "metadata": {},
   "source": [
    "rng(2000)\n",
    "plo=struct;\n",
    "plo.namey='Value';\n",
    "plo.nameX={'Quantity', 'Supplementary units'};\n",
    "\n",
    "k=4;\n",
    "alpha1=0.03;\n",
    "restrfact =32;\n",
    "out4final = tclustreg(y,X,k,restrfact,alpha1,alphaX,'intercept',false,'msg',1,'plots',0,'mixt',2,'nsamp',nsamp);\n",
    "yXplot(y,X,'group',out4final.idx,'plo',plo,'tag','calk4');\n",
    "if prin==1\n",
    "    % print to postscript\n",
    "    print -depsc C4b.eps;\n",
    "end\n",
    "\n",
    "set(gcf,'Name', 'Right panel of Figure 8.28');\n",
    "sgtitle('Right panel of Figure 8.28')"
   ],
   "outputs": []
  },
  {
   "cell_type": "markdown",
   "metadata": {},
   "source": [
    "## Create tables with coefficients and sample sizes"
   ]
  },
  {
   "cell_type": "code",
   "execution_count": 13,
   "metadata": {},
   "source": [
    "Final3=[out3final.bopt; out3final.siz(2:end,2)'];\n",
    "nam=[\"b1\" \"b2\" \"nj\"];\n",
    "Final3T=array2table(Final3,\"RowNames\",nam,\"VariableNames\",\"Group\"+[2 1 3]);\n",
    "Final3T=Final3T(:,[2 1 3]);\n",
    "disp(Final3T)\n",
    "\n",
    "Final4=[out4final.bopt; out4final.siz(2:end,2)'];\n",
    "nam=[\"b1\" \"b2\" \"nj\"];\n",
    "Final4T=array2table(Final4,\"RowNames\",nam,\"VariableNames\",\"Group\"+[3 4 2 1]);\n",
    "Final4T=Final4T(:,[3 4 2 1]);\n",
    "disp(Final4T)"
   ],
   "outputs": []
  },
  {
   "cell_type": "markdown",
   "metadata": {},
   "source": [
    "## Compute adjusted R2 for the groups"
   ]
  },
  {
   "cell_type": "code",
   "execution_count": 14,
   "metadata": {},
   "source": [
    "R2all=zeros(4,4);\n",
    "\n",
    "idx3=out3final.idx;\n",
    "for j=1:3\n",
    "    out3=fitlm(X(idx3==j,:),y(idx3==j));\n",
    "    R2all(j,1)=out3.Rsquared.Adjusted;\n",
    "end\n",
    "\n",
    "idx4=out4final.idx;\n",
    "\n",
    "for j=1:4\n",
    "    out4=fitlm(X(idx4==j,:),y(idx4==j));\n",
    "    R2all(j,2)=out4.Rsquared.Adjusted;\n",
    "end\n",
    "\n",
    "% % Comparision with results from R packages\n",
    "% load IDXpunzo\n",
    "% idx4p=punzo_cl_k4;\n",
    "% tabulateFS(idx4p)\n",
    "% load IDXleisch\n",
    "% idx4l=leisch_cl;\n",
    "%\n",
    "% % third column punzo fourth column fliesch\n",
    "% for j=1:4\n",
    "% out4=fitlm(X(idx4p==j,:),y(idx4p==j));\n",
    "% R2all(j,3)=out4.Rsquared.Adjusted;\n",
    "%\n",
    "% if j<4\n",
    "% out4=fitlm(X(idx4l==j,:),y(idx4l==j));\n",
    "% R2all(j,4)=out4.Rsquared.Adjusted;\n",
    "% end\n",
    "%\n",
    "% end\n",
    "%\n",
    "% for j=1:4\n",
    "%     R2all(:,j)=sort(R2all(:,j),'descend');\n",
    "% end\n",
    "\n",
    "%InsideREADME"
   ],
   "outputs": []
}
 ],
 "metadata": {
  "kernelspec": {
   "display_name": "MATLAB (matlabkernel)",
   "language": "matlab",
   "name": "matlab"
  },
  "language_info": {
   "file_extension": ".m",
   "mimetype": "text/matlab",
   "name": "matlab",
   "nbconvert_exporter": "matlab",
   "pygments_lexer": "matlab",
   "version": "24.2.0.2637905"
  }
 },
 "nbformat": 4,
 "nbformat_minor": 4
}