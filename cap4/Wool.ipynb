{
 "cells": [
  {
   "cell_type": "markdown",
   "metadata": {},
   "source": [
    "\n",
    "# <span style=\"color:rgb(213,80,0)\">Wool data.</span>\n",
    "\n",
    "This file creates Figures 4.5-4.8.\n",
    "\n",
    "## Beginning of code."
   ]
  },
  {
   "cell_type": "code",
   "execution_count": 1,
   "metadata": {},
   "source": [
    "clear\n",
    "close all\n",
    "load('wool.txt','wool');\n",
    "y=wool(:,4);\n",
    "X=wool(:,1:3);\n",
    "prin=0;"
   ],
   "outputs": []
  },
  {
   "cell_type": "markdown",
   "metadata": {},
   "source": [
    "## Create Figure 4.5\n",
    "\n",
    "Dtails of the outlier detection procedure based on FS\n",
    ""
   ]
  },
  {
   "cell_type": "code",
   "execution_count": 2,
   "metadata": {},
   "source": [
    "[out]=FSR(y,X,'plots',0,'nsamp',0);\n",
    "\n",
    "plots=struct;\n",
    "plots.conflev=[0.01 0.5 0.99 0.999 0.9999 0.99999];\n",
    "plots.LineWidth=2;\n",
    "plots.LineWidthEnv=2;\n",
    "plots.Tag='ploriy';\n",
    "MDRinv=FSRinvmdr(out.mdr,size(X,2)+1,'plots',plots);\n",
    "xlim([3 length(y)])\n",
    "\n",
    "if prin==1\n",
    "    % print to postscript\n",
    "    print -depsc figs\\WDdetailsNC.eps;\n",
    "end\n",
    "\n",
    "sgtitle('Figure 4.5')\n",
    "set(gcf,\"Name\",'Figure 4.5')"
   ],
   "outputs": []
  },
  {
   "cell_type": "markdown",
   "metadata": {},
   "source": [
    "## Create Figure 4.6\n",
    "\n",
    "Comparison of resuperimposing envelopes using mdr in normal coordinates at particular steps\n",
    ""
   ]
  },
  {
   "cell_type": "code",
   "execution_count": 3,
   "metadata": {},
   "source": [
    "n0=16:19;\n",
    "quantplo=[0.01 0.5 0.99 0.999 0.9999 0.99999];\n",
    "ninv=norminv(quantplo);\n",
    "lwdenv=2;\n",
    "supn0=max(n0);\n",
    "\n",
    "figure;\n",
    "ij=0;\n",
    "for jn0=n0\n",
    "    ij=ij+1;\n",
    "    [MDRinv] = FSRinvmdr(out.mdr,2,'n',jn0);\n",
    "    % Plot for each step of the fwd search the values of mdr translated in\n",
    "    % Plot for each step of the fwd search the values of mdr translated in\n",
    "    % terms of normal quantiles\n",
    "    subplot(2,2,ij)\n",
    "    plot(MDRinv(:,1),norminv(MDRinv(:,2)),'LineWidth',2)\n",
    "    xlim([0 supn0])\n",
    "    v=axis;\n",
    "    line(v(1:2)',[ninv;ninv],'color','g','LineWidth',lwdenv,'LineStyle','--','Tag','env');\n",
    "    text(v(1)*ones(length(quantplo),1),ninv',strcat(num2str(100*quantplo'),'%'));\n",
    "    line(MDRinv(:,1),norminv(MDRinv(:,2)),'LineWidth',2)\n",
    "    title(['Resuperimposed envelope n*=' num2str(jn0)]);\n",
    "end\n",
    "\n",
    "\n",
    "if prin==1\n",
    "    % print to postscript\n",
    "    print -depsc WDresuperNC.eps;\n",
    "end\n",
    "\n",
    "sgtitle('Figure 4.6')\n",
    "set(gcf,\"Name\",'Figure 4.6')"
   ],
   "outputs": []
  },
  {
   "cell_type": "markdown",
   "metadata": {},
   "source": [
    "## Create Figure 4.7"
   ]
  },
  {
   "cell_type": "code",
   "execution_count": 4,
   "metadata": {},
   "source": [
    "[out]=FSR(y,X,'nsamp',50000,'plots',0);\n",
    "group=ones(length(y),1);\n",
    "group(out.ListOut)=2;\n",
    "plo=struct;\n",
    "plo.clr='bk';\n",
    "plo.sym='+o';\n",
    "plo.labeladd = '1';\n",
    "plo.namey='y';\n",
    "plo.nameX={'X1' 'X2' 'X3'};\n",
    "yXplot(y,X,group,plo);\n",
    "legend off\n",
    "\n",
    "if prin==1\n",
    "    % print to postscript\n",
    "    print -depsc wdscaFSR.eps;\n",
    "end\n",
    "\n",
    "sgtitle('Figure 4.7')\n",
    "set(gcf,\"Name\",'Figure 4.7')"
   ],
   "outputs": []
  },
  {
   "cell_type": "markdown",
   "metadata": {},
   "source": [
    "## Create Figure 4.8\n",
    "\n",
    "log wool data, mdrplot in normal coordinates\n",
    ""
   ]
  },
  {
   "cell_type": "code",
   "execution_count": 5,
   "metadata": {},
   "source": [
    "[outT]=FSR(log(y),X,'nsamp',0,'plots',0);\n",
    "[mdrquant] = FSRinvmdr(abs(outT.mdr),4,'plots',1);\n",
    "ylim([-3 3])\n",
    "xlim([6 27])\n",
    "\n",
    "if prin==1\n",
    "    % print to postscript\n",
    "    print -depsc figs\\wdmdrlogyNC.eps;\n",
    "end\n",
    "\n",
    "sgtitle('Figure 4.8')\n",
    "set(gcf,\"Name\",'Figure 4.8')\n",
    "\n",
    "%InsideREADME"
   ],
   "outputs": []
}
 ],
 "metadata": {
  "kernelspec": {
   "display_name": "MATLAB (matlabkernel)",
   "language": "matlab",
   "name": "matlab"
  },
  "language_info": {
   "file_extension": ".m",
   "mimetype": "text/matlab",
   "name": "matlab",
   "nbconvert_exporter": "matlab",
   "pygments_lexer": "matlab",
   "version": "23.2.0.2428915"
  }
 },
 "nbformat": 4,
 "nbformat_minor": 4
}