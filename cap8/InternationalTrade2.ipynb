{
 "cells": [
  {
   "cell_type": "markdown",
   "metadata": {},
   "source": [
    "\n",
    "# <span style=\"color:rgb(213,80,0)\">Heteroskedasticity: International Trade Data 1.</span>\n",
    "\n",
    "This file creates Figures 8.16 and 8.18. File which creates Figure 8.17 is called InterenationalTrade2Interactive.m\n",
    "\n",
    "## Beginning of code"
   ]
  },
  {
   "cell_type": "code",
   "execution_count": 1,
   "metadata": {},
   "source": [
    "load inttrade2.mat\n",
    "% This dataset refers to 0307491800\n",
    "X=inttrade2{:,1};\n",
    "y=inttrade2{:,2};\n",
    "\n",
    "X=X./max(X);\n",
    "Z=log(X);\n",
    "n=length(y);\n",
    "\n",
    "close all\n",
    "prin=0;\n",
    "bonflev=0.99;"
   ],
   "outputs": []
  },
  {
   "cell_type": "markdown",
   "metadata": {},
   "source": [
    "\n",
    "## Create Figure 8.16"
   ]
  },
  {
   "cell_type": "code",
   "execution_count": 2,
   "metadata": {},
   "source": [
    "scatter(X,y)\n",
    "ylabel('Value')\n",
    "xlabel('Weight')\n",
    "if prin==1\n",
    "    print -depsc P307scatter.eps;\n",
    "end\n",
    "\n",
    "set(gcf,'Name', 'Figure 8.16');\n",
    "title('Figure 8.16')"
   ],
   "outputs": []
  },
  {
   "cell_type": "markdown",
   "metadata": {},
   "source": [
    "\n",
    "## Create top panel of Figure 8.18"
   ]
  },
  {
   "cell_type": "code",
   "execution_count": 3,
   "metadata": {},
   "source": [
    "typeH='har';\n",
    "\n",
    "outH=FSRH(y,X,Z,'init',round(n*0.8),'plots',0, ...\n",
    "    'typeH',typeH,'bonflev',bonflev);\n",
    "\n",
    "% FSRHeda and forecasts\n",
    "[outLXS]=LXS(y,X,'nsamp',10000);\n",
    "outHEDA=FSRHeda(y,X,Z,outLXS.bs,'init',round(0.75*length(y)),'typeH',typeH);\n",
    "\n",
    "outl=[outH.ListOut];\n",
    "bsb=1:n;\n",
    "bsb(outl)=[];\n",
    "figure\n",
    "forecastH(y,X,Z,'outH',outHEDA,'bsb',bsb,'conflev',1-0.01/n);\n",
    "ylabel('Value')\n",
    "xlabel('Weight')\n",
    "% Zoom for X\n",
    "xlim([0 0.17])\n",
    "ylim([-5000 140000])\n",
    "if prin==1\n",
    "    print -depsc P307bandsHhar.eps;\n",
    "end\n",
    "set(gcf,'Name', 'Top panel of Figure 8.18');\n",
    "title('Figure 8.18 (top panel)')"
   ],
   "outputs": []
  },
  {
   "cell_type": "markdown",
   "metadata": {},
   "source": [
    "\n",
    "## Create bottom panel of Figure 8.18"
   ]
  },
  {
   "cell_type": "code",
   "execution_count": 4,
   "metadata": {},
   "source": [
    "typeH='art';\n",
    "\n",
    "outH=FSRH(y,X,Z,'init',round(n*0.8),'plots',0, ...\n",
    "    'typeH',typeH,'bonflev',bonflev);\n",
    "\n",
    "% FSRHeda and forecasts\n",
    "[outLXS]=LXS(y,X,'nsamp',10000);\n",
    "outHEDA=FSRHeda(y,X,Z,outLXS.bs,'init',round(0.75*length(y)),'typeH',typeH);\n",
    "\n",
    "outl=[outH.ListOut];\n",
    "bsb=1:n;\n",
    "bsb(outl)=[];\n",
    "figure\n",
    "forecastH(y,X,Z,'outH',outHEDA,'bsb',bsb,'conflev',1-0.01/n);\n",
    "ylabel('Value')\n",
    "xlabel('Weight')\n",
    "% Zoom for X\n",
    "xlim([0 0.17])\n",
    "ylim([-5000 140000])\n",
    "if prin==1\n",
    "    print -depsc P307bandsHzoom.eps;\n",
    "end\n",
    "set(gcf,'Name', 'Bottom panel of Figure 8.18');\n",
    "title('Figure 8.18 (bottom panel)')\n",
    "\n",
    "%InsideREADME"
   ],
   "outputs": []
}
 ],
 "metadata": {
  "kernelspec": {
   "display_name": "MATLAB (matlabkernel)",
   "language": "matlab",
   "name": "matlab"
  },
  "language_info": {
   "file_extension": ".m",
   "mimetype": "text/matlab",
   "name": "matlab",
   "nbconvert_exporter": "matlab",
   "pygments_lexer": "matlab",
   "version": "24.1.0.2453260"
  }
 },
 "nbformat": 4,
 "nbformat_minor": 4
}