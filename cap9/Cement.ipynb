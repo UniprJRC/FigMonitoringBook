{
 "cells": [
  {
   "cell_type": "markdown",
   "metadata": {},
   "source": [
    "\n",
    "# <span style=\"color:rgb(213,80,0)\">Cement data.</span>\n",
    "\n",
    "This file creates Tables 9.1 and 9.2.\n",
    "\n",
    "## Beginning of code"
   ]
  },
  {
   "cell_type": "code",
   "execution_count": 1,
   "metadata": {},
   "source": [
    "load cement\n",
    "\n",
    "disp(\"Variable selection using MATLAB stepwiselm\")"
   ],
   "outputs": [
    {
     "data": {
      "text/plain": [
       "Variable selection using MATLAB stepwiselm"
      ]
     },
     "metadata": {},
     "execution_count":  1,
     "output_type": "execute_result"
    }
   ]
  },
  {
   "cell_type": "code",
   "execution_count": 2,
   "metadata": {},
   "source": [
    "stepwiselm(cement,'Criterion','adjrsquared','Upper','linear')"
   ],
   "outputs": [
    {
     "data": {
      "text/plain": [
       "1. Adding x4, AdjRsquared = 0.64495\n",
       "2. Adding x1, AdjRsquared = 0.96697\n",
       "3. Adding x2, AdjRsquared = 0.97645\n",
       "ans = \n",
       "Linear regression model:\n",
       "    y ~ 1 + x1 + x2 + x4\n",
       "Estimated Coefficients:\n",
       "                   Estimate      SE       tStat       pValue  \n",
       "                   ________    _______    ______    __________\n",
       "    (Intercept)      71.648     14.142    5.0662    0.00067533\n",
       "    x1               1.4519      0.117     12.41    5.7808e-07\n",
       "    x2              0.41611    0.18561    2.2418      0.051687\n",
       "    x4             -0.23654    0.17329    -1.365        0.2054\n",
       "Number of observations: 13, Error degrees of freedom: 9\n",
       "Root Mean Squared Error: 2.31\n",
       "R-squared: 0.982,  Adjusted R-Squared: 0.976\n",
       "F-statistic vs. constant model: 167, p-value = 3.32e-08"
      ]
     },
     "metadata": {},
     "execution_count":  2,
     "output_type": "execute_result"
    }
   ]
  },
  {
   "cell_type": "markdown",
   "metadata": {},
   "source": [
    "## Create Table 9.1"
   ]
  },
  {
   "cell_type": "code",
   "execution_count": 3,
   "metadata": {},
   "source": [
    "disp(\"Table 9.1\")"
   ],
   "outputs": [
    {
     "data": {
      "text/plain": [
       "Table 9.1"
      ]
     },
     "metadata": {},
     "execution_count":  3,
     "output_type": "execute_result"
    }
   ]
  },
  {
   "cell_type": "code",
   "execution_count": 4,
   "metadata": {},
   "source": [
    "disp(\"ANOVA based on all the variables (including intercept)\")"
   ],
   "outputs": [
    {
     "data": {
      "text/plain": [
       "ANOVA based on all the variables (including intercept)"
      ]
     },
     "metadata": {},
     "execution_count":  4,
     "output_type": "execute_result"
    }
   ]
  },
  {
   "cell_type": "code",
   "execution_count": 5,
   "metadata": {},
   "source": [
    "fitlm(cement)"
   ],
   "outputs": [
    {
     "data": {
      "text/plain": [
       "ans = \n",
       "Linear regression model:\n",
       "    y ~ 1 + x1 + x2 + x3 + x4\n",
       "Estimated Coefficients:\n",
       "                   Estimate      SE        tStat       pValue \n",
       "                   ________    _______    ________    ________\n",
       "    (Intercept)      62.405     70.071      0.8906     0.39913\n",
       "    x1               1.5511    0.74477      2.0827    0.070822\n",
       "    x2              0.51017    0.72379     0.70486      0.5009\n",
       "    x3              0.10191    0.75471     0.13503     0.89592\n",
       "    x4             -0.14406    0.70905    -0.20317     0.84407\n",
       "Number of observations: 13, Error degrees of freedom: 8\n",
       "Root Mean Squared Error: 2.45\n",
       "R-squared: 0.982,  Adjusted R-Squared: 0.974\n",
       "F-statistic vs. constant model: 111, p-value = 4.76e-07"
      ]
     },
     "metadata": {},
     "execution_count":  5,
     "output_type": "execute_result"
    }
   ]
  },
  {
   "cell_type": "markdown",
   "metadata": {},
   "source": [
    "## Create Table 9.2"
   ]
  },
  {
   "cell_type": "code",
   "execution_count": 6,
   "metadata": {},
   "source": [
    "disp(\"Table 9.2\")"
   ],
   "outputs": [
    {
     "data": {
      "text/plain": [
       "Table 9.2"
      ]
     },
     "metadata": {},
     "execution_count":  6,
     "output_type": "execute_result"
    }
   ]
  },
  {
   "cell_type": "code",
   "execution_count": 7,
   "metadata": {},
   "source": [
    "disp(\"ANOVA based on all the variables (excluding intercept)\")"
   ],
   "outputs": [
    {
     "data": {
      "text/plain": [
       "ANOVA based on all the variables (excluding intercept)"
      ]
     },
     "metadata": {},
     "execution_count":  7,
     "output_type": "execute_result"
    }
   ]
  },
  {
   "cell_type": "code",
   "execution_count": 8,
   "metadata": {},
   "source": [
    "fitlm(cement,'Intercept',false)"
   ],
   "outputs": [
    {
     "data": {
      "text/plain": [
       "ans = \n",
       "Linear regression model:\n",
       "    y ~ x1 + x2 + x3 + x4\n",
       "Estimated Coefficients:\n",
       "          Estimate       SE       tStat       pValue  \n",
       "          ________    ________    ______    __________\n",
       "    x1      2.193      0.18527    11.837    8.6523e-07\n",
       "    x2     1.1533     0.047942    24.057    1.7716e-09\n",
       "    x3    0.75851      0.15951    4.7551     0.0010367\n",
       "    x4    0.48632     0.041409    11.744    9.2484e-07\n",
       "Number of observations: 13, Error degrees of freedom: 9\n",
       "Root Mean Squared Error: 2.42"
      ]
     },
     "metadata": {},
     "execution_count":  8,
     "output_type": "execute_result"
    }
   ]
  },
  {
   "cell_type": "code",
   "execution_count": 9,
   "metadata": {},
   "source": [
    "\n",
    "%InsideREADME"
   ],
   "outputs": []
}
 ],
 "metadata": {
  "kernelspec": {
   "display_name": "MATLAB (matlabkernel)",
   "language": "matlab",
   "name": "matlab"
  },
  "language_info": {
   "file_extension": ".m",
   "mimetype": "text/matlab",
   "name": "matlab",
   "nbconvert_exporter": "matlab",
   "pygments_lexer": "matlab",
   "version": "23.2.0.2428915"
  }
 },
 "nbformat": 4,
 "nbformat_minor": 4
}