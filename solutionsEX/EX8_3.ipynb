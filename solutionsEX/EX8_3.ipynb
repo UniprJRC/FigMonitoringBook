{
 "cells": [
  {
   "cell_type": "markdown",
   "metadata": {},
   "source": [
    "\n",
    "# <span style=\"color:rgb(213,80,0)\">Exercise 8.3</span>\n",
    "\n",
    "Analysis of ad additional dataset. This file creates Figures A.48 and A.49\n",
    "\n",
    "## Beginning of code"
   ]
  },
  {
   "cell_type": "code",
   "execution_count": 1,
   "metadata": {},
   "source": [
    "load inttrade3.mat\n",
    "% This dataset refers to 'POD_0307591000_SN_IT'\n",
    "X=inttrade3.Weight;\n",
    "y=inttrade3.Value;\n",
    "prin=0;\n",
    "close all\n",
    "X=X./max(X);\n",
    "Z=log(X);\n",
    "n=length(y);\n",
    "% In this Exercise ART heteroskedasiticty is used\n",
    "typeH='har';\n",
    "typeH='art';"
   ],
   "outputs": []
  },
  {
   "cell_type": "markdown",
   "metadata": {},
   "source": [
    "## Create Figure A.48"
   ]
  },
  {
   "cell_type": "code",
   "execution_count": 2,
   "metadata": {},
   "source": [
    "outH=FSRH(y,X,Z,'init',round(n*0.8),'plots',0, ...\n",
    "    'typeH',typeH);\n",
    "\n",
    "% FSRHeda and forecasts\n",
    "[outLXS]=LXS(y,X,'nsamp',10000);\n",
    "outHEDA=FSRHeda(y,X,Z,outLXS.bs,'init',round(0.75*length(y)),'typeH',typeH);\n",
    "\n",
    "bsb=1:n;\n",
    "if ~ismissing(outH.ListOut)\n",
    "    outl=outH.ListOut;\n",
    "    bsb(outl)=[];\n",
    "end\n",
    "\n",
    "figure\n",
    "forecastH(y,X,Z,'outH',outHEDA,'bsb',bsb,'conflev',1-0.01/n);\n",
    "ylabel('Value')\n",
    "xlabel('Weight')\n",
    "if prin==1\n",
    "    print -depsc P30bandsH.eps;\n",
    "end\n",
    "set(gcf,'Name', 'Figure A.48');\n",
    "title('Figure A.48')"
   ],
   "outputs": []
  },
  {
   "cell_type": "markdown",
   "metadata": {},
   "source": [
    "## Create Figure A.49 (left panel)\n",
    "<pre>\n",
    "Homoskedatic  analysis\n",
    "</pre>"
   ]
  },
  {
   "cell_type": "code",
   "execution_count": 3,
   "metadata": {},
   "source": [
    "outHOM=FSR(y,X,'init',round(0.7*length(n)));\n",
    "\n",
    "pl_fsr=findobj(0, 'type', 'figure','tag','pl_fsr');\n",
    "close(figure(pl_fsr(end)))\n",
    "pl_fsr=findobj(0, 'type', 'figure','tag','pl_yX');\n",
    "set(gcf,'Name', 'Figure A.49 (left panel)');\n",
    "title('Figure A.49 (left panel)')"
   ],
   "outputs": []
  },
  {
   "cell_type": "markdown",
   "metadata": {},
   "source": [
    "## Create Figure A.49 (right panel)"
   ]
  },
  {
   "cell_type": "code",
   "execution_count": 4,
   "metadata": {},
   "source": [
    "mdl = fitlm(X,y,'Exclude',outHOM.ListOut);\n",
    "Xnew=(min(X):(max(X)-min(X))/100:max(X))';\n",
    "[ypred,yci] = predict(mdl,Xnew,'Prediction','observation','alpha',0.01,'Simultaneous','on');\n",
    "figure\n",
    "hold('on')\n",
    "seq=1:length(y);\n",
    "good=setdiff(seq,outHOM.ListOut);\n",
    "plot(X(good),y(good),'bo')\n",
    "plot(X(outHOM.ListOut),y(outHOM.ListOut),'rx','MarkerSize',9); % ,'LineWidth',2)\n",
    "\n",
    "plot(Xnew,ypred,'k')\n",
    "plot(Xnew,yci,'r','LineWidth',1)\n",
    "xlabel('Quantity')\n",
    "ylabel('Value')\n",
    "xlim([min(X) max(X)])\n",
    "if prin==1\n",
    "    print -depsc P30homobands.eps;\n",
    "end\n",
    "\n",
    "set(gcf,'Name', 'Figure A.49 (right panel)');\n",
    "title('Figure A.49 (right panel)')\n",
    "\n",
    "%InsideREADME"
   ],
   "outputs": []
}
 ],
 "metadata": {
  "kernelspec": {
   "display_name": "MATLAB (matlabkernel)",
   "language": "matlab",
   "name": "matlab"
  },
  "language_info": {
   "file_extension": ".m",
   "mimetype": "text/matlab",
   "name": "matlab",
   "nbconvert_exporter": "matlab",
   "pygments_lexer": "matlab",
   "version": "23.2.0.2428915"
  }
 },
 "nbformat": 4,
 "nbformat_minor": 4
}