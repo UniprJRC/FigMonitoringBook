{
 "cells": [
  {
   "cell_type": "markdown",
   "metadata": {},
   "source": [
    "\n",
    "# <span style=\"color:rgb(213,80,0)\">Analysis of consistency factor (small sample and asymptotic for MAD)</span>\n",
    "\n",
    "This file creates Figure 1.1\n",
    "\n",
    "## Empirical consisteny factor for MAD when n=5\n",
    "\n",
    "Take n observations from N(0,1) and compute the MAD Repeat the experiment nsimul times and compute the average of the MADs\n",
    ""
   ]
  },
  {
   "cell_type": "code",
   "execution_count": 1,
   "metadata": {},
   "source": [
    "nsimul=1000000;\n",
    "n=5;\n",
    "MAD=zeros(nsimul,1);\n",
    "for j=1:nsimul\n",
    "    x=randn(n,1);\n",
    "    MAD(j)=mad(x,1);\n",
    "end\n",
    "Mea=mean(MAD);\n",
    "disp(Mea)"
   ],
   "outputs": []
  },
  {
   "cell_type": "markdown",
   "metadata": {},
   "source": [
    "## Prepare the input data for Figure 1.1\n",
    "\n",
    "Repeat the previous simulation study for each value of nn=5, 6, ..., 100\n",
    ""
   ]
  },
  {
   "cell_type": "code",
   "execution_count": 2,
   "metadata": {},
   "source": [
    "nsimul=1000000;\n",
    "nn=5:100;\n",
    "% nn=100; just n=100\n",
    "maxnn=nn(end);\n",
    "minnn=nn(1);\n",
    "MADall=NaN(maxnn-minnn+1,1);\n",
    "\n",
    "for i=nn\n",
    "    MAD=zeros(nsimul,1);\n",
    "\n",
    "    parfor j=1:nsimul\n",
    "        % x=randn(i,1);\n",
    "        MAD(j)=mad(randn(i,1),1);\n",
    "    end\n",
    "    Mea=mean(MAD);\n",
    "    MADall(i-minnn+1)=Mea;\n",
    "    disp(['sample size n=' num2str(i)])\n",
    "end\n",
    "\n",
    "disp('Empirical consistenty factor when n=100')\n",
    "disp(1./MADall(end))\n",
    "% Using nsimul=100,000,000 when n=100\n",
    "% the empirical consistency factor is 1.4942"
   ],
   "outputs": []
  },
  {
   "cell_type": "markdown",
   "metadata": {},
   "source": [
    "## Plotting part"
   ]
  },
  {
   "cell_type": "code",
   "execution_count": 3,
   "metadata": {},
   "source": [
    "close all\n",
    "plot(nn,1./MADall)\n",
    "xlabel('Sample size')\n",
    "yline(1/norminv(0.75))\n",
    "xlim([minnn maxnn])\n",
    "ylabel('Empirical consistency factor')\n",
    "title('Figure 1.1')\n",
    "set(gcf,'Name','Figure 1.1')\n",
    "\n",
    "prin=0;\n",
    "if prin==1\n",
    "    % print to postscript\n",
    "    print -depsc simMAD.eps;\n",
    "end\n",
    "\n",
    "%InsideREADME"
   ],
   "outputs": []
}
 ],
 "metadata": {
  "kernelspec": {
   "display_name": "MATLAB (matlabkernel)",
   "language": "matlab",
   "name": "matlab"
  },
  "language_info": {
   "file_extension": ".m",
   "mimetype": "text/matlab",
   "name": "matlab",
   "nbconvert_exporter": "matlab",
   "pygments_lexer": "matlab",
   "version": "23.2.0.2428915"
  }
 },
 "nbformat": 4,
 "nbformat_minor": 4
}