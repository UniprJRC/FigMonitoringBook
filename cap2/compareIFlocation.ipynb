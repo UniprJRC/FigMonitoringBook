{
 "cells": [
  {
   "cell_type": "markdown",
   "metadata": {},
   "source": [
    "\n",
    "# <span style=\"color:rgb(213,80,0)\">Compare IF of different location estimators (use bdp=0.5 or eff=0.95).</span>\n",
    "\n",
    "This file creates Figures 2.16 and 2.17.\n",
    "\n",
    "## Beginning of code"
   ]
  },
  {
   "cell_type": "code",
   "execution_count": 1,
   "metadata": {},
   "source": [
    "close all\n",
    "clear\n",
    "FontSize=14;\n",
    "FontSizetitl=12;\n",
    "LineWidth=2;\n",
    "linst=repmat({'-';'--';':';'-.';'--';':'},3,1);\n",
    "dd=100;\n",
    "\n",
    "% k = supCVC parameter in HYP link\n",
    "k=4.5;\n",
    "\n",
    "x=(-7:0.001:7)';\n",
    "\n",
    "xlim1=min(x);\n",
    "xlim2=max(x);"
   ],
   "outputs": []
  },
  {
   "cell_type": "markdown",
   "metadata": {},
   "source": [
    "\n",
    "## Prepare input for Figure 2.16"
   ]
  },
  {
   "cell_type": "code",
   "execution_count": 2,
   "metadata": {},
   "source": [
    "% Fix bdp to 0.5\n",
    "bdp=0.5;\n",
    "\n",
    "ylim1=-4.1;\n",
    "ylim2=4.1;\n",
    "\n",
    "cHA=HAbdp(bdp,1);\n",
    "cTB=TBbdp(bdp,1);\n",
    "[cHYP,A,B,d]=HYPbdp(bdp,1,k);\n",
    "cOPT=OPTbdp(bdp,1);\n",
    "cPD=PDbdp(bdp);\n",
    "\n",
    "% iHU =integral(@(u)u.*(HUpsider(u,cHU)).*normpdf(u),-dd,dd);\n",
    "iHA =integral(@(u)(HApsider(u,cHA)).*normpdf(u),-dd,dd);\n",
    "iTB =integral(@(u)(TBpsider(u,cTB)).*normpdf(u),-dd,dd);\n",
    "iHYP=integral(@(u)(HYPpsider(u,[cHYP,k,A,B,d])).*normpdf(u),-dd,dd);\n",
    "iOPT=integral(@(u)(OPTpsider(u,cOPT)).*normpdf(u),-dd,dd);\n",
    "iPD =integral(@(u)(PDpsider(u,cPD)).*normpdf(u),-dd,dd);"
   ],
   "outputs": []
  },
  {
   "cell_type": "markdown",
   "metadata": {},
   "source": [
    "\n",
    "## Create Figure 2.16\n",
    "\n",
    "plot iF for different location estimators\n",
    ""
   ]
  },
  {
   "cell_type": "code",
   "execution_count": 3,
   "metadata": {},
   "source": [
    "hold('on')\n",
    "\n",
    "ifTB=(TBpsi(x,cTB))/iTB;\n",
    "plot(x,ifTB,'LineWidth',LineWidth,'LineStyle',linst{1})\n",
    "\n",
    "ifHA=(HApsi(x,cHA))/iHA;\n",
    "plot(x,ifHA,'LineWidth',LineWidth,'LineStyle',linst{2})\n",
    "\n",
    "ifHYP=(HYPpsi(x,[cHYP,k,A,B,d]))/iHYP;\n",
    "plot(x,ifHYP,'LineWidth',LineWidth,'LineStyle',linst{3})\n",
    "\n",
    "ifOPT=(OPTpsi(x,cOPT))/iOPT;\n",
    "plot(x,ifOPT,'LineWidth',LineWidth,'LineStyle',linst{4})\n",
    "\n",
    "ifPD=(PDpsi(x,cPD))/iPD;\n",
    "plot(x,ifPD,'LineWidth',LineWidth,'LineStyle',linst{5})\n",
    "\n",
    "xlabel(' $u$ ','Interpreter','Latex','FontSize',FontSize)\n",
    "\n",
    "y= sqrt(2*pi)*sign(x)/2;\n",
    "plot(x,y,'LineWidth',LineWidth,'LineStyle',linst{6})\n",
    "ylim([ylim1 ylim2])\n",
    "legend([\"TB\" \"HA\"  \"HYP\"  \"OPT\" \"PD\" \"Me\"],'Location','best','AutoUpdate','off')\n",
    "\n",
    "% Table 2.1, column 2\n",
    "GESlocbdp050=max([y ifTB ifHA ifHYP ifOPT ifPD])';\n",
    "\n",
    "xlim([xlim1 xlim2])\n",
    "yline(0)\n",
    "title('Figure 2.16')\n",
    "set(gcf,\"Name\",'Figure 2.16')\n",
    "\n",
    "prin=0;\n",
    "if prin==1\n",
    "    % print to postscript\n",
    "    print -depsc IFlocbdp05.eps;\n",
    "end"
   ],
   "outputs": []
  },
  {
   "cell_type": "markdown",
   "metadata": {},
   "source": [
    "\n",
    "## Prepare input for Figure 2.17"
   ]
  },
  {
   "cell_type": "code",
   "execution_count": 4,
   "metadata": {},
   "source": [
    "eff=0.95;\n",
    "\n",
    "% Fix eff to 0.95 and find corresponding bdp\n",
    "cHA=HAeff(eff,1);\n",
    "[bdpHA,efftest]=HAc(cHA,1);\n",
    "assert(abs(eff-efftest)<1e-5,\"Lack of convergence on HA\")\n",
    "\n",
    "[cHYP,A,B,d]=HYPeff(eff,1,k);\n",
    "[bdpHYP,efftest]=HYPc(cHYP,1,'k',k);\n",
    "assert(abs(eff-efftest)<1e-5,\"Lack of convergence in HYP\")\n",
    "\n",
    "cOPT=OPTeff(eff,1);\n",
    "[bdpOPT,efftest]=OPTc(cOPT,1);\n",
    "assert(abs(eff-efftest)<1e-5,\"Lack of convergence in OPT\")\n",
    "\n",
    "cPD=PDeff(eff);\n",
    "[bdpPD,efftest]=PDc(cPD);\n",
    "assert(abs(eff-efftest)<1e-5,\"Lack of convergence in PD\")\n",
    "\n",
    "cTB=TBeff(eff,1);\n",
    "[bdpTB,efftest]=TBc(cTB,1);\n",
    "assert(abs(eff-efftest)<1e-5,\"Lack of convergence in TB\")\n",
    "\n",
    "% cOPT=cOPT/3;\n",
    "\n",
    "% iHU =integral(@(u)u.*(HUpsider(u,cHU)).*normpdf(u),-dd,dd);\n",
    "iHA =integral(@(u)(HApsider(u,cHA)).*normpdf(u),-dd,dd);\n",
    "iTB =integral(@(u)(TBpsider(u,cTB)).*normpdf(u),-dd,dd);\n",
    "iHYP=integral(@(u)(HYPpsider(u,[cHYP,k,A,B,d])).*normpdf(u),-dd,dd);\n",
    "iOPT=integral(@(u)(OPTpsider(u,cOPT)).*normpdf(u),-dd,dd);\n",
    "iPD =integral(@(u)(PDpsider(u,cPD)).*normpdf(u),-dd,dd);"
   ],
   "outputs": []
  },
  {
   "cell_type": "markdown",
   "metadata": {},
   "source": [
    "\n",
    "## Create Figure 2.17 (fix efficiency)"
   ]
  },
  {
   "cell_type": "code",
   "execution_count": 5,
   "metadata": {},
   "source": [
    "eff=0.95;\n",
    "\n",
    "figure\n",
    "% plot iF for different location estimators\n",
    "hold('on')\n",
    "\n",
    "ifTB=(TBpsi(x,cTB))/iTB;\n",
    "plot(x,ifTB,'LineWidth',LineWidth,'LineStyle',linst{1})\n",
    "\n",
    "ifHA=(HApsi(x,cHA))/iHA;\n",
    "plot(x,ifHA,'LineWidth',LineWidth,'LineStyle',linst{2})\n",
    "\n",
    "ifHYP=(HYPpsi(x,[cHYP,k,A,B,d]))/iHYP;\n",
    "plot(x,ifHYP,'LineWidth',LineWidth,'LineStyle',linst{3})\n",
    "\n",
    "ifOPT=(OPTpsi(x,cOPT))/iOPT;\n",
    "plot(x,ifOPT,'LineWidth',LineWidth,'LineStyle',linst{4})\n",
    "\n",
    "ifPD=(PDpsi(x,cPD))/iPD;\n",
    "plot(x,ifPD,'LineWidth',LineWidth,'LineStyle',linst{5})\n",
    "\n",
    "xlabel(' $u$ ','Interpreter','Latex','FontSize',FontSize)\n",
    "% title('Tukey biweight','FontSize',FontSizetitl)\n",
    "\n",
    "legend([\"TB\" \"HA\"  \"HYP\"  \"OPT\" \"PD\"],'Location','best','AutoUpdate','off')\n",
    "\n",
    "% Table 2.1, column 3\n",
    "GESloceff095=max([ifTB ifHA ifHYP ifOPT ifPD])';\n",
    "\n",
    "xlim([xlim1 xlim2])\n",
    "yline(0)\n",
    "title('Figure 2.17')\n",
    "set(gcf,\"Name\",'Figure 2.17')\n",
    "\n",
    "disp('First two columns of Table 2.1')\n",
    "namRow=[\"Median\" \"MADn\" \"Tukey biweight\" \"Hampel\" \"Hyperboloc\" \"Optimal\" \"Power divergence\"];\n",
    "namCol=[\"bdp=0.5\" \"eff=0.95\"];\n",
    "GESloceff095All=[NaN; NaN; GESloceff095];\n",
    "GESlocbdp050All=[GESlocbdp050(1); NaN; GESlocbdp050(2:end)];\n",
    "GESbdpeff=array2table([GESlocbdp050All GESloceff095All],\"RowNames\",namRow,\"VariableNames\",namCol);\n",
    "disp(GESbdpeff)\n",
    "\n",
    "if prin==1\n",
    "    % print to postscript\n",
    "    print -depsc IFloceff095.eps;\n",
    "end\n",
    "\n",
    "%InsideREADME"
   ],
   "outputs": []
}
 ],
 "metadata": {
  "kernelspec": {
   "display_name": "MATLAB (matlabkernel)",
   "language": "matlab",
   "name": "matlab"
  },
  "language_info": {
   "file_extension": ".m",
   "mimetype": "text/matlab",
   "name": "matlab",
   "nbconvert_exporter": "matlab",
   "pygments_lexer": "matlab",
   "version": "24.1.0.2453260"
  }
 },
 "nbformat": 4,
 "nbformat_minor": 4
}