{
 "cells": [
  {
   "cell_type": "markdown",
   "metadata": {},
   "source": [
    "\n",
    "# <span style=\"color:rgb(213,80,0)\">Exercise 6.2.</span>\n",
    "\n",
    "Confidence interval for transformation parameter lambda. This file creates Figure A.17\n",
    "\n",
    "## Beginning of code"
   ]
  },
  {
   "cell_type": "code",
   "execution_count": 1,
   "metadata": {},
   "source": [
    "prin=0;\n",
    "%  Confidence interval for lambda\n",
    "nr=2;\n",
    "nc=1;\n",
    "subplot(nr,nc,1)\n",
    "load('wool.txt','wool');\n",
    "y=wool(:,4);\n",
    "X=wool(:,1:3);\n",
    "% Plot the profile loglikelihood in the interval [-1 1]\n",
    "laseq=-1:0.0001:1;\n",
    "out=boxcoxR(y,X,'plots',1,'laseq',laseq);\n",
    "title('')\n",
    "\n",
    "% poison data\n",
    "load('poison.txt');\n",
    "y=poison(:,end); %#ok<SUSENS>\n",
    "X=poison(:,1:6);\n",
    "subplot(nr,nc,2)\n",
    "\n",
    "% Plot the profile loglikelihood in the interval [-1 1]\n",
    "laseq=-1.5:0.0001:0.5;\n",
    "out=boxcoxR(y,X,'plots',1,'laseq',laseq,'intercept',0');\n",
    "title('')\n",
    "if prin==1\n",
    "    print -depsc lambdaconfint.eps\n",
    "end\n",
    "\n",
    "sgtitle('Figure A.17')\n",
    "set(gcf,\"Name\",'Figure A.17')\n",
    "\n",
    "%InsideREADME"
   ],
   "outputs": []
}
 ],
 "metadata": {
  "kernelspec": {
   "display_name": "MATLAB (matlabkernel)",
   "language": "matlab",
   "name": "matlab"
  },
  "language_info": {
   "file_extension": ".m",
   "mimetype": "text/matlab",
   "name": "matlab",
   "nbconvert_exporter": "matlab",
   "pygments_lexer": "matlab",
   "version": "23.2.0.2428915"
  }
 },
 "nbformat": 4,
 "nbformat_minor": 4
}