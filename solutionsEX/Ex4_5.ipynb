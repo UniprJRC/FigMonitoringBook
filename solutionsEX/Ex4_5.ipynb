{
 "cells": [
  {
   "cell_type": "markdown",
   "metadata": {},
   "source": [
    "\n",
    "# <span style=\"color:rgb(213,80,0)\">Exercise 4.5</span>\n",
    "\n",
    "Hawkins data: BIC monitoring. This file creates Figure A.13\n",
    "\n",
    "## Beginning of code"
   ]
  },
  {
   "cell_type": "code",
   "execution_count": 1,
   "metadata": {},
   "source": [
    "load('hawkins.txt');\n",
    "y=hawkins(:,9);\n",
    "X=hawkins(:,1:8);\n",
    "n=length(y);\n",
    "p=size(X,2)+1;\n",
    "logn=log(n);\n",
    "prin=0;\n",
    "Xwithintercept=[ones(n,1) X];"
   ],
   "outputs": []
  },
  {
   "cell_type": "markdown",
   "metadata": {},
   "source": [
    "## Prepare input for Figure A.13\n",
    "\n",
    "Monitoring LXS Find LMS and LTS residuals\n",
    ""
   ]
  },
  {
   "cell_type": "code",
   "execution_count": 2,
   "metadata": {},
   "source": [
    "bdp=0.5:-0.01:0.01;\n",
    "lbdp=length(bdp);\n",
    "BIClxs=[bdp' zeros(lbdp,1)];\n",
    "RES=zeros(n,length(bdp));\n",
    "\n",
    "for j=1:length(bdp)\n",
    "    [out]=LXS(y,X,'lms',2,'bdp',bdp(j),'nsamp',100000);\n",
    "\n",
    "    hh=out.h;\n",
    "    if hh<n\n",
    "        resj=(y-Xwithintercept*out.beta).*(out.weights);\n",
    "        RES(:,j)=out.residuals;\n",
    "        % Apply Tallis consistency factor\n",
    "        vt = norminv(0.5*(1+hh/n));\n",
    "        factor = 1/(1-2*(n/hh)*vt.*normpdf(vt));\n",
    "        RSS=factor*resj'*(resj); % /hh;\n",
    "        BIClxs(j,2)=-n*log(RSS/hh)-logn*(p+n-hh);\n",
    "    else\n",
    "        beta=Xwithintercept\\y;\n",
    "        res=y-Xwithintercept*beta;\n",
    "        RSS=res'*res;\n",
    "        BIClxs(j,2)=-n*log(RSS/hh)-logn*p;\n",
    "    end\n",
    "\n",
    "end"
   ],
   "outputs": []
  },
  {
   "cell_type": "markdown",
   "metadata": {},
   "source": [
    "## Create Figure 4.43\n",
    "\n",
    "LTS figure\n",
    ""
   ]
  },
  {
   "cell_type": "code",
   "execution_count": 3,
   "metadata": {},
   "source": [
    "subplot(2,2,1)\n",
    "plot(BIClxs(:,1),BIClxs(:,2))\n",
    "xlabel('Breakdown point')\n",
    "ylabel('BIC')\n",
    "[~,indmax]=max(BIClxs(:,2));\n",
    "ylim([min(BIClxs(:,2)) max(BIClxs(:,2))])\n",
    "xlim([0 0.5])\n",
    "\n",
    "set(gca,'XDir','rev')\n",
    "\n",
    "% FS\n",
    "outpre=LXS(y,X,'nsamp',10000);\n",
    "[Un,BB]=FSRbsb(y,X,outpre.bs,'init',round(n/2));\n",
    "BICfs=[Un(:,1), zeros(size(Un,1),1)];\n",
    "for j=2:size(BB,2)\n",
    "    boo=~isnan(BB(:,j));\n",
    "    hh=sum(boo);\n",
    "    Xb=Xwithintercept(boo,:);\n",
    "    yb=y(boo);\n",
    "    beta=Xb\\yb;\n",
    "    resj=yb-Xb*beta;\n",
    "    if hh<n\n",
    "        % Apply Tallis consistency factor\n",
    "        vt = norminv(0.5*(1+hh/n));\n",
    "        factor = 1/(1-2*(n/hh)*vt.*normpdf(vt));\n",
    "        RSS=factor*resj'*(resj);\n",
    "    else\n",
    "        RSS=resj'*resj;\n",
    "    end\n",
    "        BICfs(j-1,2)=-n*log(RSS/hh)-logn*(p+n-hh);\n",
    "end\n",
    "\n",
    "% Plot BIC FOR FS\n",
    "subplot(2,2,2)\n",
    "plot(BICfs(:,1),BICfs(:,2))\n",
    "xlabel('Subset size m')\n",
    "ylabel('BIC')\n",
    "[~,indmax]=max(BICfs(:,2));\n",
    "ax=axis;\n",
    "\n",
    "xlim([n/2 n])\n",
    "ylim([min(BICfs(:,2)) max(BICfs(:,2))])\n",
    "\n",
    "if prin==1\n",
    "    % print to postscript\n",
    "    print -depsc Hbic.eps;\n",
    "\n",
    "end\n",
    "\n",
    "%InsideREADME"
   ],
   "outputs": []
}
 ],
 "metadata": {
  "kernelspec": {
   "display_name": "MATLAB (matlabkernel)",
   "language": "matlab",
   "name": "matlab"
  },
  "language_info": {
   "file_extension": ".m",
   "mimetype": "text/matlab",
   "name": "matlab",
   "nbconvert_exporter": "matlab",
   "pygments_lexer": "matlab",
   "version": "23.2.0.2428915"
  }
 },
 "nbformat": 4,
 "nbformat_minor": 4
}