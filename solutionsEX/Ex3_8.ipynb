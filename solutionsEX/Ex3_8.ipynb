{
 "cells": [
  {
   "cell_type": "markdown",
   "metadata": {},
   "source": [
    "\n",
    "# <span style=\"color:rgb(213,80,0)\">Exercise 3.8: Comparison of the distribution of squared deletion residuals</span>\n",
    "\n",
    "and squared studentized residuals.\n",
    "\n",
    "\n",
    "This file creates Figure A.4.\n",
    "\n",
    "## Beginning of code"
   ]
  },
  {
   "cell_type": "code",
   "execution_count": 1,
   "metadata": {},
   "source": [
    "close all\n",
    "prin=0;"
   ],
   "outputs": []
  },
  {
   "cell_type": "markdown",
   "metadata": {},
   "source": [
    "## Create Figure A.4"
   ]
  },
  {
   "cell_type": "code",
   "execution_count": 2,
   "metadata": {},
   "source": [
    "n=50;\n",
    "p=5;\n",
    "x=0.001:0.001:0.6;\n",
    "nr=2;\n",
    "nc=1;\n",
    "% subplot(nr,nc,1)\n",
    "betap=betapdf(x,0.5,(n-p-1)/2);\n",
    "fp=fpdf(x,1,n-p-1);\n",
    "plot(x,betap,'--',x,fp,':','LineWidth',2)\n",
    "legend({'Beta(0.5,22)' 'F(1,44)'})\n",
    "ylabel('Beta and F densities')\n",
    "ylim([0 20])\n",
    "\n",
    "title('Figure A.4')\n",
    "set(gcf,\"Name\",'Figure A.4')\n",
    "\n",
    "if prin==1\n",
    "    % print to postscript\n",
    "    print -depsc compBetaF.eps;\n",
    "end\n",
    "\n",
    "%InsideREADME"
   ],
   "outputs": []
}
 ],
 "metadata": {
  "kernelspec": {
   "display_name": "MATLAB (matlabkernel)",
   "language": "matlab",
   "name": "matlab"
  },
  "language_info": {
   "file_extension": ".m",
   "mimetype": "text/matlab",
   "name": "matlab",
   "nbconvert_exporter": "matlab",
   "pygments_lexer": "matlab",
   "version": "23.2.0.2428915"
  }
 },
 "nbformat": 4,
 "nbformat_minor": 4
}