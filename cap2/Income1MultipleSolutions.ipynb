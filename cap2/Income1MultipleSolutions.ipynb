{
 "cells": [
  {
   "cell_type": "markdown",
   "metadata": {},
   "source": [
    "\n",
    "# <span style=\"color:rgb(213,80,0)\">Example to show the issue of multiple solutions problem with redescending psi functions.</span>\n",
    "\n",
    "This file creates Figure 2.28.\n",
    "\n",
    "## Beginning of code"
   ]
  },
  {
   "cell_type": "code",
   "execution_count": 1,
   "metadata": {},
   "source": [
    "close all\n",
    "load Income1;\n",
    "y=Income1{:,\"HTOTVAL\"};\n",
    "% Use contaminated income data\n",
    "y20=[y(1:20); 600000; 575000; 590000];\n",
    "prin=0;\n",
    "\n",
    "% Compute MADn;\n",
    "mady=mad(y20,1)/0.6745;\n",
    "% Fix the efficiency\n",
    "eff=0.95;\n",
    "\n",
    "TBc=TBeff(eff,1);\n",
    "HUc=HUeff(eff,1);\n",
    "HAc=HAeff(eff,1);\n",
    "HYPc=HYPeff(eff,1);\n",
    "OPTc=OPTeff(eff,1);\n",
    "PDc=PDeff(eff);\n",
    "\n",
    "mu=0:1000:700000;\n",
    "avePSI=zeros(length(mu),6);\n",
    "for i=1:length(mu)\n",
    "\n",
    "    avePSI(i,1)=mean(HUpsi((y20-mu(i))./mady,HUc));\n",
    "    avePSI(i,2)=mean(HApsi((y20-mu(i))./mady,HAc));\n",
    "    avePSI(i,3)=mean(TBpsi((y20-mu(i))./mady,TBc));\n",
    "    avePSI(i,4)=mean(HYPpsi((y20-mu(i))./mady,[HYPc,5]));\n",
    "    avePSI(i,5)=mean(OPTpsi((y20-mu(i))./mady,OPTc));\n",
    "    avePSI(i,6)=mean(PDpsi((y20-mu(i))./mady,PDc));\n",
    "\n",
    "end"
   ],
   "outputs": []
  },
  {
   "cell_type": "markdown",
   "metadata": {},
   "source": [
    "\n",
    "## Create Figure 2.28"
   ]
  },
  {
   "cell_type": "code",
   "execution_count": 2,
   "metadata": {},
   "source": [
    "Link={'Huber', 'Hampel', 'Tukey', 'Hyperbolic' 'Optimal' 'Power divergence'} ;\n",
    "for i=1:6\n",
    "    subplot(2,3,i)\n",
    "    plot(mu',avePSI(:,i),'LineWidth',2,'Color','k')\n",
    "    hold('on')\n",
    "    yline(0) %  line([min(mu);max(mu)],[0;0],'LineStyle',':')\n",
    "    title(Link(i),'FontSize',14)\n",
    "    xlabel(' $\\mu$ ','FontSize',14,'Interpreter','Latex')\n",
    "    ylabel(' $\\overline \\psi \\left( \\frac{ y -\\mu}{\\hat \\sigma} \\right)$ ','FontSize',14,'Interpreter','Latex')\n",
    "end\n",
    "sgtitle('Figure 2.28')\n",
    "set(gcf,\"Name\",'Figure 2.28')\n",
    "\n",
    "if prin==1\n",
    "    % print to postscript\n",
    "    print -depsc multsol.eps;\n",
    "end\n",
    "\n",
    "%InsideREADME"
   ],
   "outputs": []
}
 ],
 "metadata": {
  "kernelspec": {
   "display_name": "MATLAB (matlabkernel)",
   "language": "matlab",
   "name": "matlab"
  },
  "language_info": {
   "file_extension": ".m",
   "mimetype": "text/matlab",
   "name": "matlab",
   "nbconvert_exporter": "matlab",
   "pygments_lexer": "matlab",
   "version": "24.1.0.2453260"
  }
 },
 "nbformat": 4,
 "nbformat_minor": 4
}