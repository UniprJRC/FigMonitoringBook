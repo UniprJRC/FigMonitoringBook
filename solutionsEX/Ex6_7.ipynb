{
 "cells": [
  {
   "cell_type": "markdown",
   "metadata": {},
   "source": [
    "\n",
    "# <span style=\"color:rgb(213,80,0)\">Exercise 6.7</span>\n",
    "\n",
    "Score test and fan plot 3.\n",
    "\n",
    "\n",
    "This file creates Figures A.30-A.34 and Tables A.14-A.16\n",
    "\n",
    "## D3 Data loading"
   ]
  },
  {
   "cell_type": "code",
   "execution_count": 1,
   "metadata": {},
   "source": [
    "XX=load('D3.txt');\n",
    "X=XX(:,1:end-1);\n",
    "y=XX(:,end);\n",
    "n=length(y);\n",
    "prin=0;"
   ],
   "outputs": []
  },
  {
   "cell_type": "markdown",
   "metadata": {},
   "source": [
    "## Create Figure A.30\n",
    "\n",
    "D2 yXplot\n",
    ""
   ]
  },
  {
   "cell_type": "code",
   "execution_count": 2,
   "metadata": {},
   "source": [
    "yXplot(y,X,'tag','pl_yini');\n",
    "sgtitle('Figure A.30')\n",
    "set(gcf,\"Name\",'Figure A.30')\n",
    "\n",
    "if prin==1\n",
    "    print -depsc figs\\D3yX.eps\n",
    "end"
   ],
   "outputs": []
  },
  {
   "cell_type": "markdown",
   "metadata": {},
   "source": [
    "## Create Table A.14"
   ]
  },
  {
   "cell_type": "code",
   "execution_count": 3,
   "metadata": {},
   "source": [
    "disp('Table A.14: ANOVA in the original scale for y')\n",
    "outl=fitlm(X,y);\n",
    "disp(outl)"
   ],
   "outputs": []
  },
  {
   "cell_type": "markdown",
   "metadata": {},
   "source": [
    "## Create Table A.15\n",
    "\n",
    "Score test\n",
    ""
   ]
  },
  {
   "cell_type": "code",
   "execution_count": 4,
   "metadata": {},
   "source": [
    "la=-1:0.25:1;\n",
    "outS=ScoreYJ(y,X,'la',la);\n",
    "varn=[\"lambda\" \"Score test\"];\n",
    "ScoreT=array2table([la' outS.Score],'VariableNames',varn);\n",
    "disp(\"Table A.15\")\n",
    "disp(ScoreT)"
   ],
   "outputs": []
  },
  {
   "cell_type": "markdown",
   "metadata": {},
   "source": [
    "## Create Figure A.31 (left panel)\n",
    "\n",
    "D3 fanplot just one lambda\n",
    ""
   ]
  },
  {
   "cell_type": "code",
   "execution_count": 5,
   "metadata": {},
   "source": [
    "la=[0 0.25 0.5 1];\n",
    "ylimy='';\n",
    "out=FSRfan(y,X,'la',la,'family','YJ','plots',1,'init',round(n/2),'ylimy',[-ylimy ylimy],'msg',0);\n",
    "\n",
    "title('Figure A.31 (left panel)')\n",
    "set(gcf,\"Name\",'Figure A.31 (left panel)')\n",
    "\n",
    "if prin==1\n",
    "    print -depsc figs\\D3fan.eps\n",
    "end"
   ],
   "outputs": []
  },
  {
   "cell_type": "markdown",
   "metadata": {},
   "source": [
    "## Create Figure A.31 (right panel)\n",
    "\n",
    "D3 fanplotpn\n",
    ""
   ]
  },
  {
   "cell_type": "code",
   "execution_count": 6,
   "metadata": {},
   "source": [
    "la=[0 0.25 0.5 1];\n",
    "ylimy='';\n",
    "out=FSRfan(y,X,'la',la,'family','YJpn','plots',1,'init',round(n/2), ...\n",
    "    'ylimy',[-ylimy ylimy],'msg',0,'tag','pl_scopn');\n",
    "title('Figure A.31 (right panel)')\n",
    "set(gcf,\"Name\",'Figure A.31 (right panel)')\n",
    "\n",
    "if prin==1\n",
    "    print -depsc figs\\D3fanpn.eps\n",
    "end"
   ],
   "outputs": []
  },
  {
   "cell_type": "markdown",
   "metadata": {},
   "source": [
    "## Create Figure A.32 and A.33\n",
    "\n",
    "automatic procedure\n",
    ""
   ]
  },
  {
   "cell_type": "code",
   "execution_count": 7,
   "metadata": {},
   "source": [
    "n=length(y);\n",
    "[outFSRfan]=FSRfan(y,X,'plots',0,'init',round(n*0.3),'nsamp',10000,'la',[0 0.25 0.5 0.75 1 1.25],'msg',0,'family','YJ');\n",
    "[outini]=fanBIC(outFSRfan,'plots',1);\n",
    "if prin==1\n",
    "    % print to postscript\n",
    "    print -depsc figs\\D3auto.eps;\n",
    "end\n",
    "% labest is the best value imposing the constraint that positive and\n",
    "% negative observations must have the same transformation parameter.\n",
    "disp('Automatic value of lambda (just on lambda)')\n",
    "labest=outini.labest;\n",
    "disp(labest);\n",
    "\n",
    "[outFSRfanpn]=FSRfan(y,X,'msg',0,'family','YJpn','la',labest,'plots',0);\n",
    "out1=fanBICpn(outFSRfanpn);\n",
    "\n",
    "fig=findobj(0,'tag','pl_BIC');\n",
    "figure(fig(1))\n",
    "set(gcf,'Name', 'Figure A.32 (left panel)');\n",
    "\n",
    "fig=findobj(0,'tag','pl_AGI');\n",
    "figure(fig(1))\n",
    "set(gcf,'Name', 'Figure A.32 (right panel)');\n",
    "\n",
    "fig=findobj(0,'tag','pl_nobs');\n",
    "figure(fig(1))\n",
    "set(gcf,'Name', 'Figure A.33 (left panel)');\n",
    "\n",
    "fig=findobj(0,'tag','pl_R2c');\n",
    "figure(fig(1))\n",
    "set(gcf,'Name', 'Figure A.33 (right panel)');\n",
    "\n",
    "if prin==1\n",
    "    % print to postscript\n",
    "    print -depsc figs\\D3autopnh.eps;\n",
    "    print -depsc figs\\D3autopnBIC.eps;\n",
    "    print -depsc figs\\D3autopnAGI.eps;\n",
    "    print -depsc figs\\D3autopnR2.eps;\n",
    "\n",
    "end"
   ],
   "outputs": []
  },
  {
   "cell_type": "markdown",
   "metadata": {},
   "source": [
    "## Prepare input for Figure A.34\n",
    "\n",
    "yXplot after transforming y lapos=0.5; laneg=0;\n",
    ""
   ]
  },
  {
   "cell_type": "code",
   "execution_count": 8,
   "metadata": {},
   "source": [
    "lapos=out1.labestBIC(1);\n",
    "laneg=out1.labestBIC(2);\n",
    "ytra=y;\n",
    "ytra(y>=0)=normYJ(y(y>=0),[],lapos,'Jacobian',false,'inverse',false);\n",
    "ytra(y<0)=normYJ(y(y<0),[],laneg,'Jacobian',false,'inverse',false);\n",
    "ylimy=8;\n",
    "\n",
    "% FSR on ytra\n",
    "outf=FSR(ytra,X,'init',n/2,'plots',0);\n",
    "if isnan(outf.outliers)\n",
    "    outf.outliers=[];\n",
    "end"
   ],
   "outputs": []
  },
  {
   "cell_type": "markdown",
   "metadata": {},
   "source": [
    "## Create Figure A.34\n",
    "\n",
    "yXplot after transforming y\n",
    ""
   ]
  },
  {
   "cell_type": "code",
   "execution_count": 9,
   "metadata": {},
   "source": [
    "group=ones(n,1);\n",
    "group(outf.outliers)=2;\n",
    "yXplot(ytra,X,'group',group);\n",
    "sgtitle('Figure A.34')\n",
    "set(gcf,\"Name\",'Figure A.34')\n",
    "\n",
    "if prin==1\n",
    "    print -depsc figs\\D3ytraX.eps\n",
    "end"
   ],
   "outputs": []
  },
  {
   "cell_type": "markdown",
   "metadata": {},
   "source": [
    "## Create Table A.16\n",
    "\n",
    "D3 anova table after transforming y D2 anova table after transforming y\n",
    ""
   ]
  },
  {
   "cell_type": "code",
   "execution_count": 10,
   "metadata": {},
   "source": [
    "disp('Table A.16: ANOVA in the transformed scale for y')\n",
    "outTRA=fitlm(X,ytra);\n",
    "disp(outTRA)\n",
    "\n",
    "%InsideREADME"
   ],
   "outputs": []
}
 ],
 "metadata": {
  "kernelspec": {
   "display_name": "MATLAB (matlabkernel)",
   "language": "matlab",
   "name": "matlab"
  },
  "language_info": {
   "file_extension": ".m",
   "mimetype": "text/matlab",
   "name": "matlab",
   "nbconvert_exporter": "matlab",
   "pygments_lexer": "matlab",
   "version": "23.2.0.2428915"
  }
 },
 "nbformat": 4,
 "nbformat_minor": 4
}