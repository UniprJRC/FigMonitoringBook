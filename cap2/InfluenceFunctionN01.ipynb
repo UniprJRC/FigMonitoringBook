{
 "cells": [
  {
   "cell_type": "markdown",
   "metadata": {},
   "source": [
    "\n",
    "# <span style=\"color:rgb(213,80,0)\">Influence Function at N(0,1) for different estimators.</span>\n",
    "\n",
    "This file creates Figure 2.2.\n",
    "\n",
    "## Create input for Figure 2.2"
   ]
  },
  {
   "cell_type": "code",
   "execution_count": 1,
   "metadata": {},
   "source": [
    "close all\n",
    "% Show the IF at N(0,1) for mean, median and trimmed mean\n",
    "% Suppose mu=0;\n",
    "y=(-3:0.01:3)';\n",
    "% Compute the IF for the mean\n",
    "IFmean=y;\n",
    "% Compute the IF for the median\n",
    "IFmedian= sqrt(2*pi)*sign(y)/2;\n",
    "alpha=0.1;\n",
    "phiminus1oneminusalpha=norminv(1-alpha);\n",
    "% Compute the IF for the trimmed mean\n",
    "IFyalpha=zeros(length(y),1);\n",
    "for i=1:length(y)\n",
    "    IFyalpha(i)=(sign(y(i))/(1-2*alpha))*min([abs(y(i)); phiminus1oneminusalpha]);\n",
    "end"
   ],
   "outputs": []
  },
  {
   "cell_type": "markdown",
   "metadata": {},
   "source": [
    "\n",
    "## Create Figure 2.2"
   ]
  },
  {
   "cell_type": "code",
   "execution_count": 2,
   "metadata": {},
   "source": [
    "LineWidth=2;\n",
    "FontSize=16;\n",
    "hold('on')\n",
    "plot(y,IFmean,'Color','r','LineStyle','-','LineWidth',LineWidth)\n",
    "plot(y,IFmedian,'Color','b','LineStyle','-.','LineWidth',LineWidth)\n",
    "plot(y,IFyalpha,'Color','k','LineStyle','--','LineWidth',LineWidth)\n",
    "legend({'IF $_{\\overline y}$ ' 'IF $_{\\mbox{Me}}$ ' 'IF $_{\\overline y_{0.1}}$ '},'FontSize',20,'Location','southeast','Interpreter','latex')\n",
    "xlabel(' $\\it y$ ','FontSize',FontSize,'Interpreter','latex')\n",
    "ylabel('IF','FontSize',FontSize,'Interpreter','latex')\n",
    "\n",
    "prin=0;\n",
    "if prin==1\n",
    "    % print to postscript\n",
    "    print -depsc IF.eps;\n",
    "end\n",
    "\n",
    "%InsideREADME"
   ],
   "outputs": []
}
 ],
 "metadata": {
  "kernelspec": {
   "display_name": "MATLAB (matlabkernel)",
   "language": "matlab",
   "name": "matlab"
  },
  "language_info": {
   "file_extension": ".m",
   "mimetype": "text/matlab",
   "name": "matlab",
   "nbconvert_exporter": "matlab",
   "pygments_lexer": "matlab",
   "version": "24.1.0.2453260"
  }
 },
 "nbformat": 4,
 "nbformat_minor": 4
}