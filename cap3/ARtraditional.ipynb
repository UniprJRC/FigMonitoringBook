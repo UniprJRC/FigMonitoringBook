{
 "cells": [
  {
   "cell_type": "markdown",
   "metadata": {},
   "source": [
    "\n",
    "# <span style=\"color:rgb(213,80,0)\">AR data.</span>\n",
    "\n",
    "This function creates Figures 3.1\\-3.5, 3.8 and 3.9. Figures 3.1\\-3.5: traditional non robust analysis. Figures 3.8\\-3.9: traditional robust analysis based on S and MM estimators.\n",
    "\n",
    "## Beginning of code."
   ]
  },
  {
   "cell_type": "code",
   "execution_count": 1,
   "metadata": {},
   "source": [
    "close all\n",
    "load('multiple_regression.txt');\n",
    "y=multiple_regression(:,4);\n",
    "X=multiple_regression(:,1:3);\n",
    "prin=0;\n",
    "n=length(y);"
   ],
   "outputs": []
  },
  {
   "cell_type": "markdown",
   "metadata": {},
   "source": [
    "\n",
    "## Create Figure 3.1\n",
    "\n",
    "outLS=fitlm(X,y);\n",
    ""
   ]
  },
  {
   "cell_type": "code",
   "execution_count": 2,
   "metadata": {},
   "source": [
    "yXplot(y,X);\n",
    "sgtitle('Figure 3.1')\n",
    "set(gcf,\"Name\",'Figure 3.1')\n",
    "\n",
    "if prin==1\n",
    "    % print to postscript\n",
    "    print -depsc AR1.eps;\n",
    "end"
   ],
   "outputs": []
  },
  {
   "cell_type": "markdown",
   "metadata": {},
   "source": [
    "\n",
    "## Create Figure 3.2"
   ]
  },
  {
   "cell_type": "code",
   "execution_count": 3,
   "metadata": {},
   "source": [
    "outLS=fitlm(X,y);\n",
    "disp('Traditional ANOVA table based on all the observations')\n",
    "disp(outLS)\n",
    "figure\n",
    "conflev=[0.95 0.99 1-0.05/n];\n",
    "yl=3.5;\n",
    "h1=subplot(2,1,1);\n",
    "resindexplot(outLS.Residuals{:,3},'h',h1,'conflev',conflev,'numlab',{1})\n",
    "title('')\n",
    "ylim([-yl yl])\n",
    "h2=subplot(2,1,2);\n",
    "resindexplot(outLS.Residuals{:,4},'h',h2,'conflev',conflev,'numlab',{1})\n",
    "title('')\n",
    "ylim([-yl yl])\n",
    "\n",
    "sgtitle('Figure 3.2')\n",
    "set(gcf,\"Name\",'Figure 3.2')\n",
    "\n",
    "if prin==1\n",
    "    % print to postscript\n",
    "    print -depsc AR2.eps;\n",
    "end"
   ],
   "outputs": []
  },
  {
   "cell_type": "markdown",
   "metadata": {},
   "source": [
    "\n",
    "## ANOVA table after removing 43"
   ]
  },
  {
   "cell_type": "code",
   "execution_count": 4,
   "metadata": {},
   "source": [
    "out=fitlm(X,y,'Exclude',43);\n",
    "disp('Anova table after deleting unit 43')\n",
    "disp(out)"
   ],
   "outputs": []
  },
  {
   "cell_type": "markdown",
   "metadata": {},
   "source": [
    "\n",
    "## Create Figure 3.3\n",
    "\n",
    "qqplot with envelopes + residuals\n",
    ""
   ]
  },
  {
   "cell_type": "code",
   "execution_count": 5,
   "metadata": {},
   "source": [
    "figure\n",
    "load('multiple_regression.txt');\n",
    "y=multiple_regression(:,4);\n",
    "X=multiple_regression(:,1:3);\n",
    "\n",
    "outLM=fitlm(X,y,'exclude','');\n",
    "res=outLM.Residuals{:,3};\n",
    "h1=subplot(2,2,1);\n",
    "qqplotFS(res,'X',X,'plots',1,'h',h1);\n",
    "% title('qqplot of stud. res.')\n",
    "\n",
    "subplot(2,2,2);\n",
    "plot(outLM.Fitted,res,'o')\n",
    "sel=43;\n",
    "text(outLM.Fitted(sel)+0.5,res(sel),num2str(sel))\n",
    "xlabel('Fitted values')\n",
    "ylabel('Residuals')\n",
    "\n",
    "sgtitle('Figure 3.3')\n",
    "set(gcf,\"Name\",'Figure 3.3')\n",
    "\n",
    "if prin==1\n",
    "    % print to postscript\n",
    "    print -depsc AR3.eps;\n",
    "end"
   ],
   "outputs": []
  },
  {
   "cell_type": "markdown",
   "metadata": {},
   "source": [
    "\n",
    "## Create Figure 3.4:\n",
    "\n",
    "Added variable plot to show the importance of units 9 21 30 31 38 47\n",
    ""
   ]
  },
  {
   "cell_type": "code",
   "execution_count": 6,
   "metadata": {},
   "source": [
    "% Computes in a new plot the added variable plot with and without the\n",
    "% outliers\n",
    "figure;\n",
    "% Set Font Size for the title\n",
    "fsiztitl=10;\n",
    "% Set Font Size for the labels on the axes\n",
    "SizeAxesNum=10;\n",
    "outADD=addt(y,X(:,2:3),X(:,1),'plots',1,'units',[9 21 30 31 38 47]','textlab','y','FontSize',fsiztitl,'SizeAxesNum',SizeAxesNum);\n",
    "ylim([-2.6 2.6])\n",
    "\n",
    "sgtitle('Figure 3.4')\n",
    "set(gcf,\"Name\",'Figure 3.4')\n",
    "\n",
    "if prin==1\n",
    "    % print to postscript\n",
    "    print -depsc AR4.eps;\n",
    "end"
   ],
   "outputs": []
  },
  {
   "cell_type": "markdown",
   "metadata": {},
   "source": [
    "\n",
    "## Create Figure 3.5\n",
    "\n",
    "Compute the added variable plot with and without unit 43\n",
    ""
   ]
  },
  {
   "cell_type": "code",
   "execution_count": 7,
   "metadata": {},
   "source": [
    "figure;\n",
    "out43=addt(y,X(:,2:3),X(:,1),'plots',1,'units',43','textlab','y','FontSize',fsiztitl,'SizeAxesNum',SizeAxesNum);\n",
    "text(-1.5,-2.3,'43','FontSize',12)\n",
    "ylim([-2.6 2.6])\n",
    "sgtitle('Figure 3.5')\n",
    "set(gcf,\"Name\",'Figure 3.5')\n",
    "\n",
    "if prin==1\n",
    "    % print to postscript\n",
    "    print -depsc AR5.eps;\n",
    "end"
   ],
   "outputs": []
  },
  {
   "cell_type": "markdown",
   "metadata": {},
   "source": [
    "\n",
    "## Create Figure 3.8\n",
    "\n",
    "Traditional robust analysis based on S estimators S estimators with 2 values of breakdown point\n",
    ""
   ]
  },
  {
   "cell_type": "code",
   "execution_count": 8,
   "metadata": {},
   "source": [
    "conflev=[0.95 0.99];\n",
    "% Note that the pattern of residuals changes completely\n",
    "% Using bdp=0.5 the outliers are correctly found, on the other hand using\n",
    "% bdp=0.25 the masking effect is clear\n",
    "figure;\n",
    "h1=subplot(2,1,1);\n",
    "bdp=0.25;\n",
    "[out]=Sreg(y,X,'nsamp',3000,'bdp',bdp);\n",
    "resindexplot(out,'h',h1,'conflev',conflev);\n",
    "ylabel(['Breakdown point =' num2str(bdp)])\n",
    "h2=subplot(2,1,2);\n",
    "bdp=0.5;\n",
    "[out]=Sreg(y,X,'nsamp',3000,'bdp',bdp);\n",
    "resindexplot(out,'h',h2,'conflev',conflev,'numlab',{6});\n",
    "ylabel(['Breakdown point =' num2str(bdp)])\n",
    "\n",
    "sgtitle('Figure 3.8')\n",
    "set(gcf,\"Name\",'Figure 3.8')\n",
    "\n",
    "if prin==1\n",
    "    % print to postscript\n",
    "    print -depsc ARtradrobS.eps;\n",
    "end"
   ],
   "outputs": []
  },
  {
   "cell_type": "markdown",
   "metadata": {},
   "source": [
    "\n",
    "## Create Figure 3.9\n",
    "## MR: (Multiple regression data): MM estimators with 2 values of efficiency"
   ]
  },
  {
   "cell_type": "code",
   "execution_count": 9,
   "metadata": {},
   "source": [
    "% MMreg using two different level of efficiency\n",
    "conflev=[0.95 0.99];\n",
    "% Note that the pattern of residuals changes completely\n",
    "% Using eff=0.90 the outliers are correctly found, on the other hand using\n",
    "% eff=0.95 the masking effect is clear\n",
    "figure;\n",
    "h1=subplot(2,1,1);\n",
    "eff=0.90;\n",
    "[out]=MMreg(y,X,'Snsamp',3000,'eff',eff);\n",
    "resindexplot(out,'h',h1,'conflev',conflev,'numlab',{6});\n",
    "ylabel(['Eff.=' num2str(eff)])\n",
    "h2=subplot(2,1,2);\n",
    "eff=0.95;\n",
    "[out]=MMreg(y,X,'Snsamp',3000,'eff',eff);\n",
    "resindexplot(out,'h',h2,'conflev',conflev,'numlab',{4});\n",
    "ylabel(['Eff.=' num2str(eff)])\n",
    "sgtitle('Figure 3.9')\n",
    "set(gcf,\"Name\",'Figure 3.9')\n",
    "\n",
    "if prin==1\n",
    "    % print to postscript\n",
    "    print -depsc ARtradrobMM.eps;\n",
    "end\n",
    "\n",
    "%InsideREADME"
   ],
   "outputs": []
}
 ],
 "metadata": {
  "kernelspec": {
   "display_name": "MATLAB (matlabkernel)",
   "language": "matlab",
   "name": "matlab"
  },
  "language_info": {
   "file_extension": ".m",
   "mimetype": "text/matlab",
   "name": "matlab",
   "nbconvert_exporter": "matlab",
   "pygments_lexer": "matlab",
   "version": "24.1.0.2453260"
  }
 },
 "nbformat": 4,
 "nbformat_minor": 4
}