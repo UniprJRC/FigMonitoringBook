{
 "cells": [
  {
   "cell_type": "markdown",
   "metadata": {},
   "source": [
    "\n",
    "# <span style=\"color:rgb(213,80,0)\">Exercise 4.2</span>\n",
    "\n",
    "Hawkins data: brushing residuals from monitoring S residuals This file creates Figures A.7--A.9\n",
    "\n",
    "## Hawkins data:\n",
    "\n",
    "brushing residuals from monitoring S residuals\n",
    ""
   ]
  },
  {
   "cell_type": "code",
   "execution_count": 1,
   "metadata": {},
   "source": [
    "close all;\n",
    "load('hawkins.txt');\n",
    "y=hawkins(:,9);\n",
    "X=hawkins(:,1:8);\n",
    "\n",
    "n=length(y);\n",
    "prin=0;"
   ],
   "outputs": []
  },
  {
   "cell_type": "markdown",
   "metadata": {},
   "source": [
    "## Prepare the input for Figures A.7, A.8 and A.9\n",
    "\n",
    "Sregeda with bisquare link brushing\n",
    ""
   ]
  },
  {
   "cell_type": "code",
   "execution_count": 2,
   "metadata": {},
   "source": [
    "% Perform both the FS and the S residuals monitoring\n",
    "[outLXS]=LXS(y,X,'nsamp',10000);\n",
    "[outFS]=FSReda(y,X,outLXS.bs);\n",
    "\n",
    "outTB=Sregeda(y,X,'plots',1,'rhofunc','bisquare');\n",
    "yl=5;\n",
    "ylim([-yl yl])\n",
    "% The information about the order of entry of the units in the FS is added\n",
    "% to outTB\n",
    "outTB.Un=outFS.Un;"
   ],
   "outputs": []
  },
  {
   "cell_type": "markdown",
   "metadata": {},
   "source": [
    "## Create Figure A.7-A.9\n",
    "\n",
    "Show the plot of minimum deletion residuals\n",
    ""
   ]
  },
  {
   "cell_type": "code",
   "execution_count": 3,
   "metadata": {},
   "source": [
    "mdrplot(outFS,'ylimy',[1 8])\n",
    "\n",
    "standard=struct;\n",
    "standard.ylim=[-yl yl];\n",
    "\n",
    "databrush=struct;\n",
    "databrush.bivarfit='';\n",
    "databrush.selectionmode='Brush'; % Brush selection\n",
    "% databrush.persist='on'; % Enable repeated mouse selections\n",
    "databrush.Label='off'; % Write labels of trajectories while selecting\n",
    "databrush.RemoveLabels='off'; % Do not remove labels after selection\n",
    "\n",
    "disp('Brush the monitoring residual plot')\n",
    "resfwdplot(outTB,'databrush',databrush,'datatooltip','','standard',standard)\n",
    "if prin==1\n",
    "    % print to postscript\n",
    "    print -depsc HDtbexeres6.eps;\n",
    "    print -depsc HDtbexemdr6.eps;\n",
    "\n",
    "    print -depsc HDtbexeres.eps;\n",
    "    print -depsc HDtbexemdr.eps;\n",
    "    print -depsc HDtbexeyXplot.eps;\n",
    "end\n",
    "\n",
    "%InsideREADME"
   ],
   "outputs": []
}
 ],
 "metadata": {
  "kernelspec": {
   "display_name": "MATLAB (matlabkernel)",
   "language": "matlab",
   "name": "matlab"
  },
  "language_info": {
   "file_extension": ".m",
   "mimetype": "text/matlab",
   "name": "matlab",
   "nbconvert_exporter": "matlab",
   "pygments_lexer": "matlab",
   "version": "23.2.0.2428915"
  }
 },
 "nbformat": 4,
 "nbformat_minor": 4
}