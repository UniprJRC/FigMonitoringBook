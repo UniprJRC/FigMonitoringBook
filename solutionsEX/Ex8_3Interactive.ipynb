{
 "cells": [
  {
   "cell_type": "markdown",
   "metadata": {},
   "source": [
    "\n",
    "# <span style=\"color:rgb(213,80,0)\">Dataset inttrade3</span>\n",
    "\n",
    "This file creates Figures A.47 (in an interactive way), Figure A.47 (created in a non interactive way), and Figure A.48 and Figure A.49 are created by Ex8\\_3.m.\n",
    "\n",
    "## Data loading"
   ]
  },
  {
   "cell_type": "code",
   "execution_count": 1,
   "metadata": {},
   "source": [
    "load inttrade3.mat\n",
    "% This dataset refers to 'POD_0307591000_SN_IT'\n",
    "X=inttrade3.Weight;\n",
    "y=inttrade3.Value;\n",
    "prin=0;\n",
    "close all\n",
    "X=X./max(X);\n",
    "Z=log(X);\n",
    "n=length(y);\n",
    "% In this Exercise ART heteroskedasiticty is used\n",
    "typeH='har';\n",
    "typeH='art';"
   ],
   "outputs": []
  },
  {
   "cell_type": "markdown",
   "metadata": {},
   "source": [
    "## Prepare the input for monitoring residuals and forecasts"
   ]
  },
  {
   "cell_type": "code",
   "execution_count": 2,
   "metadata": {},
   "source": [
    "[outLXS]=LXS(y,X,'nsamp',10000);\n",
    "outHEDA=FSRHeda(y,X,Z,outLXS.bs,'init',round(0.75*length(y)),'typeH',typeH);\n",
    "\n",
    "databrush=struct;\n",
    "% Do not show the labels of the brushed units in the yXplot\n",
    "% databrush.labeladd='1';\n",
    "databrush.BrushShape='rect';\n",
    "\n",
    "resfwdplot(outHEDA,'databrush',databrush,'datatooltip','');\n",
    "\n",
    "% Add titles to figures after brushing\n",
    "fig=findobj(0,'tag','pl_yX');\n",
    "figure(fig)\n",
    "if prin ==1\n",
    "    print -depsc P30brushxy.eps\n",
    "else\n",
    "    sgtitle('Figure similar to right hand panel of Figure A.47: it depends on your brushing')\n",
    "end\n",
    "\n",
    "fig=findobj(0,'tag','pl_resfwd');\n",
    "figure(fig)\n",
    "if prin==1\n",
    "    print -depsc  P30resfwdbrush.eps\n",
    "else\n",
    "    title('Figure similar to left panel of Figure A.47: it depends on your brushing')\n",
    "end\n",
    "\n",
    "%InsideREADME"
   ],
   "outputs": []
}
 ],
 "metadata": {
  "kernelspec": {
   "display_name": "MATLAB (matlabkernel)",
   "language": "matlab",
   "name": "matlab"
  },
  "language_info": {
   "file_extension": ".m",
   "mimetype": "text/matlab",
   "name": "matlab",
   "nbconvert_exporter": "matlab",
   "pygments_lexer": "matlab",
   "version": "24.1.0.2628055"
  }
 },
 "nbformat": 4,
 "nbformat_minor": 4
}