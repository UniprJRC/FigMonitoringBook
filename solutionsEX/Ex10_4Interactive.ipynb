{
 "cells": [
  {
   "cell_type": "markdown",
   "metadata": {},
   "source": [
    "\n",
    "# <span style=\"color:rgb(213,80,0)\">Analysis of the auto mpg data.</span>\n",
    "\n",
    "This file creates Figures A.79 and A.80. All the other figures for dataset autompg are created by file Ex10\\_4.m\n",
    "\n",
    "## Data loading\n",
    "\n",
    "carMPG\n",
    ""
   ]
  },
  {
   "cell_type": "code",
   "execution_count": 1,
   "metadata": {},
   "source": [
    "load autompg.mat\n",
    "XX=rmmissing(autompg);\n",
    "y=XX{:,end};\n",
    "X1=XX{:,1:end-1};\n",
    "DUM=dummyvar(X1(:,end));\n",
    "X=[X1(:,1:end-1) DUM(:,1:end-1)];\n",
    "Xytable=XX;\n",
    "nameXy=Xytable.Properties.VariableNames;\n",
    "nameXy=replace(nameXy,\"_\", \" \");\n",
    "nameXycat=[nameXy(:,1:6) {'ori1' 'ori2'} nameXy(end)];\n",
    "n=length(y);\n",
    "\n",
    "% Transform the response\n",
    "labest=-0.5;\n",
    "ytra=-y.^labest;\n",
    "\n",
    "% Select important regressors\n",
    "selvar=[3 4 6 7 8];\n",
    "Xs=X(:,selvar);\n",
    "prin=0;"
   ],
   "outputs": []
  },
  {
   "cell_type": "markdown",
   "metadata": {},
   "source": [
    "## Create Figures A.78 and A.79\n",
    "\n",
    "Monitoring of residuals FSReda and brushing\n",
    ""
   ]
  },
  {
   "cell_type": "code",
   "execution_count": 2,
   "metadata": {},
   "source": [
    "[outLXS]=LXS(ytra,Xs,'nsamp',10000);\n",
    "% Forward Search\n",
    "[out]=FSReda(ytra,Xs,outLXS.bs);\n",
    "\n",
    "fground=struct;\n",
    "fground.fthresh=3.3;\n",
    "resfwdplot(out,'fground',fground,'datatooltip','')\n",
    "\n",
    "databrush=struct;\n",
    "databrush.labeladd='1';\n",
    "\n",
    "% Construct the xlabel and ylabel for the yXplot which shows the brushed\n",
    "% units\n",
    "nameX=string(nameXycat(selvar));\n",
    "namey='-(mpg^{-0.5})';\n",
    "\n",
    "resfwdplot(out,'databrush',databrush,'fground',fground,'datatooltip','', ...\n",
    "    'nameX',nameX,'namey',namey)"
   ],
   "outputs": []
  },
  {
   "cell_type": "code",
   "execution_count": 3,
   "metadata": {},
   "source": [
    "fig=findobj(0,'tag','pl_yX');\n",
    "figure(fig)\n",
    "sgtitle('Figure similar to bottom panel of Figure 8.78 or Figure A.79: It depends on your brushing')\n",
    "fig=findobj(0,'tag','pl_resfwd');\n",
    "figure(fig)\n",
    "title('Figure similar to top panel of Figure 8.78 or Figure A.79','It depends on your brushing')\n",
    "\n",
    "if prin==1\n",
    "    % print to postscript\n",
    "    print -depsc figs\\MPGbrushres1.eps;\n",
    "    print -depsc MPGbrushyX1.eps;\n",
    "    print -depsc figs\\MPGbrushres2.eps;\n",
    "    print -depsc MPGbrushyX2.eps;\n",
    "end\n",
    "\n",
    "%InsideREADME"
   ],
   "outputs": []
}
 ],
 "metadata": {
  "kernelspec": {
   "display_name": "MATLAB (matlabkernel)",
   "language": "matlab",
   "name": "matlab"
  },
  "language_info": {
   "file_extension": ".m",
   "mimetype": "text/matlab",
   "name": "matlab",
   "nbconvert_exporter": "matlab",
   "pygments_lexer": "matlab",
   "version": "24.1.0.2628055"
  }
 },
 "nbformat": 4,
 "nbformat_minor": 4
}