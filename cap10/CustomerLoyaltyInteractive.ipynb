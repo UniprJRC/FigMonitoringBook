{
 "cells": [
  {
   "cell_type": "markdown",
   "metadata": {},
   "source": [
    "\n",
    "# <span style=\"color:rgb(213,80,0)\">This file is referred to dataset Customer Loyalty</span>\n",
    "\n",
    "This is just the interactive part It creates Figures 10.22 and 10.24 The file which creates all the Figures and for this dataset is called CustomerLoyalty.m\n",
    "\n",
    "## Data loading"
   ]
  },
  {
   "cell_type": "code",
   "execution_count": 1,
   "metadata": {},
   "source": [
    "load ConsLoyaltyRet.mat\n",
    "Xytable=ConsLoyaltyRet(:,2:end);\n",
    "nameXy=Xytable.Properties.VariableNames;\n",
    "nameX=nameXy(1:end-1);\n",
    "X=Xytable{:,1:end-1};\n",
    "y=Xytable{:,end};\n",
    "n=length(y);\n",
    "prin=0;"
   ],
   "outputs": []
  },
  {
   "cell_type": "markdown",
   "metadata": {},
   "source": [
    "## Monitoring of residuals"
   ]
  },
  {
   "cell_type": "code",
   "execution_count": 2,
   "metadata": {},
   "source": [
    "useBestSubset=true;\n",
    "if useBestSubset==true\n",
    "    % The figure has been built starting from 500000 subsets giving as best\n",
    "    % subset\n",
    "\n",
    "    out.bs=[1471  625 692 64 1456 688 1112];\n",
    "else\n",
    "    % LMS using 1000 subsamples\n",
    "    [out]=LXS(y,X,'nsamp',10000,'lms',2);\n",
    "end\n",
    "\n",
    "% Forward Search\n",
    "[outFS]=FSReda(y,X,out.bs);\n",
    "\n",
    "% Interactive part\n",
    "databrush=struct;\n",
    "databrush.Label='on'; % Write labels of trajectories while selecting\n",
    "databrush.RemoveLabels='off'; % Do not remove labels after selection\n",
    "databrush.selectionmode='Rect'; % Rectangular selection\n",
    "databrush.labeladd='1';\n",
    "resfwdplot(outFS,'databrush',databrush,'datatooltip','')\n",
    "\n",
    "fig=findobj(0,'tag','pl_yX');\n",
    "figure(fig)\n",
    "sgtitle('Figure similar to Figure 10.22: it depends on your brushing')\n",
    "\n",
    "fig=findobj(0,'tag','pl_resfwd');\n",
    "figure(fig)\n",
    "title('Figure similar to Figure 10.24: It depends on your brushing')\n",
    "\n",
    "if prin==1\n",
    "    % print to postscript\n",
    "    print -depsc figs\\regf4.eps;\n",
    "    print -depsc figs\\regf5.eps;\n",
    "end\n",
    "\n",
    "%InsideREADME"
   ],
   "outputs": []
}
 ],
 "metadata": {
  "kernelspec": {
   "display_name": "MATLAB (matlabkernel)",
   "language": "matlab",
   "name": "matlab"
  },
  "language_info": {
   "file_extension": ".m",
   "mimetype": "text/matlab",
   "name": "matlab",
   "nbconvert_exporter": "matlab",
   "pygments_lexer": "matlab",
   "version": "23.2.0.2428915"
  }
 },
 "nbformat": 4,
 "nbformat_minor": 4
}