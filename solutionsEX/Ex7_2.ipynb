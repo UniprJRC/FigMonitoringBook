{
 "cells": [
  {
   "cell_type": "markdown",
   "metadata": {},
   "source": [
    "\n",
    "# <span style=\"color:rgb(213,80,0)\">Exercise 7.2</span>\n",
    "\n",
    "Augmented Investment Funds data. This file creates Figure A.36-A.43 and Table A.17\n",
    "\n",
    "## Initial part"
   ]
  },
  {
   "cell_type": "code",
   "execution_count": 1,
   "metadata": {},
   "source": [
    "load InvFundsExt.mat\n",
    "y=InvFundsExt{:,end};\n",
    "X=InvFundsExt{:,[1 2]};\n",
    "[n,p]=size(X);\n",
    "\n",
    "prin=0;\n",
    "nameXy=InvFundsExt.Properties.VariableNames;"
   ],
   "outputs": []
  },
  {
   "cell_type": "markdown",
   "metadata": {},
   "source": [
    "## Create Figure A.36 (left panel)\n",
    "\n",
    "fanplot just one lambda\n",
    ""
   ]
  },
  {
   "cell_type": "code",
   "execution_count": 2,
   "metadata": {},
   "source": [
    "la=[0.5 0.75 1];\n",
    "ylimy='';\n",
    "out=FSRfan(y,X,'la',la,'family','YJ','plots',1,'init',round(n/3),'ylimy',[-ylimy ylimy],'msg',0);\n",
    "title('')\n",
    "\n",
    "title('Figure A.36 (left panel)')\n",
    "set(gcf,\"Name\",'Figure A.36 (left panel)')\n",
    "\n",
    "% fanplot(out)\n",
    "if prin==1\n",
    "    print -depsc figs\\NPfan.eps\n",
    "end"
   ],
   "outputs": []
  },
  {
   "cell_type": "markdown",
   "metadata": {},
   "source": [
    "## Create Figure A.36 (right panel)\n",
    "\n",
    "fanplotpn (extended fanplot)\n",
    ""
   ]
  },
  {
   "cell_type": "code",
   "execution_count": 3,
   "metadata": {},
   "source": [
    "la=[0.5 0.75 1];\n",
    "ylimy='';\n",
    "out=FSRfan(y,X,'la',la,'family','YJpn','plots',1,'init',round(n/2), ...\n",
    "    'ylimy',[-ylimy ylimy],'msg',0,'tag','plfanpn');\n",
    "title('')\n",
    "\n",
    "title('Figure A.36 (right panel)')\n",
    "set(gcf,\"Name\",'Figure A.36 (right panel)')\n",
    "\n",
    "if prin==1\n",
    "    print -depsc figs\\NPfanpn.eps\n",
    "end"
   ],
   "outputs": []
  },
  {
   "cell_type": "markdown",
   "metadata": {},
   "source": [
    "## Automatic procedure"
   ]
  },
  {
   "cell_type": "code",
   "execution_count": 4,
   "metadata": {},
   "source": [
    "[outFSRfan]=FSRfan(y,X,'plots',0,'init',round(n*0.3),'nsamp',10000,'la',[0 0.25 0.5 0.75 1 1.25],'msg',0,'family','YJ');\n",
    "[outini]=fanBIC(outFSRfan,'plots',0);\n",
    "if prin==1\n",
    "    % print to postscript\n",
    "    print -depsc figs\\NPauto.eps;\n",
    "end\n",
    "% labest is the best value imposing the constraint that positive and\n",
    "% negative observations must have the same tramsformation parameter.\n",
    "labest=outini.labest;\n",
    "disp('Best value of lambda (just using one lambda) from the automatic procedure')\n",
    "disp(['lambda=' num2str(labest)])"
   ],
   "outputs": []
  },
  {
   "cell_type": "markdown",
   "metadata": {},
   "source": [
    "## Create Figures A.37 and A.38\n",
    "\n",
    "Automatic procedure\n",
    ""
   ]
  },
  {
   "cell_type": "code",
   "execution_count": 5,
   "metadata": {},
   "source": [
    "[outFSRfanpn]=FSRfan(y,X,'msg',0,'family','YJpn','la',labest,'plots',0);\n",
    "out1=fanBICpn(outFSRfanpn);\n",
    "\n",
    "fig=findobj(0,'tag','pl_BIC');\n",
    "figure(fig(1))\n",
    "set(gcf,'Name', 'Figure A.37 (left panel)');\n",
    "\n",
    "fig=findobj(0,'tag','pl_AGI');\n",
    "figure(fig(1))\n",
    "set(gcf,'Name', 'Figure A.37 (right panel)');\n",
    "\n",
    "fig=findobj(0,'tag','pl_nobs');\n",
    "figure(fig(1))\n",
    "set(gcf,'Name', 'Figure A.38 (left panel)');\n",
    "\n",
    "fig=findobj(0,'tag','pl_R2c');\n",
    "figure(fig(1))\n",
    "set(gcf,'Name', 'Figure A.38 (right panel)');\n",
    "\n",
    "if prin==1\n",
    "    % print to postscript\n",
    "    print -depsc figs\\NPautopnh.eps;\n",
    "    print -depsc figs\\NPautopnBIC.eps;\n",
    "    print -depsc figs\\NPautopnAGI.eps;\n",
    "    print -depsc figs\\NPautopnR2.eps;\n",
    "end"
   ],
   "outputs": []
  },
  {
   "cell_type": "markdown",
   "metadata": {},
   "source": [
    "## Prepare the input for Figure A.39\n",
    "\n",
    "Transformation\n",
    ""
   ]
  },
  {
   "cell_type": "code",
   "execution_count": 6,
   "metadata": {},
   "source": [
    "ytra=normYJpn(y, [], [1, 0], 'inverse',false, 'Jacobian', false);\n",
    "out=FSR(ytra,X,'plots',0);\n",
    "disp(['Number of outliers found in the transformed scale=' num2str(length(out.outliers))])\n",
    "\n",
    "if prin==1\n",
    "    % print to postscript\n",
    "    print -depsc figs\\NPfsr.eps;\n",
    "end\n",
    "% Find the two groups (good units and outliers)\n",
    "seq=1:n;\n",
    "outliers=out.outliers;\n",
    "sel=setdiff(seq,outliers);\n",
    "ytrag=ytra(sel);\n",
    "Xg=X(sel,:);"
   ],
   "outputs": []
  },
  {
   "cell_type": "markdown",
   "metadata": {},
   "source": [
    "## Create Figure A.39"
   ]
  },
  {
   "cell_type": "code",
   "execution_count": 7,
   "metadata": {},
   "source": [
    "group=repelem(\"Good units\",n,1);\n",
    "group(outliers)=\"Outliers\";\n",
    "group=cellstr(group);\n",
    "yXplot(ytra,X,group,'tag','pl_ytra');\n",
    "sgtitle('Figure A.39 ')\n",
    "set(gcf,\"Name\",'Figure A.39')"
   ],
   "outputs": []
  },
  {
   "cell_type": "markdown",
   "metadata": {},
   "source": [
    "## Create figure A.40\n",
    "\n",
    "Comparison of normal QQ plots of residuals\n",
    ""
   ]
  },
  {
   "cell_type": "code",
   "execution_count": 8,
   "metadata": {},
   "source": [
    "nr=2;\n",
    "nc=2;\n",
    "figure\n",
    "% residuals in the original scale\n",
    "h1=subplot(nr,nc,1);\n",
    "outLMy=fitlm(X,y);\n",
    "restra=outLMy.Residuals{:,3};\n",
    "qqplotFS(restra,'X',X,'plots',1,'h',h1);\n",
    "\n",
    "% residual for the transformed EYJ scale (without the outliers)\n",
    "h2=subplot(nr,nc,2);\n",
    "outLMytrag=fitlm(Xg,ytrag);\n",
    "restra=outLMytrag.Residuals{:,3};\n",
    "qqplotFS(restra,'X',Xg,'plots',1,'h',h2);\n",
    "\n",
    "sgtitle('Figure A.40 ')\n",
    "set(gcf,\"Name\",'Figure A.40')\n",
    "\n",
    "if prin==1\n",
    "    % print to postscript\n",
    "    print -depsc figs\\NP1.eps;\n",
    "end"
   ],
   "outputs": []
  },
  {
   "cell_type": "markdown",
   "metadata": {},
   "source": [
    "## Create Figure A.41"
   ]
  },
  {
   "cell_type": "code",
   "execution_count": 9,
   "metadata": {},
   "source": [
    "figure\n",
    "subplot(2,2,1)\n",
    "plot(y,zscore(ytra),'o')\n",
    "ylabel('YJ extended')\n",
    "xlabel('y')\n",
    "\n",
    "subplot(2,2,2)\n",
    "l=4*ones(p,1);\n",
    "outAVASy= avas(y,X,'l',l);\n",
    "plot(y,outAVASy.ty,'o')\n",
    "ylabel('AVAS')\n",
    "xlabel('y')\n",
    "\n",
    "subplot(2,2,3)\n",
    "% ACE  (non monotonic)\n",
    "l=[4*ones(p,1); 1];\n",
    "outACE= ace(y,X,'l',l);\n",
    "plot(y,outACE.ty,'o')\n",
    "ylabel('ACE')\n",
    "xlabel('y')\n",
    "\n",
    "subplot(2,2,4)\n",
    "% ACE  (monotonic)\n",
    "l=[4*ones(p,1); 3];\n",
    "outACEcy= ace(y,X,'l',l);\n",
    "plot(y,outACEcy.ty,'o')\n",
    "ylabel('ACE monotonic')\n",
    "xlabel('y')\n",
    "\n",
    "if prin==1\n",
    "    % print to postscript\n",
    "    print -depsc figs\\NP2.eps;\n",
    "end\n",
    "\n",
    "sgtitle('Figure A.41 ')\n",
    "set(gcf,\"Name\",'Figure A.41')"
   ],
   "outputs": []
  },
  {
   "cell_type": "markdown",
   "metadata": {},
   "source": [
    "## Create Table A.18"
   ]
  },
  {
   "cell_type": "code",
   "execution_count": 10,
   "metadata": {},
   "source": [
    "A18=zeros(5,2);\n",
    "% First row of Table A.18 OLS\n",
    "R2y=outLMy.Rsquared.Ordinary;\n",
    "A18(1,:)=[R2y NaN];\n",
    "\n",
    "% Second row of Table A.18 (EYJ)\n",
    "outLMytra=fitlm(X,ytra);\n",
    "R2ytraEYJ=outLMytra.Rsquared.Ordinary;\n",
    "R2ytragEYJ=outLMytrag.Rsquared.Ordinary;\n",
    "A18(2,:)=[R2ytraEYJ R2ytragEYJ];\n",
    "\n",
    "% Third row of Table A.18 (AVAS)\n",
    "R2yAVAS=outAVASy.rsq;\n",
    "\n",
    "l=4*ones(p,1);\n",
    "outAVytrag= avas(ytrag,Xg,'l',l);\n",
    "R2ytragAVAS=outAVytrag.rsq;\n",
    "A18(3,:)=[R2yAVAS  R2ytragAVAS];\n",
    "\n",
    "% Fourth row of Table A.18 (ACE)\n",
    "R2yACE=outACE.rsq;\n",
    "l=[4*ones(p,1); 1];\n",
    "outACEytrag= ace(ytrag,Xg,'l',l);\n",
    "R2ytragACE=outACEytrag.rsq;\n",
    "A18(4,:)=[R2yACE R2ytragACE];\n",
    "\n",
    "% Fifth row of Table A.18 (ACE monotonic)\n",
    "R2yACEcy=outACEcy.rsq;\n",
    "\n",
    "l=[4*ones(p,1); 3];\n",
    "outACEcytrag= ace(ytrag,Xg,'l',l);\n",
    "R2ytragACEc=outACEcytrag.rsq;\n",
    "A18(5,:)=[R2yACEcy R2ytragACEc];\n",
    "\n",
    "rownam=[\"Untransformed\" \"EYJ\" \"AVAS (no option)\" \"ACE\" \"ACE (monotonic)\"];\n",
    "colnam=[\"Contaminated\" \"Cleaned and transformed\"];\n",
    "A18t=array2table(A18,'RowNames',rownam,'VariableNames',colnam);\n",
    "disp(\"Table A.18\")\n",
    "disp(A18t)"
   ],
   "outputs": []
  },
  {
   "cell_type": "markdown",
   "metadata": {},
   "source": [
    "## Create Figure A.42\n",
    "\n",
    "Create NP3 yres vs fitted original data\n",
    ""
   ]
  },
  {
   "cell_type": "code",
   "execution_count": 11,
   "metadata": {},
   "source": [
    "figure\n",
    "subplot(2,2,1)\n",
    "% l=[4*ones(p,1); 3];\n",
    "% outACEc= ace(y,X,'l',l);\n",
    "yhat=sum(outACEcy.tX,2);\n",
    "res = outACEcy.ty - yhat;\n",
    "plot(yhat,res,'o')\n",
    "refline(0,0)\n",
    "% title('Plot of residuals vs. fit')\n",
    "ylabel('ACE residuals')\n",
    "xlabel('Fitted values')\n",
    "\n",
    "subplot(2,2,2)\n",
    "% AVAS\n",
    "yhat=sum(outAVASy.tX,2);\n",
    "\n",
    "res = outAVASy.ty - yhat;\n",
    "plot(yhat,res,'o')\n",
    "refline(0,0)\n",
    "% title('Plot of residuals vs. fit')\n",
    "ylabel('AVAS residuals')\n",
    "xlabel('Fitted values')\n",
    "\n",
    "if prin==1\n",
    "    % print to postscript\n",
    "    print -depsc NP3.eps;\n",
    "end\n",
    "sgtitle('Figure A.42 ')\n",
    "set(gcf,\"Name\",'Figure A.42')"
   ],
   "outputs": []
  },
  {
   "cell_type": "markdown",
   "metadata": {},
   "source": [
    "## Create Figure A.43\n",
    "\n",
    "Automatic selection of the options\n",
    ""
   ]
  },
  {
   "cell_type": "code",
   "execution_count": 12,
   "metadata": {},
   "source": [
    "outAVAS=avasms(y,X,'plots',0);\n",
    "% Extract best solution\n",
    "j=1;\n",
    "outj=outAVAS{j,\"Out\"};\n",
    "outrobAV=outj{:};\n",
    "\n",
    "nameXy=replace(nameXy,\"_\", \" \");\n",
    "aceplot(outrobAV,'VarNames',nameXy,'notitle',true,'oneplot',true)\n",
    "sgtitle('Figure A.43')\n",
    "set(gcf,\"Name\",'Figure A.43')\n",
    "\n",
    "if prin==1\n",
    "    % print to postscript\n",
    "    print -depsc figs\\NP4.eps;\n",
    "end"
   ],
   "outputs": []
  },
  {
   "cell_type": "markdown",
   "metadata": {},
   "source": [
    "## Create Table A.19"
   ]
  },
  {
   "cell_type": "code",
   "execution_count": 13,
   "metadata": {},
   "source": [
    "disp('Table A.19: ANOVA in the transformed RAVAS scale')\n",
    "outF=fitlm(outrobAV.tX,outrobAV.ty,'Exclude',outrobAV.outliers,'VarNames',nameXy);\n",
    "disp(outF)\n",
    "\n",
    "%InsideREADME"
   ],
   "outputs": []
}
 ],
 "metadata": {
  "kernelspec": {
   "display_name": "MATLAB (matlabkernel)",
   "language": "matlab",
   "name": "matlab"
  },
  "language_info": {
   "file_extension": ".m",
   "mimetype": "text/matlab",
   "name": "matlab",
   "nbconvert_exporter": "matlab",
   "pygments_lexer": "matlab",
   "version": "23.2.0.2428915"
  }
 },
 "nbformat": 4,
 "nbformat_minor": 4
}