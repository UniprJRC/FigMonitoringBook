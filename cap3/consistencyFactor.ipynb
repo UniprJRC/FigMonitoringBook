{
 "cells": [
  {
   "cell_type": "markdown",
   "metadata": {},
   "source": [
    "\n",
    "# <span style=\"color:rgb(213,80,0)\">Consistency factor, break down point and efficiency.</span>\n",
    "\n",
    "This file createa Figure 3.6, 3.7, Table 3.2 and 3.3.\n",
    "\n",
    "\n",
    "lwd = LineWidth\n",
    ""
   ]
  },
  {
   "cell_type": "code",
   "execution_count": 1,
   "metadata": {},
   "source": [
    "lwd=3;\n",
    "% fs = FontSize\n",
    "fs=16;\n",
    "\n",
    "prin=0;\n",
    "close all"
   ],
   "outputs": []
  },
  {
   "cell_type": "markdown",
   "metadata": {},
   "source": [
    "\n",
    "## Create Figure 3.6\n",
    "\n",
    "bdp varies: compute consistency factor c and efficiency\n",
    ""
   ]
  },
  {
   "cell_type": "code",
   "execution_count": 2,
   "metadata": {},
   "source": [
    "bdpseq=0.001:0.001:0.5;\n",
    "\n",
    "TB=[bdpseq' zeros(length(bdpseq),1)];\n",
    "ij=0;\n",
    "\n",
    "for i=bdpseq\n",
    "\n",
    "    ij=ij+1;\n",
    "    TB(ij,2)=TBbdp(i,1);\n",
    "\n",
    "    [~,eff]=TBc(TB(ij,2),1);\n",
    "    TB(ij,3)=eff;\n",
    "end\n",
    "\n",
    "subplot(2,1,1);\n",
    "plot(TB(:,1),TB(:,2),'LineWidth',lwd)\n",
    "ylim([min(TB(:,2)) max(TB(:,2))]);\n",
    "ylabel('c','FontSize',fs)\n",
    "xlabel('Breakdown point (bdp)','FontSize',fs)\n",
    "set(gca,'FontSize',fs)\n",
    "\n",
    "subplot(2,1,2);\n",
    "plot(TB(:,1),TB(:,3),'LineWidth',lwd)\n",
    "ylim([min(TB(:,3)) max(TB(:,3))]);\n",
    "xlabel('Breakdown point (bdp)','FontSize',fs)\n",
    "ylabel('Efficiency (eff)','FontSize',fs')\n",
    "set(gca,'FontSize',fs)\n",
    "\n",
    "sgtitle('Figure 3.6')\n",
    "set(gcf,\"Name\",'Figure 3.6')\n",
    "\n",
    "if prin==1\n",
    "    % print to postscript\n",
    "    print -depsc TBrhox.eps;\n",
    "end"
   ],
   "outputs": []
  },
  {
   "cell_type": "markdown",
   "metadata": {},
   "source": [
    "\n",
    "## Create Figure 3.7\n",
    "\n",
    "eff varies: compute consistency factor c and e bdp\n",
    ""
   ]
  },
  {
   "cell_type": "code",
   "execution_count": 3,
   "metadata": {},
   "source": [
    "effseq=0.5:0.001:0.99;\n",
    "TB=[effseq' zeros(length(effseq),1)];\n",
    "ij=0;\n",
    "\n",
    "for i=effseq\n",
    "\n",
    "    ij=ij+1;\n",
    "    TB(ij,2)=TBeff(i,1);\n",
    "\n",
    "    [bdp,~]=TBc(TB(ij,2),1);\n",
    "    TB(ij,3)=bdp;\n",
    "end\n",
    "\n",
    "figure\n",
    "subplot(2,1,1);\n",
    "plot(TB(:,1),TB(:,2),'LineWidth',lwd)\n",
    "ylim([min(TB(:,2)) max(TB(:,2))]);\n",
    "ylabel('c','FontSize',fs)\n",
    "xlabel('Efficiency (eff)','FontSize',fs)\n",
    "set(gca,'FontSize',fs)\n",
    "\n",
    "subplot(2,1,2);\n",
    "plot(TB(:,1),TB(:,3),'LineWidth',lwd)\n",
    "ylim([min(TB(:,3)) max(TB(:,3))]);\n",
    "xlabel('Efficiency (eff)','FontSize',fs)\n",
    "ylabel('Breakdown point (bdp)','FontSize',fs')\n",
    "set(gca,'FontSize',fs)\n",
    "\n",
    "sgtitle('Figure 3.7')\n",
    "set(gcf,\"Name\",'Figure 3.7')\n",
    "\n",
    "if prin==1\n",
    "    % print to postscript\n",
    "    print -depsc TBeffx.eps;\n",
    "end"
   ],
   "outputs": []
  },
  {
   "cell_type": "markdown",
   "metadata": {},
   "source": [
    "\n",
    "## Create Tables 3.2 and 3.3\n",
    "\n",
    "Create Table 3.2\n",
    ""
   ]
  },
  {
   "cell_type": "code",
   "execution_count": 4,
   "metadata": {},
   "source": [
    "bdpseq=0.05:0.05:0.5;\n",
    "TBinputbdp=[bdpseq' zeros(length(bdpseq),1)];\n",
    "ij=0;\n",
    "\n",
    "for i=bdpseq\n",
    "    ij=ij+1;\n",
    "    TBinputbdp(ij,2)=TBbdp(i,1);\n",
    "\n",
    "    [~,eff]=TBc(TBinputbdp(ij,2),1);\n",
    "    TBinputbdp(ij,3)=eff;\n",
    "end\n",
    "\n",
    "varNames=[\"Breakdown point bdp\" \"Consistency factor c\" \"Efficiency eff\"];\n",
    "T32=array2table(TBinputbdp,\"VariableNames\",varNames);\n",
    "disp(\"Table 3.2\")\n",
    "disp(T32)\n",
    "\n",
    "% Create Table 3.3\n",
    "% eff varies: compute consistency factor c and e bdp\n",
    "effseq=[0.5 0.6 0.7:0.05:0.95 0.99];\n",
    "TBinputeff=[effseq' zeros(length(effseq),1)];\n",
    "ij=0;\n",
    "\n",
    "for i=effseq\n",
    "\n",
    "    ij=ij+1;\n",
    "    TBinputeff(ij,2)=TBeff(i,1);\n",
    "\n",
    "    [bdp,~]=TBc(TBinputeff(ij,2),1);\n",
    "    TBinputeff(ij,3)=bdp;\n",
    "end\n",
    "\n",
    "disp(\"Table 3.3\")\n",
    "varNames=[\"Asymptotic efficiency at the normal model\" \"Consistency factor c\" \"Efficiency eff\"];\n",
    "T33=array2table(TBinputeff,\"VariableNames\",varNames);\n",
    "disp(T33)\n",
    "\n",
    "%InsideREADME"
   ],
   "outputs": []
}
 ],
 "metadata": {
  "kernelspec": {
   "display_name": "MATLAB (matlabkernel)",
   "language": "matlab",
   "name": "matlab"
  },
  "language_info": {
   "file_extension": ".m",
   "mimetype": "text/matlab",
   "name": "matlab",
   "nbconvert_exporter": "matlab",
   "pygments_lexer": "matlab",
   "version": "24.1.0.2453260"
  }
 },
 "nbformat": 4,
 "nbformat_minor": 4
}