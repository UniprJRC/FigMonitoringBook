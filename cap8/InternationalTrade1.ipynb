{
 "cells": [
  {
   "cell_type": "markdown",
   "metadata": {},
   "source": [
    "\n",
    "# <span style=\"color:rgb(213,80,0)\">Heteroskedasticity: International Trade Data 2.</span>\n",
    "\n",
    "This file creates Figures 8.12\\-8.15.\n",
    "\n",
    "## Beginning of code"
   ]
  },
  {
   "cell_type": "code",
   "execution_count": 1,
   "metadata": {},
   "source": [
    "load inttrade1.mat\n",
    "% This dataset refers to 'POD_4801000000_CH_IT\n",
    "X=inttrade1.Weight;\n",
    "y=inttrade1.Value;\n",
    "prin=0;\n",
    "close all\n",
    "X=X./max(X);\n",
    "Z=log(X);\n",
    "n=length(y);"
   ],
   "outputs": []
  },
  {
   "cell_type": "markdown",
   "metadata": {},
   "source": [
    "\n",
    "## Create Figure 8.12"
   ]
  },
  {
   "cell_type": "code",
   "execution_count": 2,
   "metadata": {},
   "source": [
    "scatter(X,y)\n",
    "ylabel('Value')\n",
    "xlabel('Weight')\n",
    "if prin==1\n",
    "    print -depsc P48scatter.eps;\n",
    "end\n",
    "set(gcf,'Name', 'Figure 8.12');\n",
    "title('Figure 8.12')"
   ],
   "outputs": []
  },
  {
   "cell_type": "markdown",
   "metadata": {},
   "source": [
    "\n",
    "## Preapare input for Figures 8.13 and 8.14"
   ]
  },
  {
   "cell_type": "code",
   "execution_count": 3,
   "metadata": {},
   "source": [
    "typeH='art';\n",
    "% typeH='har';\n",
    "[outLXS]=LXS(y,X,'nsamp',1000);\n",
    "outHEDA=FSRHeda(y,X,Z,outLXS.bs,'init',round(0.7*length(y)),'typeH',typeH);"
   ],
   "outputs": []
  },
  {
   "cell_type": "markdown",
   "metadata": {},
   "source": [
    "\n",
    "## Create Figure 8.13\n",
    "\n",
    "Monitoring parameter estimates\n",
    ""
   ]
  },
  {
   "cell_type": "code",
   "execution_count": 4,
   "metadata": {},
   "source": [
    "nr=3; nc=1;\n",
    "figure\n",
    "subplot(nr,nc,1)\n",
    "plot(outHEDA.Hetero(:,1),outHEDA.Hetero(:,2))\n",
    "xlabel('Subset size m')\n",
    "kk=20;\n",
    "xlim([outHEDA.Hetero(1,1) outHEDA.Hetero(end,1)+kk])\n",
    "title('\\alpha')\n",
    "subplot(nr,nc,2)\n",
    "plot(outHEDA.Hetero(:,1),log(outHEDA.Hetero(:,3)))\n",
    "title('log(\\theta)')\n",
    "xlim([outHEDA.Hetero(1,1) outHEDA.Hetero(end,1)+kk])\n",
    "% ylim([9 14])\n",
    "xlabel('Subset size m')\n",
    "subplot(nr,nc,3)\n",
    "plot(outHEDA.S2(:,1),outHEDA.S2(:,2))\n",
    "xlim([outHEDA.Hetero(1,1) outHEDA.Hetero(end,1)+kk])\n",
    "% ylim([0 2000])\n",
    "title('\\sigma^2')\n",
    "xlabel('Subset size m')\n",
    "if prin==1\n",
    "    print -depsc P48param.eps;\n",
    "end\n",
    "set(gcf,'Name', 'Figure 8.13');\n",
    "sgtitle('Figure 8.13')"
   ],
   "outputs": []
  },
  {
   "cell_type": "markdown",
   "metadata": {},
   "source": [
    "\n",
    "## Create Figure 8.14\n",
    "\n",
    "Monitoring residuals\n",
    ""
   ]
  },
  {
   "cell_type": "code",
   "execution_count": 5,
   "metadata": {},
   "source": [
    "resfwdplot(outHEDA,'datatooltip','')\n",
    "if prin==1\n",
    "    print -depsc P48resfwd.eps;\n",
    "end\n",
    "set(gcf,'Name', 'Figure 8.14');\n",
    "title('Figure 8.14')"
   ],
   "outputs": []
  },
  {
   "cell_type": "markdown",
   "metadata": {},
   "source": [
    "\n",
    "## Prepare input for Figure 8.15\n",
    "\n",
    "Automatic outlier detection\n",
    ""
   ]
  },
  {
   "cell_type": "code",
   "execution_count": 6,
   "metadata": {},
   "source": [
    "bonflev=0.99;\n",
    "outH=FSRH(y,X,Z,'init',round(n*0.8),'plots',0,'ylim',[1.6 3], ...\n",
    "    'typeH',typeH,'bonflev',bonflev);\n",
    "outl=[outH.ListOut];\n",
    "bsb=1:n;\n",
    "bsb(outl)=[];"
   ],
   "outputs": []
  },
  {
   "cell_type": "markdown",
   "metadata": {},
   "source": [
    "\n",
    "## Create Figure 8.15\n",
    "\n",
    "Forecasts with confidence bands\n",
    ""
   ]
  },
  {
   "cell_type": "code",
   "execution_count": 7,
   "metadata": {},
   "source": [
    "figure\n",
    "forecastH(y,X,Z,'outH',outHEDA,'bsb',bsb,'conflev',1-0.01/n);\n",
    "% scatter(X,y)\n",
    "title('')\n",
    "ylabel(typeH)\n",
    "ylabel('Value')\n",
    "xlabel('Weight')\n",
    "if prin==1\n",
    "    print -depsc P48bandsHhar.eps;\n",
    "    print -depsc P48bandsH.eps;\n",
    "    print -depsc P48scatterwithouthar.eps;\n",
    "end\n",
    "\n",
    "set(gcf,'Name', 'Figure 8.15');\n",
    "title('Figure 8.15')\n",
    "\n",
    "% %% HOMOSCEDASTIC analysis\n",
    "% close all\n",
    "% [outLXS]=LXS(y,X,'nsamp',10000,'lms',0);\n",
    "%\n",
    "% out.ListOut=outLXS.outliers;\n",
    "% mdl = fitlm(X,y,'Exclude',outLXS.ListOut);\n",
    "% Xnew=(min(X):(max(X)-min(X))/100:max(X))';\n",
    "% [ypred,yci] = predict(mdl,Xnew,'Prediction','observation','alpha',0.01,'Simultaneous','on');\n",
    "% hold('on')\n",
    "% seq=1:length(y);\n",
    "% good=setdiff(seq,out.ListOut);\n",
    "% plot(X(good),y(good),'o')\n",
    "% plot(X(out.ListOut),y(out.ListOut),'rx','MarkerSize',5)\n",
    "%\n",
    "% plot(Xnew,ypred,'k')\n",
    "% plot(Xnew,yci,'r','LineWidth',1)\n",
    "% ylim([0 5e+04])\n",
    "% xlabel('Quantity')\n",
    "% ylabel('Value')\n",
    "% xlim([min(X) max(X)])\n",
    "% if prin==1\n",
    "%     print -depsc P48param.eps;\n",
    "% end\n",
    "\n",
    "%InsideREADME"
   ],
   "outputs": []
}
 ],
 "metadata": {
  "kernelspec": {
   "display_name": "MATLAB (matlabkernel)",
   "language": "matlab",
   "name": "matlab"
  },
  "language_info": {
   "file_extension": ".m",
   "mimetype": "text/matlab",
   "name": "matlab",
   "nbconvert_exporter": "matlab",
   "pygments_lexer": "matlab",
   "version": "24.1.0.2453260"
  }
 },
 "nbformat": 4,
 "nbformat_minor": 4
}