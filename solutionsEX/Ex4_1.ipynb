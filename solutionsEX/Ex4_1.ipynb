{
 "cells": [
  {
   "cell_type": "markdown",
   "metadata": {},
   "source": [
    "\n",
    "# <span style=\"color:rgb(213,80,0)\">Exercise 4.1</span>\n",
    "\n",
    "AR data: standard static way of data analysis (non-robust and robust) This file creates Figure A.5-A.6 and Tables A.3-A.5\n",
    "\n",
    "## MR (Multiple regression data): Forward EDA datatooltip which monitors bsb"
   ]
  },
  {
   "cell_type": "code",
   "execution_count": 1,
   "metadata": {},
   "source": [
    "load('multiple_regression.txt');\n",
    "y=multiple_regression(:,4);\n",
    "X=multiple_regression(:,1:3);"
   ],
   "outputs": []
  },
  {
   "cell_type": "markdown",
   "metadata": {},
   "source": [
    "## Create Table A.3"
   ]
  },
  {
   "cell_type": "code",
   "execution_count": 2,
   "metadata": {},
   "source": [
    "mdl=fitlm(X,y);\n",
    "disp('ANOVA table based on all the observations')\n",
    "disp(mdl)"
   ],
   "outputs": []
  },
  {
   "cell_type": "markdown",
   "metadata": {},
   "source": [
    "## Create Table A.4"
   ]
  },
  {
   "cell_type": "code",
   "execution_count": 3,
   "metadata": {},
   "source": [
    "mdlExcl43=fitlm(X,y,'Exclude',43);\n",
    "disp('ANOVA table after excluding observation 43')\n",
    "disp(mdlExcl43)"
   ],
   "outputs": []
  },
  {
   "cell_type": "markdown",
   "metadata": {},
   "source": [
    "## Create Table A.5"
   ]
  },
  {
   "cell_type": "code",
   "execution_count": 4,
   "metadata": {},
   "source": [
    "mdlExcl24351=fitlm(X,y,'Exclude',[2 43 51]);\n",
    "disp('ANOVA table after excluding observations 2, 43 and 51')\n",
    "disp(mdlExcl24351)"
   ],
   "outputs": []
  },
  {
   "cell_type": "markdown",
   "metadata": {},
   "source": [
    "## Create Figure A.5\n",
    "\n",
    "MMreg with hyperbolic rho function\n",
    ""
   ]
  },
  {
   "cell_type": "code",
   "execution_count": 5,
   "metadata": {},
   "source": [
    "outHYP=MMreg(y,X,'rhofunc','hyperbolic','eff',0.95);\n",
    "\n",
    "h1=subplot(2,1,1);\n",
    "% Show the weights\n",
    "resindexplot(outHYP.weights,'ylimy',[0 1],'h',h1,'numlab',[2 43 51])\n",
    "title('Weights')\n",
    "\n",
    "h2=subplot(2,1,2);\n",
    "% Show the scaled residuals\n",
    "resindexplot(outHYP.residuals,'h',h2,'numlab',[2 43 51])\n",
    "title('Scaled residuals')\n",
    "\n",
    "sgtitle('Figure A.5')\n",
    "set(gcf,\"Name\",'Figure A.5')\n",
    "\n",
    "if prin==1\n",
    "    % print to postscript\n",
    "    print -depsc ARweiresMMhyp.eps;\n",
    "end"
   ],
   "outputs": []
  },
  {
   "cell_type": "markdown",
   "metadata": {},
   "source": [
    "## Create Figure A.6\n",
    "\n",
    "MMreg with AS and PD rho functions (compare residuals)\n",
    ""
   ]
  },
  {
   "cell_type": "code",
   "execution_count": 6,
   "metadata": {},
   "source": [
    "outAS=MMreg(y,X,'rhofunc','AS');\n",
    "outPD=MMreg(y,X,'rhofunc','mdpd');\n",
    "\n",
    "figure\n",
    "h1=subplot(2,1,1);\n",
    "resindexplot(outAS.residuals,'h',h1,'numlab',[2 43 51])\n",
    "title('Scaled residuals using Andrews'' sine')\n",
    "h2=subplot(2,1,2);\n",
    "resindexplot(outPD.residuals,'h',h2,'numlab',[2 43 51])\n",
    "title('Scaled residuals using power divergence')\n",
    "\n",
    "sgtitle('Figure A.6')\n",
    "set(gcf,\"Name\",'Figure A.6')\n",
    "\n",
    "if prin==1\n",
    "    % print to postscript\n",
    "    print -depsc ARresMMaspd.eps;\n",
    "end\n",
    "\n",
    "%InsideREADME"
   ],
   "outputs": []
}
 ],
 "metadata": {
  "kernelspec": {
   "display_name": "MATLAB (matlabkernel)",
   "language": "matlab",
   "name": "matlab"
  },
  "language_info": {
   "file_extension": ".m",
   "mimetype": "text/matlab",
   "name": "matlab",
   "nbconvert_exporter": "matlab",
   "pygments_lexer": "matlab",
   "version": "23.2.0.2428915"
  }
 },
 "nbformat": 4,
 "nbformat_minor": 4
}