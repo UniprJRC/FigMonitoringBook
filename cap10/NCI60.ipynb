{
 "cells": [
  {
   "cell_type": "markdown",
   "metadata": {},
   "source": [
    "\n",
    "# <span style=\"color:rgb(213,80,0)\">NCI 60 Cancer Cell Panel Data.</span>\n",
    "\n",
    "This file creates Figures 10.47-10.62 and Tables 10.8-10.10.\n",
    "\n",
    "## Beginning of code"
   ]
  },
  {
   "cell_type": "code",
   "execution_count": 1,
   "metadata": {},
   "source": [
    "close al"
   ],
   "outputs": [
    {
     "data": {
      "text/plain": [
       "Error using close\n",
       "Specified window does not exist."
      ]
     },
     "metadata": {},
     "execution_count":  1,
     "output_type": "execute_result"
    }
   ]
  },
  {
   "cell_type": "code",
   "execution_count": 2,
   "metadata": {},
   "source": [
    "clear\n",
    "% Data from national cancer institute\n",
    "load nci60\n",
    "\n",
    "nameX=[\"x134\"; \"x10193\"; \"x1106\"; \"x14785\"; \"x20125\"; \"x8510\"; \"x8502\"];\n",
    "nameXy=[nameX; \"y\"];\n",
    "% Select the 7 most important variables from sparse LTS\n",
    "Xytable=nci60(:,nameXy);\n",
    "\n",
    "nameXnew=\"x\"+(1:size(Xytable,2)-1)';\n",
    "Xytable.Properties.VariableNames(1:end-1)=nameXnew;\n",
    "\n",
    "y=Xytable.y;\n",
    "n=length(y);\n",
    "X=Xytable{:,1:end-1};\n",
    "\n",
    "prin=0;"
   ],
   "outputs": []
  },
  {
   "cell_type": "markdown",
   "metadata": {},
   "source": [
    "## Create Table 10.8"
   ]
  },
  {
   "cell_type": "code",
   "execution_count": 3,
   "metadata": {},
   "source": [
    "namesTab=[\"Original NCI name\" \"Regression variable\"];\n",
    "Tab108=array2table([nameX,nameXnew],\"VariableNames\",namesTab);\n",
    "disp(Tab108)"
   ],
   "outputs": []
  },
  {
   "cell_type": "markdown",
   "metadata": {},
   "source": [
    "## Create Table 10.9\n",
    "\n",
    "Standard regression with all variables\n",
    ""
   ]
  },
  {
   "cell_type": "code",
   "execution_count": 4,
   "metadata": {},
   "source": [
    "mdlyall=fitlm(Xytable);\n",
    "disp('Table 10.9')\n",
    "disp(mdlyall)"
   ],
   "outputs": []
  },
  {
   "cell_type": "markdown",
   "metadata": {},
   "source": [
    "## Create Figure 10.47\n",
    "<pre>\n",
    "outlier detection\n",
    "5 outliers found\n",
    "</pre>"
   ]
  },
  {
   "cell_type": "code",
   "execution_count": 5,
   "metadata": {},
   "source": [
    "outf=FSR(y,X,'init',round(n*0.7));\n",
    "\n",
    "pl_fsr=findobj(0, 'type', 'figure','tag','pl_fsr');\n",
    "close(pl_fsr(end))\n",
    "\n",
    "sgtitle('Figure 10.47')\n",
    "set(gcf,\"Name\",'Figure 10.47')\n",
    "drawnow\n",
    "\n",
    "if prin==1\n",
    "    % print to postscript\n",
    "    print -depsc canc1.eps;\n",
    "end"
   ],
   "outputs": []
  },
  {
   "cell_type": "markdown",
   "metadata": {},
   "source": [
    "## Create Figure 10.48\n",
    "\n",
    "QQ plots\n",
    ""
   ]
  },
  {
   "cell_type": "code",
   "execution_count": 6,
   "metadata": {},
   "source": [
    "figure\n",
    "conflev=0.95;\n",
    "nr=2;\n",
    "nc=2;\n",
    "h1=subplot(nr,nc,1);\n",
    "res=mdlyall.Residuals{:,3};\n",
    "qqplotFS(res,'X',X,'plots',1,'h',h1,'conflev',conflev);\n",
    "% title('qqplot of stud. res.')\n",
    "title('')\n",
    "\n",
    "% Plot residuals excluding outl\n",
    "mdlyall=fitlm(X,y,'Exclude',outf.outliers);\n",
    "h2=subplot(nr,nc,2);\n",
    "good=setdiff(1:n,outf.outliers);\n",
    "Xg=X(good,:);\n",
    "yg=y(good);\n",
    "resg=mdlyall.Residuals{good,3};\n",
    "qqplotFS(resg,'X',Xg,'plots',1,'h',h2,'conflev',conflev);\n",
    "\n",
    "sgtitle('Figure 10.48')\n",
    "set(gcf,\"Name\",'Figure 10.48')\n",
    "\n",
    "if prin==1\n",
    "    % print to postscript\n",
    "    print -depsc canc2.eps;\n",
    "end"
   ],
   "outputs": []
  },
  {
   "cell_type": "markdown",
   "metadata": {},
   "source": [
    "## Create Figure 10.49\n",
    "\n",
    "Monitoring of residuals LMS using nsamp subsamples\n",
    ""
   ]
  },
  {
   "cell_type": "code",
   "execution_count": 7,
   "metadata": {},
   "source": [
    "[outLXS]=LXS(y,X,'nsamp',10000);\n",
    "% Forward Search\n",
    "[outFS]=FSReda(y,X,outLXS.bs);\n",
    "\n",
    "fground=struct;\n",
    "fground.fthresh=[-3 1.7];\n",
    "fground.Color={'r'};\n",
    "fground.flabstep=58;\n",
    "bground='';\n",
    "\n",
    "resfwdplot(outFS,'datatooltip','','fground',fground, ...\n",
    "    'bground',bground)\n",
    "if prin==1\n",
    "    % print to postscript\n",
    "    print -depsc canc2a.eps;\n",
    "end\n",
    "title('Figure 10.49')\n",
    "set(gcf,\"Name\",'Figure 10.49')"
   ],
   "outputs": []
  },
  {
   "cell_type": "markdown",
   "metadata": {},
   "source": [
    "## Create Figure 10.50\n",
    "\n",
    "FSRaddt in the model without the interactions\n",
    ""
   ]
  },
  {
   "cell_type": "code",
   "execution_count": 8,
   "metadata": {},
   "source": [
    "figure\n",
    "outADDt=FSRaddt(y,X,'plots',1,'nsamp',10000);\n",
    "if prin==1\n",
    "    % print to postscript\n",
    "    print -depsc canc3.eps;\n",
    "end\n",
    "\n",
    "title('Figure 10.50')\n",
    "set(gcf,\"Name\",'Figure 10.50')"
   ],
   "outputs": []
  },
  {
   "cell_type": "markdown",
   "metadata": {},
   "source": [
    "## Create Figure 10.51\n",
    "\n",
    "FSRaddt after deleting the outliers\n",
    ""
   ]
  },
  {
   "cell_type": "code",
   "execution_count": 9,
   "metadata": {},
   "source": [
    "figure\n",
    "FSRaddt(yg,Xg,'plots',1);\n",
    "\n",
    "if prin==1\n",
    "    % print to postscript\n",
    "    print -depsc canc4.eps;\n",
    "end\n",
    "\n",
    "title('Figure 10.51')\n",
    "set(gcf,\"Name\",'Figure 10.51')"
   ],
   "outputs": []
  },
  {
   "cell_type": "markdown",
   "metadata": {},
   "source": [
    "## Create Figure 10.52\n",
    "\n",
    "Transformation\n",
    ""
   ]
  },
  {
   "cell_type": "code",
   "execution_count": 10,
   "metadata": {},
   "source": [
    "nini=16;\n",
    "la=0.5:0.1:1;\n",
    "FSRfan(y,X,'la',la,'family','YJ','plots',1,'init',nini,'tag','plini');\n",
    "title('')\n",
    "if prin==1\n",
    "    % print to postscript\n",
    "    print -depsc canc5.eps;\n",
    "end\n",
    "title('Figure 10.52')\n",
    "set(gcf,\"Name\",'Figure 10.52')"
   ],
   "outputs": []
  },
  {
   "cell_type": "markdown",
   "metadata": {},
   "source": [
    "## Create Figure 10.53\n",
    "\n",
    "Create fanplotori (bottom panel) pos and neg for 0.75\n",
    ""
   ]
  },
  {
   "cell_type": "code",
   "execution_count": 11,
   "metadata": {},
   "source": [
    "lasel=0.75;\n",
    "ylimy1=5;\n",
    "outpn=FSRfan(y,X,'nsamp',100000,'la',lasel,'family','YJpn','plots',1,'init',round(nini));\n",
    "title('')\n",
    "if prin==1\n",
    "    % print to postscript\n",
    "    print -depsc canc6.eps;\n",
    "end\n",
    "\n",
    "title('Figure 10.53')\n",
    "set(gcf,\"Name\",'Figure 10.53')"
   ],
   "outputs": []
  },
  {
   "cell_type": "markdown",
   "metadata": {},
   "source": [
    "## Create Figure 10.54\n",
    "\n",
    "Find best automatic value of lambda\n",
    ""
   ]
  },
  {
   "cell_type": "code",
   "execution_count": 12,
   "metadata": {},
   "source": [
    "la=0:0.25:1.5;\n",
    "\n",
    "outFSRfan=FSRfan(y,X,'la',la,'nsamp',50000,'family','YJ','plots',0,'init',nini/2);\n",
    "outini=fanBIC(outFSRfan);\n",
    "labest=outini.labest;\n",
    "if prin==1\n",
    "    % print to postscript\n",
    "    print -depsc canc7.eps;\n",
    "end\n",
    "\n",
    "sgtitle('Figure 10.54')\n",
    "set(gcf,\"Name\",'Figure 10.54')"
   ],
   "outputs": []
  },
  {
   "cell_type": "markdown",
   "metadata": {},
   "source": [
    "## Prepare input for Figure 10.55 (left and right panel)"
   ]
  },
  {
   "cell_type": "code",
   "execution_count": 13,
   "metadata": {},
   "source": [
    "[outFSRfanpn]=FSRfan(y,X,'msg',1,'family','YJpn','la',labest,'plots',0,'nsamp',50000);"
   ],
   "outputs": []
  },
  {
   "cell_type": "markdown",
   "metadata": {},
   "source": [
    "## Create Figure 10.55"
   ]
  },
  {
   "cell_type": "code",
   "execution_count": 14,
   "metadata": {},
   "source": [
    "out1=fanBICpn(outFSRfanpn);\n",
    "if prin==1\n",
    "    % print to postscript\n",
    "    print -depsc canc8a.eps;\n",
    "    print -depsc canc8b.eps;\n",
    "end\n",
    "\n",
    "fig=findobj(0,'tag','pl_BIC');\n",
    "figure(fig(1))\n",
    "set(gcf,'Name', 'Figure 10.55 (left panel)');\n",
    "\n",
    "fig=findobj(0,'tag','pl_AGI');\n",
    "figure(fig(1))\n",
    "set(gcf,'Name', 'Figure 10.55 (right panel)');\n",
    "\n",
    "fig=findobj(0,'tag','pl_nobs');\n",
    "close(fig(1))\n",
    "\n",
    "fig=findobj(0,'tag','pl_R2c');\n",
    "close(fig(1))"
   ],
   "outputs": []
  },
  {
   "cell_type": "markdown",
   "metadata": {},
   "source": [
    "## Create Table 10.10\n",
    "\n",
    "ANOVA table after removing x3\n",
    ""
   ]
  },
  {
   "cell_type": "code",
   "execution_count": 15,
   "metadata": {},
   "source": [
    "mdlysel=stepwiselm(X,y,'Exclude',outf.outliers);\n",
    "disp('Table 10.10')\n",
    "disp(mdlysel)"
   ],
   "outputs": []
  },
  {
   "cell_type": "markdown",
   "metadata": {},
   "source": [
    "## Create Figure\n",
    "\n",
    "Robust model selection using Cp\n",
    ""
   ]
  },
  {
   "cell_type": "code",
   "execution_count": 16,
   "metadata": {},
   "source": [
    "[Cpms]=FSRms(yg,Xg,'smallpint',3:7);\n",
    "% Candlestick plot\n",
    "figure\n",
    "cdsplot(Cpms);\n",
    "\n",
    "if prin==1\n",
    "    % print to postscript\n",
    "    print -depsc canc9.eps;\n",
    "end\n",
    "sgtitle('Figure 10.56')\n",
    "set(gcf,\"Name\",'Figure 10.56')"
   ],
   "outputs": []
  },
  {
   "cell_type": "markdown",
   "metadata": {},
   "source": [
    "## Non parametric transformation"
   ]
  },
  {
   "cell_type": "code",
   "execution_count": 17,
   "metadata": {},
   "source": [
    "outAV=avas(y,X);\n",
    "aceplot(outAV,'VarNames',nameXy)\n",
    "if prin==1\n",
    "    % print to postscript\n",
    "    print -depsc canc10.eps;\n",
    "end\n",
    "\n",
    "pl_ty=findobj(0, 'type', 'figure','tag','pl_ty');\n",
    "figure(pl_ty(1))\n",
    "sgtitle('Figure 10.57')\n",
    "set(gcf,\"Name\",'Figure 10.57')\n",
    "\n",
    "pl_tX=findobj(0, 'type', 'figure','tag','pl_tX');\n",
    "close(pl_tX(1))\n",
    "drawnow"
   ],
   "outputs": []
  },
  {
   "cell_type": "markdown",
   "metadata": {},
   "source": [
    "## Create Figures 10.58 and 10.59\n",
    "\n",
    "RAVAS model selection with monotonicity constraint in X\n",
    ""
   ]
  },
  {
   "cell_type": "code",
   "execution_count": 18,
   "metadata": {},
   "source": [
    "outMSm=avasms(y,X,'l',3*ones(size(X,2),1),'plots',0);\n",
    "\n",
    "% avasmsplot(outMSm)\n",
    "\n",
    "j=1;\n",
    "outjm=outMSm{j,\"Out\"};\n",
    "outm=outjm{:};\n",
    "% aceplot(outm,'VarNames',nameXy)\n",
    "aceplot(outm)\n",
    "disp(\"number of outliers found by RAVAS\")\n",
    "disp(length(outm.outliers))\n",
    "\n",
    "pl_ty=findobj(0, 'type', 'figure','tag','pl_ty');\n",
    "figure(pl_ty(1))\n",
    "sgtitle('Figure 10.58')\n",
    "set(gcf,\"Name\",'Figure 10.58')\n",
    "\n",
    "pl_tX=findobj(0, 'type', 'figure','tag','pl_tX');\n",
    "figure(pl_tX(1))\n",
    "sgtitle('Figure 10.59')\n",
    "set(gcf,\"Name\",'Figure 10.59')\n",
    "drawnow\n",
    "\n",
    "if prin==1\n",
    "    % print to postscript\n",
    "    print -depsc canc11.eps;\n",
    "    print -depsc canc12.eps;\n",
    "end"
   ],
   "outputs": []
  },
  {
   "cell_type": "markdown",
   "metadata": {},
   "source": [
    "## Create Figure 10.60\n",
    "\n",
    "call addition t stat\n",
    ""
   ]
  },
  {
   "cell_type": "code",
   "execution_count": 19,
   "metadata": {},
   "source": [
    "outl=outm.outliers;\n",
    "selRAVAS=setdiff(1:length(y),outl);\n",
    "figure\n",
    "outjj=FSRaddt(outm.ty(selRAVAS),outm.tX(selRAVAS,:),'plots',1);\n",
    "if prin==1\n",
    "    % print to postscript\n",
    "    print -depsc canc13.eps;\n",
    "end\n",
    "title('Figure 10.60')\n",
    "set(gcf,\"Name\",'Figure 10.60')"
   ],
   "outputs": []
  },
  {
   "cell_type": "markdown",
   "metadata": {},
   "source": [
    "## Create Figure 10.61\n",
    "\n",
    "Robust model selection using Cp (removing the 4 outliers)\n",
    ""
   ]
  },
  {
   "cell_type": "code",
   "execution_count": 20,
   "metadata": {},
   "source": [
    "[Cpms1]=FSRms(outm.ty(selRAVAS),outm.tX(selRAVAS,:));\n",
    "figure\n",
    "cdsplot(Cpms1);\n",
    "if prin==1\n",
    "    % print to postscript\n",
    "    print -depsc canc14.eps;\n",
    "end\n",
    "sgtitle('Figure 10.61')\n",
    "set(gcf,\"Name\",'Figure 10.61')"
   ],
   "outputs": []
  },
  {
   "cell_type": "markdown",
   "metadata": {},
   "source": [
    "## Create Figure 10.62"
   ]
  },
  {
   "cell_type": "code",
   "execution_count": 21,
   "metadata": {},
   "source": [
    "%yXplot\n",
    "group=ones(n,1);\n",
    "group(outm.outliers)=2;\n",
    "%'nameX',nameX,\n",
    "yXplot(outm.ty,outm.tX,'group',group,'namey','ty');\n",
    "if prin==1\n",
    "    % print to postscript\n",
    "    print -depsc canc15.eps;\n",
    "end\n",
    "sgtitle('Figure 10.62')\n",
    "set(gcf,\"Name\",'Figure 10.62')\n",
    "\n",
    "%InsideREADME"
   ],
   "outputs": []
}
 ],
 "metadata": {
  "kernelspec": {
   "display_name": "MATLAB (matlabkernel)",
   "language": "matlab",
   "name": "matlab"
  },
  "language_info": {
   "file_extension": ".m",
   "mimetype": "text/matlab",
   "name": "matlab",
   "nbconvert_exporter": "matlab",
   "pygments_lexer": "matlab",
   "version": "23.2.0.2428915"
  }
 },
 "nbformat": 4,
 "nbformat_minor": 4
}