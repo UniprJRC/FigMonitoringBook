{
 "cells": [
  {
   "cell_type": "markdown",
   "metadata": {},
   "source": [
    "\n",
    "# <span style=\"color:rgb(213,80,0)\">Cement data.</span>\n",
    "\n",
    "This file creates Tables 9.1 and 9.2.\n",
    "\n",
    "## Beginning of code"
   ]
  },
  {
   "cell_type": "code",
   "execution_count": 1,
   "metadata": {},
   "source": [
    "load cement\n",
    "\n",
    "disp(\"Variable selection using MATLAB stepwiselm\")\n",
    "stepwiselm(cement,'Criterion','adjrsquared','Upper','linear')"
   ],
   "outputs": []
  },
  {
   "cell_type": "markdown",
   "metadata": {},
   "source": [
    "\n",
    "## Create Table 9.1"
   ]
  },
  {
   "cell_type": "code",
   "execution_count": 2,
   "metadata": {},
   "source": [
    "disp(\"Table 9.1\")\n",
    "disp(\"ANOVA based on all the variables (including intercept)\")\n",
    "fitlm(cement)"
   ],
   "outputs": []
  },
  {
   "cell_type": "markdown",
   "metadata": {},
   "source": [
    "\n",
    "## Create Table 9.2"
   ]
  },
  {
   "cell_type": "code",
   "execution_count": 3,
   "metadata": {},
   "source": [
    "disp(\"Table 9.2\")\n",
    "disp(\"ANOVA based on all the variables (excluding intercept)\")\n",
    "fitlm(cement,'Intercept',false)\n",
    "\n",
    "%InsideREADME"
   ],
   "outputs": []
}
 ],
 "metadata": {
  "kernelspec": {
   "display_name": "MATLAB (matlabkernel)",
   "language": "matlab",
   "name": "matlab"
  },
  "language_info": {
   "file_extension": ".m",
   "mimetype": "text/matlab",
   "name": "matlab",
   "nbconvert_exporter": "matlab",
   "pygments_lexer": "matlab",
   "version": "24.1.0.2453260"
  }
 },
 "nbformat": 4,
 "nbformat_minor": 4
}