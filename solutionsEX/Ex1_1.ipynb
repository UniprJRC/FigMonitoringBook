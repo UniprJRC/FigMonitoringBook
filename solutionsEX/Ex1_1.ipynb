{
 "cells": [
  {
   "cell_type": "markdown",
   "metadata": {},
   "source": [
    "\n",
    "# <span style=\"color:rgb(213,80,0)\">Trimmed means.</span>\n",
    "\n",
    "This file solves Exercise 1.1.\n",
    "\n",
    "## Data loading"
   ]
  },
  {
   "cell_type": "code",
   "execution_count": 1,
   "metadata": {},
   "source": [
    "clear\n",
    "load Income1\n",
    "\n",
    "% y in array format\n",
    "y=Income1{:,\"HTOTVAL\"};\n",
    "\n",
    "% Compute the trimmed mean for the first 15 obs.for two values of alpha\n",
    "y15=y(1:15);\n",
    "n15=length(y15);\n",
    "\n",
    "alphaAll=[0.05 0.10];\n",
    "lalphaAll=length(alphaAll);\n",
    "meanTru=zeros(lalphaAll,1);\n",
    "ysor=sort(y15);\n",
    "for i=1:lalphaAll\n",
    "    m=floor((n15-1)*alphaAll(i));\n",
    "    meanTru(i)=mean(ysor(m+1:n15-m));\n",
    "    % meanTru1(i)=trimmean(y,100*alphaAll(i));\n",
    "end\n",
    "\n",
    "disp(\"Trimmed mean alpha=0.05\")"
   ],
   "outputs": [
    {
     "data": {
      "text/plain": [
       "Trimmed mean alpha=0.05"
      ]
     },
     "metadata": {},
     "execution_count":  1,
     "output_type": "execute_result"
    }
   ]
  },
  {
   "cell_type": "code",
   "execution_count": 2,
   "metadata": {},
   "source": [
    "disp(meanTru(1))"
   ],
   "outputs": [
    {
     "data": {
      "text/plain": [
       "   9.2222e+04"
      ]
     },
     "metadata": {},
     "execution_count":  2,
     "output_type": "execute_result"
    }
   ]
  },
  {
   "cell_type": "code",
   "execution_count": 3,
   "metadata": {},
   "source": [
    "\n",
    "disp(\"Trimmed mean alpha=0.10\")"
   ],
   "outputs": [
    {
     "data": {
      "text/plain": [
       "Trimmed mean alpha=0.10"
      ]
     },
     "metadata": {},
     "execution_count":  3,
     "output_type": "execute_result"
    }
   ]
  },
  {
   "cell_type": "code",
   "execution_count": 4,
   "metadata": {},
   "source": [
    "disp(meanTru(2))"
   ],
   "outputs": [
    {
     "data": {
      "text/plain": [
       "   9.2775e+04"
      ]
     },
     "metadata": {},
     "execution_count":  4,
     "output_type": "execute_result"
    }
   ]
  },
  {
   "cell_type": "code",
   "execution_count": 5,
   "metadata": {},
   "source": [
    "\n",
    "%InsideREADME"
   ],
   "outputs": []
}
 ],
 "metadata": {
  "kernelspec": {
   "display_name": "MATLAB (matlabkernel)",
   "language": "matlab",
   "name": "matlab"
  },
  "language_info": {
   "file_extension": ".m",
   "mimetype": "text/matlab",
   "name": "matlab",
   "nbconvert_exporter": "matlab",
   "pygments_lexer": "matlab",
   "version": "24.1.0.2628055"
  }
 },
 "nbformat": 4,
 "nbformat_minor": 4
}