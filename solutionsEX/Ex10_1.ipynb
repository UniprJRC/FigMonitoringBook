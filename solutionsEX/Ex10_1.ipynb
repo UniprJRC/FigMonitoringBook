{
 "cells": [
  {
   "cell_type": "markdown",
   "metadata": {},
   "source": [
    "\n",
    "# <span style=\"color:rgb(213,80,0)\">Exercise 10.1</span>\n",
    "\n",
    "Analysis of heart rate data This file creates Figures A.67-A.70\n",
    "\n",
    "## Data loading"
   ]
  },
  {
   "cell_type": "code",
   "execution_count": 1,
   "metadata": {},
   "source": [
    "Y=load('ms212.txt');\n",
    "y=Y(:,10)-Y(:,9);\n",
    "n=length(y);\n",
    "\n",
    "Gender=dummyvar(Y(:,4));\n",
    "Smoke=dummyvar(Y(:,5));\n",
    "Alcohol=dummyvar(Y(:,6));\n",
    "Exercise=dummyvar(Y(:,7));\n",
    "Run=dummyvar(Y(:,8));\n",
    "\n",
    "X=[Y(:,1:3) Gender(:,1:end-1)  Smoke(:,1:end-1) Alcohol(:,1:end-1) Exercise(:,1:end-1) Run(:,1:end-1)];"
   ],
   "outputs": []
  },
  {
   "cell_type": "markdown",
   "metadata": {},
   "source": [
    "## Create left panel of Figure A.67"
   ]
  },
  {
   "cell_type": "code",
   "execution_count": 2,
   "metadata": {},
   "source": [
    "la=[0.5 0.6 0.7 0.8];\n",
    "out=FSRfan(y,X,'family','YJ','plots',1,'init',round(n/2),'la',la,'tag','plini');\n",
    "title('')\n",
    "prin=0;\n",
    "if prin==1\n",
    "    % print to postscript\n",
    "    print -depsc figs\\x1L.eps;\n",
    "end\n",
    "\n",
    "title('Figure A.67 (left panel)')\n",
    "set(gcf,\"Name\",'Figure A.67 (left panel)')"
   ],
   "outputs": []
  },
  {
   "cell_type": "markdown",
   "metadata": {},
   "source": [
    "## Create right panel of Figure A.67\n",
    "\n",
    "Fan plot positive and negative la=0.7\n",
    ""
   ]
  },
  {
   "cell_type": "code",
   "execution_count": 3,
   "metadata": {},
   "source": [
    "la=[0.5 0.6 0.7 0.8];\n",
    "\n",
    "out=FSRfan(y,X(:,9),'family','YJpn','plots',1,'init',round(n/2),'la',la);\n",
    "title('')\n",
    "if prin==1\n",
    "    % print to postscript\n",
    "    print -depsc figs\\x1R.eps;\n",
    "end\n",
    "\n",
    "title('Figure A.67 (right panel)')\n",
    "set(gcf,\"Name\",'Figure A.67 (right panel)')"
   ],
   "outputs": []
  },
  {
   "cell_type": "markdown",
   "metadata": {},
   "source": [
    "## Create Figure A.68"
   ]
  },
  {
   "cell_type": "code",
   "execution_count": 4,
   "metadata": {},
   "source": [
    "figure\n",
    "la=0.7;\n",
    "ytra=normYJ(y,[],la,'inverse',false);\n",
    "\n",
    "h1=subplot(2,2,1);\n",
    "outlmori=fitlm(X(:,9),y);\n",
    "qqplotFS(outlmori.Residuals{:,3},'X',X,'plots',1,'h',h1,'conflev',0.95);\n",
    "\n",
    "title('')\n",
    "h2=subplot(2,2,2);\n",
    "outlmtra=fitlm(X(:,9),ytra);\n",
    "qqplotFS(outlmtra.Residuals{:,3},'X',X,'plots',1,'h',h2,'conflev',0.95);\n",
    "title('')\n",
    "\n",
    "if prin==1\n",
    "    % print to postscript\n",
    "    print -depsc x2.eps;\n",
    "end\n",
    "\n",
    "sgtitle('Figure A.68')\n",
    "set(gcf,\"Name\",'Figure A.68')"
   ],
   "outputs": []
  },
  {
   "cell_type": "markdown",
   "metadata": {},
   "source": [
    "## Create Figure A.69"
   ]
  },
  {
   "cell_type": "code",
   "execution_count": 5,
   "metadata": {},
   "source": [
    "figure\n",
    "subplot(2,2,1)\n",
    "boxplot(y,X(:,9))\n",
    "subplot(2,2,2)\n",
    "boxplot(ytra,X(:,9))\n",
    "if prin==1\n",
    "    % print to postscript\n",
    "    print -depsc figs\\x3.eps;\n",
    "end\n",
    "\n",
    "sgtitle('Figure A.69')\n",
    "set(gcf,\"Name\",'Figure A.69')"
   ],
   "outputs": []
  },
  {
   "cell_type": "markdown",
   "metadata": {},
   "source": [
    "## Create Figure A.70\n",
    "\n",
    "X4 MMreg\n",
    ""
   ]
  },
  {
   "cell_type": "code",
   "execution_count": 6,
   "metadata": {},
   "source": [
    "figure\n",
    "h1=subplot(2,1,1);\n",
    "conflev=1-0.01/length(y);\n",
    "[out]=MMreg(y,X(:,9),'Snsamp',3000,'plots',0);\n",
    "resindexplot(out,'h',h1,'conflev',conflev,'numlab',{13});\n",
    "title('')\n",
    "\n",
    "h1=subplot(2,1,2);\n",
    "conflev=1-0.01/length(y);\n",
    "[out]=MMreg(ytra,X(:,9),'Snsamp',3000,'plots',0);\n",
    "resindexplot(out,'h',h1,'conflev',conflev,'numlab',{1});\n",
    "title('')\n",
    "\n",
    "if prin==1\n",
    "    % print to postscript\n",
    "    print -depsc figs\\x4.eps;\n",
    "end\n",
    "\n",
    "sgtitle('Figure A.70')\n",
    "set(gcf,\"Name\",'Figure A.70')\n",
    "\n",
    "%InsideREADME"
   ],
   "outputs": []
}
 ],
 "metadata": {
  "kernelspec": {
   "display_name": "MATLAB (matlabkernel)",
   "language": "matlab",
   "name": "matlab"
  },
  "language_info": {
   "file_extension": ".m",
   "mimetype": "text/matlab",
   "name": "matlab",
   "nbconvert_exporter": "matlab",
   "pygments_lexer": "matlab",
   "version": "23.2.0.2428915"
  }
 },
 "nbformat": 4,
 "nbformat_minor": 4
}