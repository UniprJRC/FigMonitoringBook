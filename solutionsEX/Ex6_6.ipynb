{
 "cells": [
  {
   "cell_type": "markdown",
   "metadata": {},
   "source": [
    "\n",
    "# <span style=\"color:rgb(213,80,0)\">Exercise 6.6</span>\n",
    "\n",
    "Score test and fan plot 2. This file creates Figures A.24-A.29 and Tables A.11-A.14\n",
    "\n",
    "## D2 Data loading"
   ]
  },
  {
   "cell_type": "code",
   "execution_count": 1,
   "metadata": {},
   "source": [
    "XX=load('D2.txt');\n",
    "X=XX(:,1:end-1);\n",
    "y=XX(:,end);\n",
    "n=length(y);\n",
    "prin=0;"
   ],
   "outputs": []
  },
  {
   "cell_type": "markdown",
   "metadata": {},
   "source": [
    "## Create Figure A.24\n",
    "\n",
    "D2 yXplot\n",
    ""
   ]
  },
  {
   "cell_type": "code",
   "execution_count": 2,
   "metadata": {},
   "source": [
    "yXplot(y,X,'tag','pl_yini');\n",
    "sgtitle('Figure A.24')\n",
    "set(gcf,\"Name\",'Figure A.24')\n",
    "\n",
    "if prin==1\n",
    "    print -depsc figs\\D2yX.eps\n",
    "end"
   ],
   "outputs": []
  },
  {
   "cell_type": "markdown",
   "metadata": {},
   "source": [
    "## Create Table A.11"
   ]
  },
  {
   "cell_type": "code",
   "execution_count": 3,
   "metadata": {},
   "source": [
    "disp('Table A.11: ANOVA in the original scale for y')\n",
    "outl=fitlm(X,y);\n",
    "disp(outl)"
   ],
   "outputs": []
  },
  {
   "cell_type": "markdown",
   "metadata": {},
   "source": [
    "## Create Table A.12\n",
    "\n",
    "Score test\n",
    ""
   ]
  },
  {
   "cell_type": "code",
   "execution_count": 4,
   "metadata": {},
   "source": [
    "la=-1:0.25:1;\n",
    "outS=ScoreYJ(y,X,'la',la);\n",
    "varn=[\"lambda\" \"Score test\"];\n",
    "ScoreT=array2table([la' outS.Score],'VariableNames',varn);\n",
    "disp(\"Table A.12\")\n",
    "disp(ScoreT)"
   ],
   "outputs": []
  },
  {
   "cell_type": "markdown",
   "metadata": {},
   "source": [
    "## Create Figure A.25 (left panel)\n",
    "\n",
    "D2 fanplot just one lambda\n",
    ""
   ]
  },
  {
   "cell_type": "code",
   "execution_count": 5,
   "metadata": {},
   "source": [
    "la=[0 0.25 0.5 1];\n",
    "ylimy='';\n",
    "out=FSRfan(y,X,'la',la,'family','YJ','plots',1,'init',round(n/2), 'ylimy',[-ylimy ylimy],'msg',0);\n",
    "title('Figure A.25 (left panel)')\n",
    "set(gcf,\"Name\",'Figure A.25 (left panel)')\n",
    "\n",
    "if prin==1\n",
    "    print -depsc figs\\D2fan.eps\n",
    "end"
   ],
   "outputs": []
  },
  {
   "cell_type": "markdown",
   "metadata": {},
   "source": [
    "## Create Figure A.25 (right panel)\n",
    "\n",
    "D2 fanplotpn\n",
    ""
   ]
  },
  {
   "cell_type": "code",
   "execution_count": 6,
   "metadata": {},
   "source": [
    "la=[0 0.25 0.5 1];\n",
    "ylimy='';\n",
    "out=FSRfan(y,X,'la',la,'family','YJpn','plots',1,'init',round(n/2), ...\n",
    "    'ylimy',[-ylimy ylimy],'msg',0,'tag','pl_scopn');\n",
    "title('Figure A.25 (right panel)')\n",
    "set(gcf,\"Name\",'Figure A.25 (right panel)')\n",
    "\n",
    "if prin==1\n",
    "    print -depsc figs\\D2fanpn.eps\n",
    "end"
   ],
   "outputs": []
  },
  {
   "cell_type": "markdown",
   "metadata": {},
   "source": [
    "## Create Figure A.26\n",
    "\n",
    "automatic procedure\n",
    ""
   ]
  },
  {
   "cell_type": "code",
   "execution_count": 7,
   "metadata": {},
   "source": [
    "[outFSRfan]=FSRfan(y,X,'plots',0,'init',round(n*0.3),'nsamp',10000,'la',-1:0.25:1,'msg',0,'family','YJ');\n",
    "[outini]=fanBIC(outFSRfan,'plots',1);\n",
    "set(gcf,\"Name\",'Figure A.26')\n",
    "\n",
    "% labest is the best value imposing the constraint that positive and\n",
    "% negative observations must have the same transformation parameter.\n",
    "disp('Automatic value of lambda (just on lambda)')\n",
    "labest=outini.labest;\n",
    "disp(labest);\n",
    "\n",
    "if prin==1\n",
    "    % print to postscript\n",
    "    print -depsc figs\\D2auto.eps;\n",
    "end"
   ],
   "outputs": []
  },
  {
   "cell_type": "markdown",
   "metadata": {},
   "source": [
    "## Prepare input for Figure A.27"
   ]
  },
  {
   "cell_type": "code",
   "execution_count": 8,
   "metadata": {},
   "source": [
    "labest=0.25;\n",
    "ytra=normYJ(y,[],labest,'inverse',false);\n",
    "% FSR on ytra\n",
    "outf=FSR(ytra,X,'plots',0,'init',n/2);"
   ],
   "outputs": []
  },
  {
   "cell_type": "markdown",
   "metadata": {},
   "source": [
    "## Create Figure A.27\n",
    "\n",
    "yXplot after transforming y\n",
    ""
   ]
  },
  {
   "cell_type": "code",
   "execution_count": 9,
   "metadata": {},
   "source": [
    "group=ones(n,1);\n",
    "group(outf.outliers)=2;\n",
    "yXplot(ytra,X,'group',group);\n",
    "\n",
    "sgtitle('Figure A.27')\n",
    "set(gcf,\"Name\",'Figure A.27')\n",
    "\n",
    "if prin==1\n",
    "    print -depsc figs\\D2ytraX.eps\n",
    "end"
   ],
   "outputs": []
  },
  {
   "cell_type": "markdown",
   "metadata": {},
   "source": [
    "## Create Table A.13\n",
    "\n",
    "D2 anova table after transforming y\n",
    ""
   ]
  },
  {
   "cell_type": "code",
   "execution_count": 10,
   "metadata": {},
   "source": [
    "disp('Table A.13: ANOVA in the transformed scale for y (after removing the outliers)')\n",
    "outTRA=fitlm(X,ytra,'Exclude',outf.outliers);\n",
    "disp(outTRA)"
   ],
   "outputs": []
  },
  {
   "cell_type": "markdown",
   "metadata": {},
   "source": [
    "## Create Figures A.28 and A.29\n",
    "\n",
    "heatmaps\n",
    ""
   ]
  },
  {
   "cell_type": "code",
   "execution_count": 11,
   "metadata": {},
   "source": [
    "[outFSRfanpn]=FSRfan(y,X,'msg',0,'family','YJpn','la',labest,'plots',0);\n",
    "out1=fanBICpn(outFSRfanpn);\n",
    "\n",
    "fig=findobj(0,'tag','pl_BIC');\n",
    "figure(fig(1))\n",
    "set(gcf,'Name', 'Figure A.28 (left panel)');\n",
    "\n",
    "fig=findobj(0,'tag','pl_AGI');\n",
    "figure(fig(1))\n",
    "set(gcf,'Name', 'Figure A.28 (right panel)');\n",
    "\n",
    "fig=findobj(0,'tag','pl_nobs');\n",
    "figure(fig(1))\n",
    "set(gcf,'Name', 'Figure A.29 (left panel)');\n",
    "\n",
    "fig=findobj(0,'tag','pl_R2c');\n",
    "figure(fig(1))\n",
    "set(gcf,'Name', 'Figure A.29 (right panel)');\n",
    "\n",
    "if prin==1\n",
    "    % print to postscript\n",
    "    print -depsc figs\\D2autopnh.eps;\n",
    "    print -depsc figs\\D2autopnBIC.eps;\n",
    "    print -depsc figs\\D2autopnAGI.eps;\n",
    "    print -depsc figs\\D2autopnR2.eps;\n",
    "end\n",
    "\n",
    "%InsideREADME"
   ],
   "outputs": []
}
 ],
 "metadata": {
  "kernelspec": {
   "display_name": "MATLAB (matlabkernel)",
   "language": "matlab",
   "name": "matlab"
  },
  "language_info": {
   "file_extension": ".m",
   "mimetype": "text/matlab",
   "name": "matlab",
   "nbconvert_exporter": "matlab",
   "pygments_lexer": "matlab",
   "version": "23.2.0.2428915"
  }
 },
 "nbformat": 4,
 "nbformat_minor": 4
}