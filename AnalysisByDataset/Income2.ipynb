{
 "cells": [
  {
   "cell_type": "markdown",
   "metadata": {},
   "source": [
    "\n",
    "# <span style=\"color:rgb(213,80,0)\">This file is referred to dataset Income2</span>\n",
    "\n",
    "Creates all Figures and tables associated with dataset Income2 See Table A.2 in Appendix A to see where this dataset has been used inside the book\n",
    "\n",
    "## Data loading"
   ]
  },
  {
   "cell_type": "code",
   "execution_count": 1,
   "metadata": {},
   "source": [
    "clear\n",
    "close all\n",
    "load Income2;\n",
    "y=Income2{:,\"Income\"};\n",
    "X=Income2{:,1:end-1};\n",
    "\n",
    "% y and X in table format\n",
    "yt=Income2(:,end);\n",
    "Xt=Income2(:,1:end-1);\n",
    "Xytable=Income2;\n",
    "\n",
    "n=length(y);\n",
    "one=ones(n,1);\n",
    "% prin =\n",
    "prin=0;"
   ],
   "outputs": []
  },
  {
   "cell_type": "markdown",
   "metadata": {},
   "source": [
    "\n",
    "## Analysis of the score test\n",
    "\n",
    "Table 1.3\n",
    ""
   ]
  },
  {
   "cell_type": "code",
   "execution_count": 2,
   "metadata": {},
   "source": [
    "la=[-2  -1.5 -1 -0.5 0 1];\n",
    "out=Score(y,one, 'la',la);\n",
    "disp([la' out.Score])\n",
    "\n",
    "Score=out.Score;\n",
    "rownam=[\"-2\" \"-1.5\" \"Inverse\" \"Reciprocal square root\" \"Logarithmic\" \"None\"];\n",
    "colnam=[\"lambda\" \"Score test\"];\n",
    "\n",
    "ScoreT=array2table([la' Score],\"RowNames\",rownam,\"VariableNames\",colnam);\n",
    "format bank\n",
    "disp('Table 1.3')\n",
    "disp(ScoreT)"
   ],
   "outputs": []
  },
  {
   "cell_type": "markdown",
   "metadata": {},
   "source": [
    "\n",
    "## Compute statistics in the original and transformed scale\n",
    "\n",
    "Table 1.4 with lambda=1, lambda=\\-1 or lambda=\\-1.5\n",
    ""
   ]
  },
  {
   "cell_type": "code",
   "execution_count": 3,
   "metadata": {},
   "source": [
    "ysor=sort(y);\n",
    "\n",
    "alpha=0.10;\n",
    "m=floor((n-1)*alpha);\n",
    "meanTri=mean(ysor(m+1:n-m));\n",
    "mea=mean(y);\n",
    "medi=median(y);\n",
    "sta=std(y);\n",
    "consfact=1/norminv(0.75);\n",
    "madn=consfact*mad(y,1);\n",
    "\n",
    "loc=[mea; meanTri; medi; sta; madn];\n",
    "yori=y;\n",
    "\n",
    "laj=-1;\n",
    "y1=100000*(yori.^laj);\n",
    "\n",
    "ysor=sort(y1);\n",
    "alpha=0.10;\n",
    "m=floor((n-1)*alpha);\n",
    "meanTri1=mean(ysor(m+1:n-m));\n",
    "mea1=mean(y1);\n",
    "medi1=median(y1);\n",
    "sta1=std(y1);\n",
    "madn1=consfact*mad(y1,1);\n",
    "\n",
    "loc1=[mea1; meanTri1; medi1; sta1; madn1];\n",
    "\n",
    "laj=-1.5;\n",
    "y1=10000000*(yori.^laj);\n",
    "ysor=sort(y1);\n",
    "meanTri1=mean(ysor(m+1:n-m));\n",
    "mea1=mean(y1);\n",
    "medi1=median(y1);\n",
    "sta1=std(y1);\n",
    "madn1=consfact*mad(y1,1);\n",
    "\n",
    "loc2=[mea1; meanTri1; medi1; sta1; madn1];\n",
    "\n",
    "LOC=[loc loc1 loc2];\n",
    "\n",
    "rn=[\"Mean\" \"Trimmed mean\" \"Median\" \"Standard Deviation\" \"MADN\"];\n",
    "vn=[\"Original data\" \"Inverse transf\" \"la=-1.5\"];\n",
    "LOCt=array2table(LOC,'RowNames',rn,'VariableNames',vn);\n",
    "format bank\n",
    "disp(LOCt)"
   ],
   "outputs": []
  },
  {
   "cell_type": "markdown",
   "metadata": {},
   "source": [
    "\n",
    "## Create Figure 1.6 fanplot\n",
    "\n",
    "Fanplot using just the intercept\n",
    ""
   ]
  },
  {
   "cell_type": "code",
   "execution_count": 4,
   "metadata": {},
   "source": [
    "outFSRfanUNI=FSRfan(y,one,'intercept',0,'la',[-2 -1.5 -1 -0.5],'tag','fanplotnoExpl');\n",
    "title('Figure 1.6')\n",
    "if prin==1\n",
    "    % print to postscript\n",
    "    print -depsc fanIncome2.eps;\n",
    "end"
   ],
   "outputs": []
  },
  {
   "cell_type": "markdown",
   "metadata": {},
   "source": [
    "\n",
    "## Analysis of the trimmed mean (Prepare input for Figure\n",
    "\n",
    "Exercise 1.4 \\- part (a)\n",
    ""
   ]
  },
  {
   "cell_type": "code",
   "execution_count": 5,
   "metadata": {},
   "source": [
    "alphaAll=(0:0.01:0.5)';\n",
    "lalphaAll=length(alphaAll);\n",
    "meanTru=zeros(lalphaAll,1);\n",
    "% meanTru1=meanTru;\n",
    "ysor=sort(y);\n",
    "for i=1:lalphaAll\n",
    "    m=floor((n-1)*alphaAll(i));\n",
    "    meanTru(i)=mean(ysor(m+1:n-m));\n",
    "    % meanTru1(i)=trimmean(y,100*alphaAll(i));\n",
    "\n",
    "end"
   ],
   "outputs": []
  },
  {
   "cell_type": "markdown",
   "metadata": {},
   "source": [
    "\n",
    "## Create figure A.1\n",
    "\n",
    "Exercise 1.4 \\- part (b)\n",
    ""
   ]
  },
  {
   "cell_type": "code",
   "execution_count": 6,
   "metadata": {},
   "source": [
    "figure\n",
    "FontSize=14;\n",
    "plot(alphaAll,meanTru)\n",
    "xlabel('\\alpha','FontSize',FontSize)\n",
    "xlim([0 0.5])\n",
    "meany=mean(y);\n",
    "mediany=median(y);\n",
    "yline(meany)\n",
    "yline(mediany)\n",
    "ylabel(' $\\overline y_\\alpha$ ','Interpreter','latex','FontSize',FontSize)\n",
    "text(0.45,meany-60,\" $\\hat \\mu = \\overline y_n$ \",'Interpreter','latex','FontSize',FontSize)\n",
    "text(0.15,mediany+60,\"Me\",'Interpreter','latex','FontSize',FontSize)\n",
    "\n",
    "set(gca,\"XDir\",\"reverse\")\n",
    "set(gcf,\"Name\",'Figure A.1')\n",
    "title('Figure A.1')\n",
    "prin=0;\n",
    "if prin==1\n",
    "    % print to postscript\n",
    "    print -depsc trimmeanIncome2.eps;\n",
    "end"
   ],
   "outputs": []
  },
  {
   "cell_type": "markdown",
   "metadata": {},
   "source": [
    "\n",
    "## Create figure A.2.\n",
    "\n",
    "Exercise 1.4 \\- part (c)\n",
    ""
   ]
  },
  {
   "cell_type": "code",
   "execution_count": 7,
   "metadata": {},
   "source": [
    "figure\n",
    "yl1=-0.8;\n",
    "yl2=0.1;\n",
    "yrs=y/max(y);\n",
    "subplot(2,3,1)\n",
    "ytra=normBoxCox(yrs,1,1,'Jacobian',true);\n",
    "boxplot(ytra,'Labels',{''})\n",
    "title(' $\\lambda=1$ ','Interpreter','latex','FontSize',FontSize)\n",
    "ylim([yl1 yl2])\n",
    "\n",
    "subplot(2,3,2)\n",
    "ytra=normBoxCox(yrs,1,0,'Jacobian',true);\n",
    "boxplot(ytra,'Labels',{''})\n",
    "title(' $\\lambda=0$ ','Interpreter','latex','FontSize',FontSize)\n",
    "ylim([yl1 yl2])\n",
    "\n",
    "subplot(2,3,3)\n",
    "ytra=normBoxCox(yrs,1,-0.5,'Jacobian',true);\n",
    "boxplot(ytra,'Labels',{''})\n",
    "title(' $\\lambda=-0.5$ ','Interpreter','latex','FontSize',FontSize)\n",
    "ylim([yl1 yl2])\n",
    "\n",
    "subplot(2,3,4)\n",
    "ytra=normBoxCox(yrs,1,-1,'Jacobian',true);\n",
    "boxplot(ytra,'Labels',{''})\n",
    "title(' $\\lambda=-1$ ','Interpreter','latex','FontSize',FontSize)\n",
    "ylim([yl1 yl2])\n",
    "\n",
    "subplot(2,3,5)\n",
    "ytra=normBoxCox(yrs,1,-1.5,'Jacobian',true);\n",
    "boxplot(ytra,'Labels',{''})\n",
    "title(' $\\lambda=-1.5$ ','Interpreter','latex','FontSize',FontSize)\n",
    "ylim([yl1 yl2])\n",
    "\n",
    "subplot(2,3,6)\n",
    "ytra=normBoxCox(yrs,1,-2,'Jacobian',true);\n",
    "boxplot(ytra,'Labels',{''})\n",
    "title(' $\\lambda=-2$ ','Interpreter','latex','FontSize',FontSize)\n",
    "ylim([yl1 yl2])\n",
    "sgtitle('Figure A.2')\n",
    "set(gcf,\"Name\",'Figure A.2')\n",
    "\n",
    "prin=0;\n",
    "if prin==1\n",
    "    % print to postscript\n",
    "    print -depsc boxlaIncome2.eps;\n",
    "end\n",
    "\n",
    "%  BEGIN OF REGRESSION ANALYSIS (CHAPTER 10)"
   ],
   "outputs": []
  },
  {
   "cell_type": "markdown",
   "metadata": {},
   "source": [
    "\n",
    "## Figure 10.12 yXplot"
   ]
  },
  {
   "cell_type": "code",
   "execution_count": 8,
   "metadata": {},
   "source": [
    "yXplot(yt,Xt);\n",
    "sgtitle(\"Figure 10.12\")\n",
    "if prin==1\n",
    "    % print to postscript\n",
    "    print -depsc inc2f1.eps;\n",
    "end"
   ],
   "outputs": []
  },
  {
   "cell_type": "markdown",
   "metadata": {},
   "source": [
    "\n",
    "## Fit in the original scale using all the observations"
   ]
  },
  {
   "cell_type": "code",
   "execution_count": 9,
   "metadata": {},
   "source": [
    "disp(\"Table 10.2\")\n",
    "mdl=fitlm(X,y);\n",
    "disp(mdl)"
   ],
   "outputs": []
  },
  {
   "cell_type": "markdown",
   "metadata": {},
   "source": [
    "\n",
    "## Variable selectoin in the orginal scale\n",
    "\n",
    "Standard automatic variable selection\n",
    ""
   ]
  },
  {
   "cell_type": "code",
   "execution_count": 10,
   "metadata": {},
   "source": [
    "disp('Variable selection in the original scale')\n",
    "stepwiselm(Xytable)"
   ],
   "outputs": []
  },
  {
   "cell_type": "markdown",
   "metadata": {},
   "source": [
    "\n",
    "## Create Figure 10.13\n",
    "\n",
    "Analysis using a set of values of lambda\n",
    ""
   ]
  },
  {
   "cell_type": "code",
   "execution_count": 11,
   "metadata": {},
   "source": [
    "outFSRfan=FSRfan(y,X,'plots',1,'la',[-2 -1 -0.5 0 0.5 1],'nsamp',10000);\n",
    "title('Figure 10.13')\n",
    "if prin==1\n",
    "    % print to postscript\n",
    "    print -depsc inc2f2.eps;\n",
    "end"
   ],
   "outputs": []
  },
  {
   "cell_type": "markdown",
   "metadata": {},
   "source": [
    "\n",
    "## Create Figure 10.14"
   ]
  },
  {
   "cell_type": "code",
   "execution_count": 12,
   "metadata": {},
   "source": [
    "[out]=fanBIC(outFSRfan);\n",
    "disp('Best value of transformation parameter according to robust BIC')\n",
    "disp(out.labest)\n",
    "sgtitle('Figure 10.14')\n",
    "set(gcf,'Name','Figure 10.14')\n",
    "if prin==1\n",
    "    % print to postscript\n",
    "    print -depsc inc2f3.eps;\n",
    "end\n",
    "\n",
    "% %%  Analysis using a finer grid of values of lambda\n",
    "% % not given in the book\n",
    "% outFSRfan=FSRfan(y,X,'la',[0 0.25  0.5 0.75 1],'plots',1);\n",
    "% [out]=fanBIC(outFSRfan);"
   ],
   "outputs": []
  },
  {
   "cell_type": "markdown",
   "metadata": {},
   "source": [
    "\n",
    "## Transformed SQRT scale"
   ]
  },
  {
   "cell_type": "code",
   "execution_count": 13,
   "metadata": {},
   "source": [
    "ytra=y.^0.5;"
   ],
   "outputs": []
  },
  {
   "cell_type": "markdown",
   "metadata": {},
   "source": [
    "\n",
    "## Create Figure 10.15\n",
    "\n",
    "FSR in the trasformed scale\n",
    ""
   ]
  },
  {
   "cell_type": "code",
   "execution_count": 14,
   "metadata": {},
   "source": [
    "outf=FSR(ytra,X,'plots',1);\n",
    " fsr_yXplot=findobj(0, 'type', 'figure','tag','fsr_yXplot');\n",
    "figure(fsr_yXplot(end))\n",
    "sgtitle('Figure 10.15')\n",
    "set(gcf,'Name','Figure 10.15')\n",
    "\n",
    "% group=one;\n",
    "% group(outf.outliers)=2;\n",
    "% yXplot(ytra,X,'group',group)\n",
    "sgtitle('Figure 10.15')\n",
    "if prin==1\n",
    "    % print to postscript\n",
    "    print -depsc inc2f4.eps;\n",
    "end"
   ],
   "outputs": []
  },
  {
   "cell_type": "markdown",
   "metadata": {},
   "source": [
    "\n",
    "## Prepare the input for Figure 10.16\n",
    "\n",
    "FS monitoring of residuals in the transformed scale Use LTS as a starting point\n",
    ""
   ]
  },
  {
   "cell_type": "code",
   "execution_count": 15,
   "metadata": {},
   "source": [
    "outLXS=LXS(ytra,X,'nsamp',50000,'lms',0,'conflev',0.975);\n",
    "outFS=FSReda(ytra,X,outLXS.bs);"
   ],
   "outputs": []
  },
  {
   "cell_type": "markdown",
   "metadata": {},
   "source": [
    "\n",
    "## Create Figure 10.17"
   ]
  },
  {
   "cell_type": "code",
   "execution_count": 16,
   "metadata": {},
   "source": [
    "fground=struct;\n",
    "fground.fthresh=[-3 1.5];\n",
    "fground.Color={'r'};\n",
    "fground.flabstep='';\n",
    "bground='';\n",
    "\n",
    "resfwdplot(outFS,'datatooltip','','fground',fground, ...\n",
    "    'bground',bground)\n",
    "title('Figure 10.16')\n",
    "set(gcf,'Name','Figure 10.16')\n",
    "\n",
    "if prin==1\n",
    "    % print to postscript\n",
    "    print -depsc inc2f5.eps;\n",
    "end"
   ],
   "outputs": []
  },
  {
   "cell_type": "markdown",
   "metadata": {},
   "source": [
    "\n",
    "## Create Figure 10.17"
   ]
  },
  {
   "cell_type": "code",
   "execution_count": 17,
   "metadata": {},
   "source": [
    "disp('ANOVA in the transformed scale using all obs')\n",
    "mdlyatrallobs=fitlm(X,ytra);\n",
    "disp(mdlyatrallobs)\n",
    "\n",
    "figure\n",
    "conflev=0.99;\n",
    "nr=2;\n",
    "nc=2;\n",
    "h1=subplot(nr,nc,1);\n",
    "res=mdlyatrallobs.Residuals{:,3};\n",
    "qqplotFS(res,'X',X,'plots',1,'h',h1,'conflev',conflev);\n",
    "% title('qqplot of stud. res.')\n",
    "title('')\n",
    "\n",
    "% Plot residuals excluding outl\n",
    "mdl=fitlm(X,ytra,'Exclude',outf.outliers);\n",
    "h2=subplot(nr,nc,2);\n",
    "good=setdiff(1:n,outf.outliers);\n",
    "Xg=X(good,:);\n",
    "yg=ytra(good);\n",
    "resg=mdl.Residuals{good,3};\n",
    "qqplotFS(resg,'X',Xg,'plots',1,'h',h2,'conflev',conflev);\n",
    "\n",
    "sgtitle('Figure 10.17')\n",
    "set(gcf,'Name','Figure 10.17')\n",
    "\n",
    "if prin==1\n",
    "    % print to postscript\n",
    "    print -depsc inc2f6.eps;\n",
    "end"
   ],
   "outputs": []
  },
  {
   "cell_type": "markdown",
   "metadata": {},
   "source": [
    "\n",
    "## FSRaddt in the original scale\n",
    "\n",
    "Not given in the book outFSRaddt=FSRaddt(y,X); fanplot(outFSRaddt)\n",
    "\n",
    "## FSRaddt in the transformed scale (with and without the outliers)\n",
    "\n",
    "FSRaddt using all the observations\n",
    ""
   ]
  },
  {
   "cell_type": "code",
   "execution_count": 18,
   "metadata": {},
   "source": [
    "outFSRaddt1=FSRaddt(ytra,X);\n",
    "nr=2;\n",
    "nc=1;\n",
    "fanplot(outFSRaddt1,'tag','fanplotytraallobs')\n",
    "title('Figure 10.18 (top panel)')\n",
    "set(gcf,'Name','Figure 10.18')\n",
    "\n",
    "if prin==1\n",
    "    % print to postscript\n",
    "    print -depsc inc2f7top.eps;\n",
    "end\n",
    "\n",
    "% FSRaddt with outliers removed\n",
    "outFSRaddt1=FSRaddt(yg,Xg);\n",
    "fanplot(outFSRaddt1,'tag','fanplotytwithoutoutl')\n",
    "title('Figure 10.18 (bottom panel)')\n",
    "\n",
    "if prin==1\n",
    "    % print to postscript\n",
    "    print -depsc inc2f7bot.eps;\n",
    "end"
   ],
   "outputs": []
  },
  {
   "cell_type": "markdown",
   "metadata": {},
   "source": [
    "\n",
    "## Create Table 10.3"
   ]
  },
  {
   "cell_type": "code",
   "execution_count": 19,
   "metadata": {},
   "source": [
    "disp(\"Table 10.3\")\n",
    "disp('ANOVA in the transformed scale using all obs')\n",
    "mdlyOutRemoved=fitlm(X,ytra,'Exclude',outf.outliers);\n",
    "disp(mdlyOutRemoved)"
   ],
   "outputs": []
  },
  {
   "cell_type": "markdown",
   "metadata": {},
   "source": [
    "\n",
    "## LXS"
   ]
  },
  {
   "cell_type": "code",
   "execution_count": 20,
   "metadata": {},
   "source": [
    "disp(\"Given that there is a slight instability of the results with LTS\")\n",
    "disp(\"We take a very large number of susbets \")\n",
    "outLXS=LXS(ytra,X,'nsamp',100000,'lms',1,'conflev',1-0.01/n);\n",
    "nout=length(outLXS.outliers);\n",
    "disp(['Using conflev 0.99 number of units declared as outliers=' num2str(nout)])\n",
    "resindexplot(outLXS,'conflev',[0.975 0.99],'numlab','')\n",
    "title('Residuals based on LTS')\n",
    "if prin==1\n",
    "    % print to postscript\n",
    "    print -depsc inc2f7bot.eps;\n",
    "end"
   ],
   "outputs": []
  },
  {
   "cell_type": "markdown",
   "metadata": {},
   "source": [
    "\n",
    "## Variable selection in the transformed scale\n",
    "\n",
    "The outliers have been excluded\n",
    ""
   ]
  },
  {
   "cell_type": "code",
   "execution_count": 21,
   "metadata": {},
   "source": [
    "disp('Variable selection in the transformed scale (upper model is linear)')\n",
    "Xytabltra=Xytable;\n",
    "Xytabltra(:,end)=sqrt(Xytabltra(:,end));\n",
    "stepwiselm(Xytabltra,'upper','linear','Exclude',outf.outliers)\n",
    "\n",
    "disp('Variable selection in the transformed scale (upper model is quadratic)')\n",
    "Xytabltra=Xytable;\n",
    "Xytabltra(:,end)=sqrt(Xytabltra(:,end));\n",
    "stepwiselm(Xytabltra,'upper','quadratic','Exclude',outf.outliers)"
   ],
   "outputs": []
  },
  {
   "cell_type": "markdown",
   "metadata": {},
   "source": [
    "\n",
    "## Non parametric analysis: create Figure 10.19"
   ]
  },
  {
   "cell_type": "code",
   "execution_count": 22,
   "metadata": {},
   "source": [
    "critBestSol=struct;\n",
    "critBestSol.pvalDW=0.01;\n",
    "critBestSol.pvalJB=0.001;\n",
    "\n",
    "outAVAS=avasms(y,X,'critBestSol',critBestSol);\n",
    "pl_aug=findobj(0, 'type', 'figure','tag','pl_augstar');\n",
    "figure(pl_aug(end))\n",
    "title('Figure 10.19 (left-hand panel)')\n",
    "set(gcf,\"Name\",'Figure 10.19 (left-hand panel)')\n",
    "\n",
    "pl_heat=findobj(0, 'type', 'figure','tag','pl_heatmap');\n",
    "figure(pl_heat(end))\n",
    "title('Figure 10.19 (right-hand panel)')\n",
    "set(gcf,\"Name\",'Figure 10.19 (right-hand panel)')\n",
    "\n",
    "% avasmsplot(outAVAS)\n",
    "if prin==1\n",
    "    % print to postscript\n",
    "    print -depsc inc2f8ASP.eps;\n",
    "    print -depsc inc2f8HM.eps;\n",
    "\n",
    "end"
   ],
   "outputs": []
  },
  {
   "cell_type": "markdown",
   "metadata": {},
   "source": [
    "\n",
    "## Create Figures 10.20 and 10.21\n",
    "\n",
    "Best solution aceplot\n",
    ""
   ]
  },
  {
   "cell_type": "code",
   "execution_count": 23,
   "metadata": {},
   "source": [
    "nameXy=Xytable.Properties.VariableNames;\n",
    "j=1;\n",
    "outj=outAVAS{j,\"Out\"};\n",
    "outrobAV=outj{:};\n",
    "aceplot(outrobAV,'VarNames',nameXy,'notitle',true)\n",
    "\n",
    "pl_ty=findobj(0, 'type', 'figure','tag','pl_ty');\n",
    "figure(pl_ty(end))\n",
    "sgtitle('Figure 10.20')\n",
    "set(gcf,'Name','Figure 10.20')\n",
    "\n",
    "pl_tX=findobj(0, 'type', 'figure','tag','pl_tX');\n",
    "figure(pl_tX(end))\n",
    "sgtitle('Figure 10.21')\n",
    "set(gcf,'Name','Figure 10.21')\n",
    "if prin==1\n",
    "    % print to postscript\n",
    "    print -depsc inc2f9aceploty.eps;\n",
    "    print -depsc inc2f9aceplottX.eps;\n",
    "\n",
    "end"
   ],
   "outputs": []
  },
  {
   "cell_type": "markdown",
   "metadata": {},
   "source": [
    "\n",
    "## Create Table 10.4"
   ]
  },
  {
   "cell_type": "code",
   "execution_count": 24,
   "metadata": {},
   "source": [
    "format short\n",
    "mdlAVAtra=fitlm(outrobAV.tX,outrobAV.ty,'Exclude',outrobAV.outliers);\n",
    "disp('Table 10.4')\n",
    "disp(mdlAVAtra)\n",
    "\n",
    "%InsideREADME"
   ],
   "outputs": []
}
 ],
 "metadata": {
  "kernelspec": {
   "display_name": "MATLAB (matlabkernel)",
   "language": "matlab",
   "name": "matlab"
  },
  "language_info": {
   "file_extension": ".m",
   "mimetype": "text/matlab",
   "name": "matlab",
   "nbconvert_exporter": "matlab",
   "pygments_lexer": "matlab",
   "version": "24.1.0.2453260"
  }
 },
 "nbformat": 4,
 "nbformat_minor": 4
}