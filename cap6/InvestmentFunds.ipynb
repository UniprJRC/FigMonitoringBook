{
 "cells": [
  {
   "cell_type": "markdown",
   "metadata": {},
   "source": [
    "\n",
    "# <span style=\"color:rgb(213,80,0)\">Investment Funds data.</span>\n",
    "\n",
    "This file creates Figures 6.8\\-6.13 and Table 6.1.\n",
    "\n",
    "## Beginning of code"
   ]
  },
  {
   "cell_type": "code",
   "execution_count": 1,
   "metadata": {},
   "source": [
    "FondiInv=load('fondi_large.txt');\n",
    "\n",
    "y=FondiInv(:,2);\n",
    "X=FondiInv(:,[1 3]);\n",
    "n=length(y);\n",
    "prin=0;"
   ],
   "outputs": []
  },
  {
   "cell_type": "markdown",
   "metadata": {},
   "source": [
    "\n",
    "## Create Figure 6.8\n",
    "\n",
    "yXplot\n",
    ""
   ]
  },
  {
   "cell_type": "code",
   "execution_count": 2,
   "metadata": {},
   "source": [
    "booneg=y<0;\n",
    "seq=1:length(y);\n",
    "group=ones(length(y),1);\n",
    "group(seq(booneg))=2;\n",
    "\n",
    "yXplot(y,X,'group',group)\n",
    "legend({'Positive performance' 'Negative performance'})\n",
    "\n",
    "disp('fit on the original scale')\n",
    "mldlN1=fitlm(X,y,'exclude','');\n",
    "\n",
    "% Store F and R2adj\n",
    "% Store quantities for Table 6.1\n",
    "StoreFandR2lN1=[mldlN1.ModelFitVsNullModel.Fstat;  mldlN1.Rsquared.Adjusted];"
   ],
   "outputs": []
  },
  {
   "cell_type": "markdown",
   "metadata": {},
   "source": [
    "\n",
    "## Create Figure 6.9\n",
    "\n",
    "Create top panel of Figure 6.9\n",
    ""
   ]
  },
  {
   "cell_type": "code",
   "execution_count": 3,
   "metadata": {},
   "source": [
    "ylimy=20;\n",
    "nini=100;\n",
    "la=[0.5 0.6 0.7 0.8 0.9 1];\n",
    "out=FSRfan(y,X,'la',la,'family','YJ','plots',1,'init',round(nini/2),'ylimy',[-ylimy ylimy],'tag','ori');\n",
    "\n",
    "% Create bottom panel of Figure 6.9\n",
    "% pos and neg for 0.7\n",
    "lasel=0.7;\n",
    "ylimy1=5;\n",
    "outpn=FSRfan(y,X,'la',lasel,'family','YJpn','plots',1,'init',round(nini/2),'ylimy',[-ylimy1 ylimy1]);\n",
    "\n",
    "if prin==1\n",
    "    % print to postscript\n",
    "     print -depsc figsFondi\\fanplotoriA.eps;\n",
    "     print -depsc figsFondi\\fanplotoriB.eps;\n",
    "end"
   ],
   "outputs": []
  },
  {
   "cell_type": "markdown",
   "metadata": {},
   "source": [
    "\n",
    "## Create Figure 6.10\n",
    "\n",
    "Extended fanplot for lambda\\_P=1 and lambda\\_n=0.5, 0.25 and 0.0\n",
    ""
   ]
  },
  {
   "cell_type": "code",
   "execution_count": 4,
   "metadata": {},
   "source": [
    "m0=round(nini/2);\n",
    "ylimy=[-10 4];\n",
    "xlimx=[50 n];\n",
    "FontSizeylabel=12;\n",
    "% (top panel)\n",
    "yTOP=normYJpn(y, [], [1, 0.5], 'inverse',false, 'Jacobian', false);\n",
    "outpnTOP=FSRfan(yTOP,X,'la',1,'family','YJpn','plots',1,'init',m0, ...\n",
    "    'tag','pltop','xlimx',xlimx,'ylimy',ylimy);\n",
    "ylabel({' $\\lambda_P=1$ ',' $\\lambda_N=0.5$ '},'Interpreter','latex','FontSize',FontSizeylabel);\n",
    "title('Figure 6.10 (top panel)')\n",
    "set(gcf,\"Name\",'Figure 6.10 (top panel)')\n",
    "\n",
    "% Store F and R2adj\n",
    "% Store quantities for Table 6.1\n",
    "mldlN05=fitlm(X,yTOP,'exclude','');\n",
    "StoreFandR2lN05=[mldlN05.ModelFitVsNullModel.Fstat;  mldlN05.Rsquared.Adjusted];\n",
    "\n",
    "% (middle panel)\n",
    "yMID=normYJpn(y, [], [1, 0.25], 'inverse',false, 'Jacobian', false);\n",
    "outpnMID=FSRfan(yMID,X,'la',1,'family','YJpn','plots',1,'init',m0, ...\n",
    "    'tag','plmid','xlimx',xlimx,'ylimy',ylimy);\n",
    "ylabel({' $\\lambda_P=1$ ',' $\\lambda_N=0.25$ '},'Interpreter','latex','FontSize',FontSizeylabel);\n",
    "title('Figure 6.10 (mid panel)')\n",
    "set(gcf,\"Name\",'Figure 6.10 (mid panel)')\n",
    "% Store F and R2adj\n",
    "% Store quantities for Table 6.1\n",
    "mldlN025=fitlm(X,yMID,'exclude','');\n",
    "StoreFandR2lN025=[mldlN025.ModelFitVsNullModel.Fstat;  mldlN025.Rsquared.Adjusted];\n",
    "\n",
    "% (bottom panel)\n",
    "yBOT=normYJpn(y, [], [1, 0.0], 'inverse',false, 'Jacobian', false);\n",
    "outpnBOT=FSRfan(yBOT,X,'la',1,'family','YJpn','plots',1,'init',m0, ...\n",
    "    'tag','plbottom','xlimx',xlimx,'ylimy',ylimy);\n",
    "ylabel({' $\\lambda_P=1$ ',' $\\lambda_N=0$ '},'Interpreter','latex','FontSize',FontSizeylabel);\n",
    "title('Figure 6.10 (bottom panel)')\n",
    "set(gcf,\"Name\",'Figure 6.10 (bottom panel)')\n",
    "% Store F and R2adj\n",
    "% Store quantities for Table 6.1\n",
    "mldlN0=fitlm(X,yBOT,'exclude','');\n",
    "StoreFandR2lN0=[mldlN0.ModelFitVsNullModel.Fstat;  mldlN0.Rsquared.Adjusted];\n",
    "\n",
    "if prin==1\n",
    "    % print to postscript\n",
    "    print -depsc figsFondi\\fanplottra.eps;\n",
    "end"
   ],
   "outputs": []
  },
  {
   "cell_type": "markdown",
   "metadata": {},
   "source": [
    "\n",
    "## Create Figure 6.11\n",
    "\n",
    "Scatterplot of the transformed data\n",
    ""
   ]
  },
  {
   "cell_type": "code",
   "execution_count": 5,
   "metadata": {},
   "source": [
    "ymod=normYJpn(y, [], [1, 0], 'inverse',false, 'Jacobian', false);\n",
    "seq=1:length(ymod);\n",
    "group=ones(length(ymod),1);\n",
    "group(seq(booneg))=2;\n",
    "\n",
    "yXplot(ymod,X,'group',group);\n",
    "\n",
    "legend({'Positive performance' 'Negative performance'})\n",
    "sgtitle('Figure 6.11')\n",
    "set(gcf,\"Name\",'Figure 6.11')"
   ],
   "outputs": []
  },
  {
   "cell_type": "markdown",
   "metadata": {},
   "source": [
    "\n",
    "## Create Table 6.1"
   ]
  },
  {
   "cell_type": "code",
   "execution_count": 6,
   "metadata": {},
   "source": [
    "FandR2=[StoreFandR2lN1 StoreFandR2lN05 StoreFandR2lN025 StoreFandR2lN0];\n",
    "nameRows=[\"F2,306\" \"R2adj\"];\n",
    "nameCols=[\"laP=1,laN=1\" \"laP=1,laN=0.5\" \"laP=1,laN=0.25\" \"laP=1,laN=0\"];\n",
    "FandR2t=array2table(FandR2,'RowNames',nameRows,'VariableNames',nameCols);\n",
    "disp(FandR2t)\n",
    "\n",
    "%InsideREADME"
   ],
   "outputs": []
}
 ],
 "metadata": {
  "kernelspec": {
   "display_name": "MATLAB (matlabkernel)",
   "language": "matlab",
   "name": "matlab"
  },
  "language_info": {
   "file_extension": ".m",
   "mimetype": "text/matlab",
   "name": "matlab",
   "nbconvert_exporter": "matlab",
   "pygments_lexer": "matlab",
   "version": "24.1.0.2453260"
  }
 },
 "nbformat": 4,
 "nbformat_minor": 4
}