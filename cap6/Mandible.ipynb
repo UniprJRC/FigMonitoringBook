{
 "cells": [
  {
   "cell_type": "markdown",
   "metadata": {},
   "source": [
    "\n",
    "# <span style=\"color:rgb(213,80,0)\">Mandible Length data.</span>\n",
    "\n",
    "This file creates Figure 6.17.\n",
    "\n",
    "## Beginning of code"
   ]
  },
  {
   "cell_type": "code",
   "execution_count": 1,
   "metadata": {},
   "source": [
    "load mandible.mat\n",
    "% Define X and y\n",
    "X=mandible{:,1};\n",
    "y=mandible{:,2};\n",
    "prin=0;"
   ],
   "outputs": []
  },
  {
   "cell_type": "markdown",
   "metadata": {},
   "source": [
    "\n",
    "## Create Figure 6.17"
   ]
  },
  {
   "cell_type": "code",
   "execution_count": 2,
   "metadata": {},
   "source": [
    "subplot(2,2,1)\n",
    "\n",
    "% Transform both sides model\n",
    "out=tBothSides(y, X);\n",
    "\n",
    "% Confidence interval\n",
    "plot(X,y,'o')\n",
    "hold('on')\n",
    "% Use la =0\n",
    "laest=0;\n",
    "confquant=2.58; % 99 per cent conf int\n",
    "\n",
    "yhattra=normBoxCox(out.yhat,1,laest,'Jacobian',false);\n",
    "upConfInt= normBoxCox(yhattra+confquant*out.scale,1,laest,'inverse',true,'Jacobian',false);\n",
    "lowConfInt= normBoxCox(yhattra-confquant*out.scale,1,laest,'inverse',true,'Jacobian',false);\n",
    "[Xsor,indXsor]=sort(X);\n",
    "% Plot of fitted values\n",
    "plot(Xsor,out.yhat(indXsor),'k-')\n",
    "% Plot the upper confidence band\n",
    "plot(Xsor,upConfInt(indXsor),'k--')\n",
    "% Plot the lower confidence band\n",
    "plot(Xsor,lowConfInt(indXsor),'k--')\n",
    "xlabel('Gestational age (weeks)')\n",
    "ylabel('Mandible length (mm)')\n",
    "xlimx=[11 34];\n",
    "ylimy=[6 53];\n",
    "xlim(xlimx)\n",
    "ylim(ylimy)\n",
    "\n",
    "% Right hand panel: logarithmic Box-Cox with a quadratic model\n",
    "subplot(2,2,2)\n",
    "Xwithq=[X X.^2];\n",
    "xlimx=[11 34];\n",
    "ylimy=[6 53];\n",
    "\n",
    "MLfit_without = fitlm(Xwithq,log(y));\n",
    "[ypred,yci]=predict(MLfit_without,Xwithq,'Simultaneous',false,'Alpha',0.01,'Prediction','observation');\n",
    "% close all\n",
    "hold('on')\n",
    "plot(Xwithq(:,1),y,'o')\n",
    "plot(Xwithq(:,1), exp(ypred),'k-')\n",
    "plot(Xwithq(:,1), exp(yci),'k--')\n",
    "xlabel('Gestational age (weeks)')\n",
    "ylabel('Mandible length (mm)')\n",
    "box('on')\n",
    "xlim(xlimx)\n",
    "ylim(ylimy)\n",
    "\n",
    "title('Figure 6.17')\n",
    "set(gcf,\"Name\",'Figure 6.17')\n",
    "\n",
    "if prin==1\n",
    "    % print to postscript\n",
    "    print -depsc figsBS\\ML1.eps;\n",
    "end\n",
    "\n",
    "%InsideREADME"
   ],
   "outputs": []
}
 ],
 "metadata": {
  "kernelspec": {
   "display_name": "MATLAB (matlabkernel)",
   "language": "matlab",
   "name": "matlab"
  },
  "language_info": {
   "file_extension": ".m",
   "mimetype": "text/matlab",
   "name": "matlab",
   "nbconvert_exporter": "matlab",
   "pygments_lexer": "matlab",
   "version": "24.1.0.2453260"
  }
 },
 "nbformat": 4,
 "nbformat_minor": 4
}