{
 "cells": [
  {
   "cell_type": "markdown",
   "metadata": {},
   "source": [
    "\n",
    "# <span style=\"color:rgb(213,80,0)\">Bank data</span>\n",
    "\n",
    "This file creates Figure 4.35 and 4.36.\n",
    "\n",
    "## Data loading"
   ]
  },
  {
   "cell_type": "code",
   "execution_count": 1,
   "metadata": {},
   "source": [
    "load bank_data.mat\n",
    "y=bank_data{:,end};\n",
    "X=bank_data{:,1:end-1};\n",
    "n=length(y);\n",
    "prin=0;"
   ],
   "outputs": []
  },
  {
   "cell_type": "markdown",
   "metadata": {},
   "source": [
    "## Prepare the input for Figures 4.35 and 4.36"
   ]
  },
  {
   "cell_type": "code",
   "execution_count": 2,
   "metadata": {},
   "source": [
    "[outLXS]=LXS(y,X,'nsamp',10000);\n",
    "outEDA=FSReda(y,X,outLXS.bs,'init',round(length(y)*0.25));"
   ],
   "outputs": []
  },
  {
   "cell_type": "markdown",
   "metadata": {},
   "source": [
    "## Create Figures 4.35 and 4.36\n",
    "\n",
    "Brush from the monitoring residual plot\n",
    ""
   ]
  },
  {
   "cell_type": "code",
   "execution_count": 3,
   "metadata": {},
   "source": [
    "mdrplot(outEDA);\n",
    "resfwdplot(outEDA,'databrush',1);\n",
    "try\n",
    "fig=findobj(0,'tag','pl_mdr');\n",
    "figure(fig)\n",
    "title('Figure not given in the book')\n",
    "fig=findobj(0,'tag','pl_resfwd');\n",
    "figure(fig)\n",
    "title('Figure similar to 4.35', 'It depends on your brushing')\n",
    "fig=findobj(0,'tag','pl_yX');\n",
    "figure(fig)\n",
    "sgtitle('Figure similar to 4.36', 'It depends on your brushing')\n",
    "catch\n",
    "end\n",
    "%InsideREADME"
   ],
   "outputs": []
}
 ],
 "metadata": {
  "kernelspec": {
   "display_name": "MATLAB (matlabkernel)",
   "language": "matlab",
   "name": "matlab"
  },
  "language_info": {
   "file_extension": ".m",
   "mimetype": "text/matlab",
   "name": "matlab",
   "nbconvert_exporter": "matlab",
   "pygments_lexer": "matlab",
   "version": "24.1.0.2628055"
  }
 },
 "nbformat": 4,
 "nbformat_minor": 4
}