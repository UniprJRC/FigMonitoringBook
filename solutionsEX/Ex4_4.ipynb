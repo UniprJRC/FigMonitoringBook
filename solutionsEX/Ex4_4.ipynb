{
 "cells": [
  {
   "cell_type": "markdown",
   "metadata": {},
   "source": [
    "\n",
    "# <span style=\"color:rgb(213,80,0)\">Exercise 4.4</span>\n",
    "\n",
    "Surgical Unit data: traditional robust analysis This file creates Figures A.11-A.12\n",
    "\n",
    "## Surgical Unit data:"
   ]
  },
  {
   "cell_type": "code",
   "execution_count": 1,
   "metadata": {},
   "source": [
    "close all;\n",
    "y=hospitalFS(:,5);"
   ],
   "outputs": [
    {
     "data": {
      "text/plain": [
       "Unrecognized function or variable 'hospitalFS'."
      ]
     },
     "metadata": {},
     "execution_count":  1,
     "output_type": "execute_result"
    }
   ]
  },
  {
   "cell_type": "code",
   "execution_count": 2,
   "metadata": {},
   "source": [
    "X=hospitalFS(:,1:4);"
   ],
   "outputs": []
  },
  {
   "cell_type": "markdown",
   "metadata": {},
   "source": [
    "## Create Figure A.11\n",
    "\n",
    "TB rho function: analysis using S estimators with 2 values of breakdown point Using bdp=0.5 it is clear that the first 54 units have a pattern of residuals which is different from the remaining 54\n",
    ""
   ]
  },
  {
   "cell_type": "code",
   "execution_count": 3,
   "metadata": {},
   "source": [
    "% 95 and 99 conflev\n",
    "conflev=[0.95 0.99];\n",
    "\n",
    "figure;\n",
    "h1=subplot(2,1,1);\n",
    "bdp=0.25;\n",
    "[out]=Sreg(y,X,'nsamp',3000,'bdp',bdp,'rhofunc','bisquare');\n",
    "resindexplot(out,'h',h1,'conflev',conflev);\n",
    "ylabel(['Breakdown point =' num2str(bdp)])\n",
    "h2=subplot(2,1,2);\n",
    "bdp=0.5;\n",
    "[out]=Sreg(y,X,'nsamp',3000,'bdp',bdp,'rhofunc','bisquare');\n",
    "resindexplot(out,'h',h2,'conflev',conflev);\n",
    "ylabel(['Breakdown point =' num2str(bdp)])\n",
    "sgtitle('Figure A.11')\n",
    "set(gcf,\"Name\",'Figure A.11')\n",
    "\n",
    "if prin==1\n",
    "    % print to postscript\n",
    "    print -depsc SPStwobdp.eps;\n",
    "end"
   ],
   "outputs": []
  },
  {
   "cell_type": "markdown",
   "metadata": {},
   "source": [
    "## Create Figure A.12\n",
    "\n",
    "PD rho function: analysis using S estimators with 2 values of breakdown point Using bdp=0.5 it is clear that the first 54 units have a pattern of residuals which is different from the remaining 54\n",
    ""
   ]
  },
  {
   "cell_type": "code",
   "execution_count": 4,
   "metadata": {},
   "source": [
    "figure;\n",
    "h1=subplot(2,1,1);\n",
    "bdp=0.25;\n",
    "[out]=Sreg(y,X,'nsamp',3000,'bdp',bdp,'rhofunc','mdpd');\n",
    "resindexplot(out,'h',h1,'conflev',conflev);\n",
    "ylabel(['Breakdown point =' num2str(bdp)])\n",
    "h2=subplot(2,1,2);\n",
    "bdp=0.5;\n",
    "[out]=Sreg(y,X,'nsamp',3000,'bdp',bdp,'rhofunc','mdpd');\n",
    "resindexplot(out,'h',h2,'conflev',conflev);\n",
    "ylabel(['Breakdown point =' num2str(bdp)])\n",
    "sgtitle('Figure A.12')\n",
    "set(gcf,\"Name\",'Figure A.12')\n",
    "\n",
    "if prin==1\n",
    "    % print to postscript\n",
    "    print -depsc SPStwobdpPD.eps;\n",
    "end\n",
    "\n",
    "%InsideREADME"
   ],
   "outputs": []
}
 ],
 "metadata": {
  "kernelspec": {
   "display_name": "MATLAB (matlabkernel)",
   "language": "matlab",
   "name": "matlab"
  },
  "language_info": {
   "file_extension": ".m",
   "mimetype": "text/matlab",
   "name": "matlab",
   "nbconvert_exporter": "matlab",
   "pygments_lexer": "matlab",
   "version": "23.2.0.2428915"
  }
 },
 "nbformat": 4,
 "nbformat_minor": 4
}