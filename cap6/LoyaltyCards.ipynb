{
 "cells": [
  {
   "cell_type": "markdown",
   "metadata": {},
   "source": [
    "\n",
    "# <span style=\"color:rgb(213,80,0)\">Loyalty cards data</span>\n",
    "\n",
    "This file creates Figures 6.2\\-6.6 Note that: Figures 6.15\\-6.16 are created by file LoyaltyCardsBICplots.m\n",
    "\n",
    "## LD (Loyalty cards data)"
   ]
  },
  {
   "cell_type": "code",
   "execution_count": 1,
   "metadata": {},
   "source": [
    "load('loyalty.txt');\n",
    "y=loyalty(:,4); %#ok<SUSENS>\n",
    "X=loyalty(:,1:3);\n",
    "n=length(y);\n",
    "prin=0;"
   ],
   "outputs": []
  },
  {
   "cell_type": "markdown",
   "metadata": {},
   "source": [
    "\n",
    "## Prepare input for Figure 6.2"
   ]
  },
  {
   "cell_type": "code",
   "execution_count": 2,
   "metadata": {},
   "source": [
    "%la=[-1:0.1:1];\n",
    "la=0:0.1:1;\n",
    "[outFSRfan]=FSRfan(y,X,'plots',1,'init',round(n*0.3),'nsamp',10000,'la',la,'msg',0);"
   ],
   "outputs": []
  },
  {
   "cell_type": "markdown",
   "metadata": {},
   "source": [
    "\n",
    "## Create Figure 6.2"
   ]
  },
  {
   "cell_type": "code",
   "execution_count": 3,
   "metadata": {},
   "source": [
    "mm=round(n*0.6);\n",
    "fanplotFS(outFSRfan,'addxline',mm,'xlimx',[150 520])\n",
    "if prin==1\n",
    "    % print to postscript\n",
    "    print -depsc figs\\L2a.eps\n",
    "end\n",
    "\n",
    "title('Figure 6.2')\n",
    "set(gcf,\"Name\",'Figure 6.2')"
   ],
   "outputs": []
  },
  {
   "cell_type": "markdown",
   "metadata": {},
   "source": [
    "\n",
    "## Prapare input for Figures 6.3\\-6.5"
   ]
  },
  {
   "cell_type": "code",
   "execution_count": 4,
   "metadata": {},
   "source": [
    "yt=y.^0.4;\n",
    "[out]=FSR(yt,X,'plots',0,'init',round(n*0.3),'nsamp',10000);\n",
    "outl=out.ListOut;\n",
    "\n",
    "[outLXS]=LXS(yt,X,'nsamp',10000);\n",
    "[outEDA]=FSReda(yt,X,outLXS.bs);"
   ],
   "outputs": []
  },
  {
   "cell_type": "markdown",
   "metadata": {},
   "source": [
    "\n",
    "## Create Figure 6.3\n",
    "\n",
    "mdrplot with last 18 highlighted\n",
    ""
   ]
  },
  {
   "cell_type": "code",
   "execution_count": 5,
   "metadata": {},
   "source": [
    "mdrplot(outEDA,'quant',[0.01 0.5 0.99 0.999 0.9999 0.99999]);\n",
    "hold('on')\n",
    "rr=18;\n",
    "mdr=abs(outEDA.mdr(:,1:2));\n",
    "plot(mdr(end-rr:end,1),mdr(end-rr:end,2),'LineWidth',1.5,'color','r');\n",
    "\n",
    "title('Figure 6.3')\n",
    "set(gcf,\"Name\",'Figure 6.3')"
   ],
   "outputs": []
  },
  {
   "cell_type": "markdown",
   "metadata": {},
   "source": [
    "\n",
    "## Create Figure 6.4\n",
    "\n",
    "resfwdplot with outliers highlighted Monitoring scaled residuals with all default parameters\n",
    ""
   ]
  },
  {
   "cell_type": "code",
   "execution_count": 6,
   "metadata": {},
   "source": [
    "standard=struct;\n",
    "standard.xlim=[0,500];\n",
    "standard.ylim=[-6.5, 2.5];\n",
    "fground=struct;\n",
    "fground.funit=outl;\n",
    "fground.Color={'r'};\n",
    "fground.flabstep='';\n",
    "bground=struct;\n",
    "bground.bthresh=4;\n",
    "bground='';\n",
    "resfwdplot(outEDA,'fground',fground,'bground',bground, 'standard', standard);\n",
    "title('Figure 6.4')\n",
    "set(gcf,\"Name\",'Figure 6.4')"
   ],
   "outputs": []
  },
  {
   "cell_type": "markdown",
   "metadata": {},
   "source": [
    "\n",
    "## Crate Figure 6.5:\n",
    "\n",
    "Transformed loyalty cards data: scatterplot against 1. The 18 outliers detected plotted as red crosses\n",
    ""
   ]
  },
  {
   "cell_type": "code",
   "execution_count": 7,
   "metadata": {},
   "source": [
    "figure\n",
    "group=ones(length(y),1);\n",
    "group(outl)=2;\n",
    "gscatter(X(:,1),yt,group,'br','o+',7)\n",
    "xlabel('x1=frequency')\n",
    "ylabel(\"y=sales^{0.4}\")\n",
    "legend off\n",
    "title('Figure 6.5')\n",
    "set(gcf,\"Name\",'Figure 6.5')"
   ],
   "outputs": []
  },
  {
   "cell_type": "markdown",
   "metadata": {},
   "source": [
    "\n",
    "## Create Figure 6.6:\n",
    "\n",
    "Monitoring of beta1\n",
    ""
   ]
  },
  {
   "cell_type": "code",
   "execution_count": 8,
   "metadata": {},
   "source": [
    "figure\n",
    "j=3;\n",
    "plot(outEDA.Bols(:,1),outEDA.Bols(:,3),'LineWidth',2)\n",
    "xlim([10 510])\n",
    "ylabel(' $\\hat \\beta_{1}$ ','Interpreter','Latex','FontSize',14)\n",
    "hold('on')\n",
    "plot(outEDA.Bols(end-rr:end,1), outEDA.Bols(end-rr:end,3),'.','color','r', 'MarkerSize',14);\n",
    "xlabel('Subset size m');\n",
    "title('Figure 6.6')\n",
    "set(gcf,\"Name\",'Figure 6.6')"
   ],
   "outputs": []
  },
  {
   "cell_type": "markdown",
   "metadata": {},
   "source": [
    "\n",
    "## Figure 6.15 and Figure 6.16\n",
    "\n",
    "See file LoyaltyCardsBICplots.m\n",
    ""
   ]
  },
  {
   "cell_type": "code",
   "execution_count": 9,
   "metadata": {},
   "source": [
    "%InsideREADME"
   ],
   "outputs": []
}
 ],
 "metadata": {
  "kernelspec": {
   "display_name": "MATLAB (matlabkernel)",
   "language": "matlab",
   "name": "matlab"
  },
  "language_info": {
   "file_extension": ".m",
   "mimetype": "text/matlab",
   "name": "matlab",
   "nbconvert_exporter": "matlab",
   "pygments_lexer": "matlab",
   "version": "24.1.0.2453260"
  }
 },
 "nbformat": 4,
 "nbformat_minor": 4
}