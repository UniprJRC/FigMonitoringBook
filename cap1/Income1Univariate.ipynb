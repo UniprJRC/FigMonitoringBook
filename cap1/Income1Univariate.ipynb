{
 "cells": [
  {
   "cell_type": "markdown",
   "metadata": {},
   "source": [
    "\n",
    "# <span style=\"color:rgb(213,80,0)\">This file is referred to dataset Income1</span>\n",
    "\n",
    "Univariate analysis of the response for dataset Income1. It creates Figures 1.2 ----- 1.5 and Tables 1.1, 1.2\n",
    "\n",
    "## Data loading"
   ]
  },
  {
   "cell_type": "code",
   "execution_count": 1,
   "metadata": {},
   "source": [
    "clear\n",
    "close all\n",
    "load Income1\n",
    "\n",
    "% y  in array format\n",
    "y=Income1{:,\"HTOTVAL\"};\n",
    "\n",
    "% y in table format\n",
    "yt=Income1(:,end);\n",
    "\n",
    "n=length(y);\n",
    "one=ones(n,1);\n",
    "\n",
    "FontSize=14;\n",
    "prin=0;"
   ],
   "outputs": []
  },
  {
   "cell_type": "markdown",
   "metadata": {},
   "source": [
    "## Create Figure 1.2\n",
    "\n",
    "histogram and boxplot; positive skewness is evident in both panels.\n",
    ""
   ]
  },
  {
   "cell_type": "code",
   "execution_count": 2,
   "metadata": {},
   "source": [
    "subplot(1,2,1)\n",
    "histogram(y)\n",
    "xlabel('Income','FontSize',FontSize)\n",
    "ylabel('Frequencies','FontSize',FontSize)\n",
    "subplot(1,2,2)\n",
    "boxplot(y,'Labels',{''})\n",
    "ylabel('Income','FontSize',FontSize)\n",
    "if prin==1\n",
    "    % print to postscript\n",
    "    print -depsc histbox.eps;\n",
    "end\n",
    "sgtitle('Figure 1.2')\n",
    "set(gcf,\"Name\",'Figure 1.2')"
   ],
   "outputs": []
  },
  {
   "cell_type": "markdown",
   "metadata": {},
   "source": [
    "## Create Figure 1.3\n",
    "\n",
    "Boxplots for four value of lambda using the normalized Box Cox power transformation after preliminary rescaling of the data to a maximum value of one.\n",
    ""
   ]
  },
  {
   "cell_type": "code",
   "execution_count": 3,
   "metadata": {},
   "source": [
    "yl1=-1;\n",
    "yl2=0;\n",
    "yrs=y/max(y);\n",
    "figure\n",
    "subplot(2,2,1)\n",
    "ytra=normBoxCox(yrs,1,1,'Jacobian',true);\n",
    "boxplot(ytra,'Labels',{''})\n",
    "title(' $\\lambda=1$ ','Interpreter','latex','FontSize',FontSize)\n",
    "ylim([yl1 yl2])\n",
    "\n",
    "subplot(2,2,2)\n",
    "ytra=normBoxCox(yrs,1,0.5,'Jacobian',true);\n",
    "boxplot(ytra,'Labels',{''})\n",
    "title(' $\\lambda=0.5$ ','Interpreter','latex','FontSize',FontSize)\n",
    "ylim([yl1 yl2])\n",
    "\n",
    "subplot(2,2,3)\n",
    "ytra=normBoxCox(yrs,1,0,'Jacobian',true);\n",
    "boxplot(ytra,'Labels',{''})\n",
    "title(' $\\lambda=0$ ','Interpreter','latex','FontSize',FontSize)\n",
    "ylim([yl1 yl2])\n",
    "\n",
    "subplot(2,2,4)\n",
    "ytra=normBoxCox(yrs,1,-0.5,'Jacobian',true);\n",
    "boxplot(ytra,'Labels',{''})\n",
    "title(' $\\lambda=-0.5$ ','Interpreter','latex','FontSize',FontSize)\n",
    "ylim([yl1 yl2])\n",
    "\n",
    "if prin==1\n",
    "    % print to postscript\n",
    "    print -depsc boxla.eps;\n",
    "end\n",
    "\n",
    "sgtitle('Figure 1.3')\n",
    "set(gcf,\"Name\",'Figure 1.3')"
   ],
   "outputs": []
  },
  {
   "cell_type": "markdown",
   "metadata": {},
   "source": [
    "## Create Table 1.1\n",
    "\n",
    "Analysis of the score test\n",
    ""
   ]
  },
  {
   "cell_type": "code",
   "execution_count": 4,
   "metadata": {},
   "source": [
    "la=[-1, -0.5, 0, 0.5, 1];\n",
    "out=Score(y,one, 'la', la,'intercept',false);\n",
    "\n",
    "Score=out.Score;\n",
    "rownam=[\"Inverse\" \"Reciprocal square root\" \"Logarithmic\" \"Square root\" \"None\"];\n",
    "colnam=[\"lambda\" \"Score test\"];\n",
    "\n",
    "ScoreT=array2table([la' Score],\"RowNames\",rownam,\"VariableNames\",colnam);\n",
    "format bank\n",
    "disp(\"Table 1.1\")\n",
    "disp(ScoreT)"
   ],
   "outputs": []
  },
  {
   "cell_type": "markdown",
   "metadata": {},
   "source": [
    "## Create Table 1.2\n",
    "\n",
    "Descriptive statistics Table 1.2\n",
    ""
   ]
  },
  {
   "cell_type": "code",
   "execution_count": 5,
   "metadata": {},
   "source": [
    "ysor=sort(y);\n",
    "\n",
    "alpha=0.10;\n",
    "m=floor((n-1)*alpha);\n",
    "meanTri=mean(ysor(m+1:n-m));\n",
    "% meanTriCHK=trimmean(y,100*alpha)\n",
    "mea=mean(y);\n",
    "medi=median(y);\n",
    "sta=std(y);\n",
    "consfact=1/norminv(0.75);\n",
    "madn=consfact*mad(y,1);\n",
    "\n",
    "loc=[mea; meanTri; medi; sta; madn];\n",
    "\n",
    "y1=log(y);\n",
    "ysor1=sort(y1);\n",
    "meanTri1=mean(ysor1(m+1:n-m));\n",
    "mea1=mean(y1);\n",
    "medi1=median(y1);\n",
    "sta1=std(y1);\n",
    "madn1=consfact*mad(y1,1);\n",
    "\n",
    "loc1=[mea1; meanTri1; medi1; sta1; madn1];\n",
    "\n",
    "LOC=[loc loc1];\n",
    "rn=[\"Mean\" \"Trimmed mean\" \"Median\" \"Standard Deviation\" \"MADN\"];\n",
    "rc=[\"Original data\" \"logged data\"];\n",
    "LOCt=array2table(LOC,'RowNames',rn,'VariableNames',rc);\n",
    "disp(\"Table 1.2\")\n",
    "disp(LOCt)"
   ],
   "outputs": []
  },
  {
   "cell_type": "markdown",
   "metadata": {},
   "source": [
    "## Prepare input for Figure 1.4\n",
    "\n",
    "Trimmed mean monitoring\n",
    ""
   ]
  },
  {
   "cell_type": "code",
   "execution_count": 6,
   "metadata": {},
   "source": [
    "alphaAll=(0:0.01:0.5)';\n",
    "lalphaAll=length(alphaAll);\n",
    "meanTru=zeros(lalphaAll,1);\n",
    "% meanTru1=meanTru;\n",
    "ysor=sort(y);\n",
    "for i=1:lalphaAll\n",
    "    m=floor((n-1)*alphaAll(i));\n",
    "    meanTru(i)=mean(ysor(m+1:n-m));\n",
    "    % meanTru1(i)=trimmean(y,100*alphaAll(i));\n",
    "end"
   ],
   "outputs": []
  },
  {
   "cell_type": "markdown",
   "metadata": {},
   "source": [
    "## Create Figure 1.4\n",
    "\n",
    "Monitoring of the trimmed mean\n",
    ""
   ]
  },
  {
   "cell_type": "code",
   "execution_count": 7,
   "metadata": {},
   "source": [
    "figure\n",
    "plot(alphaAll,meanTru)\n",
    "xlabel('\\alpha','FontSize',FontSize)\n",
    "xlim([0 0.5])\n",
    "meany=mean(y);\n",
    "mediany=median(y);\n",
    "yline(meany)\n",
    "yline(mediany)\n",
    "ylabel(' $\\overline y_\\alpha$ ','Interpreter','latex','FontSize',FontSize)\n",
    "text(0.45,meany-1000,\" $\\hat \\mu = \\overline y_n$ \",'Interpreter','latex','FontSize',FontSize)\n",
    "text(0.15,mediany+300,\"Me\",'Interpreter','latex','FontSize',FontSize)\n",
    "\n",
    "set(gca,\"XDir\",\"reverse\")\n",
    "\n",
    "if prin==1\n",
    "    % print to postscript\n",
    "    print -depsc trimmeanIncome1.eps;\n",
    "end\n",
    "\n",
    "title('Figure 1.4')\n",
    "set(gcf,\"Name\",'Figure 1.4')"
   ],
   "outputs": []
  },
  {
   "cell_type": "markdown",
   "metadata": {},
   "source": [
    "## Create Figure 1.5 fanplot\n",
    "\n",
    "Fanplot using just the intercept\n",
    ""
   ]
  },
  {
   "cell_type": "code",
   "execution_count": 8,
   "metadata": {},
   "source": [
    "outFSRfanUNI=FSRfan(y,one,'intercept',0,'ylimy',[-24 26],'nsamp',0);\n",
    "\n",
    "if prin==1\n",
    "    % print to postscript\n",
    "    print -depsc fanIncome1.eps;\n",
    "end\n",
    "\n",
    "title('Figure 1.5')\n",
    "set(gcf,\"Name\",'Figure 1.5')"
   ],
   "outputs": []
  },
  {
   "cell_type": "markdown",
   "metadata": {},
   "source": [
    "## Visual display of the trimmed mean calling GUItrimmedmean\n",
    "\n",
    "Note that given that GUItrimmean trims alpha72 from both tails it is necessary to use (2*alpha)*100=20 to have the 10 per cent trimmed mean\n",
    ""
   ]
  },
  {
   "cell_type": "code",
   "execution_count": 9,
   "metadata": {},
   "source": [
    "%{\n",
    "    outTRI=GUItrimmean(y15,20);\n",
    "    disp(\"Trimmed mean alpha=0.10 using call to GUItrimmean\")\n",
    "    disp(outTRI.trimmedmean)\n",
    "%}\n",
    "\n",
    "%InsideREADME"
   ],
   "outputs": []
}
 ],
 "metadata": {
  "kernelspec": {
   "display_name": "MATLAB (matlabkernel)",
   "language": "matlab",
   "name": "matlab"
  },
  "language_info": {
   "file_extension": ".m",
   "mimetype": "text/matlab",
   "name": "matlab",
   "nbconvert_exporter": "matlab",
   "pygments_lexer": "matlab",
   "version": "23.2.0.2428915"
  }
 },
 "nbformat": 4,
 "nbformat_minor": 4
}