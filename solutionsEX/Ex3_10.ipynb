{
 "cells": [
  {
   "cell_type": "markdown",
   "metadata": {},
   "source": [
    "\n",
    "# <span style=\"color:rgb(213,80,0)\">Exercise 3.10.</span>\n",
    "\n",
    "First truncated moment in folded normal distribution.\n",
    "\n",
    "## Beginning of code"
   ]
  },
  {
   "cell_type": "code",
   "execution_count": 1,
   "metadata": {},
   "source": [
    "% Check the simplification in equation A.30\n",
    "c=2.5; b=1.2;\n",
    "m1=sqrt(2/pi)*(chi2cdf(c^2,2)-chi2cdf(b^2,2));\n",
    "\n",
    "m1chk=2*(normpdf(b)-normpdf(c));\n",
    "\n",
    "assert(abs(m1-m1chk)<eps,\"Simplification not correct\");\n",
    "\n",
    "%InsideREADME"
   ],
   "outputs": []
}
 ],
 "metadata": {
  "kernelspec": {
   "display_name": "MATLAB (matlabkernel)",
   "language": "matlab",
   "name": "matlab"
  },
  "language_info": {
   "file_extension": ".m",
   "mimetype": "text/matlab",
   "name": "matlab",
   "nbconvert_exporter": "matlab",
   "pygments_lexer": "matlab",
   "version": "23.2.0.2428915"
  }
 },
 "nbformat": 4,
 "nbformat_minor": 4
}