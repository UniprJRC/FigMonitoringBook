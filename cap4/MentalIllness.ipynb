{
 "cells": [
  {
   "cell_type": "markdown",
   "metadata": {},
   "source": [
    "\n",
    "# <span style=\"color:rgb(213,80,0)\">Contaminated illness data.</span>\n",
    "\n",
    "This file creates Figure 4.33.\n",
    "\n",
    "## Beginning of code"
   ]
  },
  {
   "cell_type": "code",
   "execution_count": 1,
   "metadata": {},
   "source": [
    "load('illnessx07.txt');\n",
    "y=illnessx07(:,4);\n",
    "X=illnessx07(:,2:3);\n",
    "listout=[17 53 30];\n",
    "y(listout)=1;\n",
    "y=log(y);\n",
    "p=size(X,2)+1;\n",
    "n=length(y);\n",
    "prin=0;"
   ],
   "outputs": []
  },
  {
   "cell_type": "markdown",
   "metadata": {},
   "source": [
    "\n",
    "## Prepare the input for Figure 4.43\n",
    "\n",
    "Monitoring LXS Find LTS residuals\n",
    ""
   ]
  },
  {
   "cell_type": "code",
   "execution_count": 2,
   "metadata": {},
   "source": [
    "bdp=0.5:-0.01:0.01;\n",
    "lbdp=length(bdp);\n",
    "BIClxs=[bdp' zeros(lbdp,1)];\n",
    "logn=log(n);\n",
    "RES=zeros(n,lbdp);\n",
    "\n",
    "Xwithintercept=[ones(n,1) X];\n",
    "for j=1:lbdp\n",
    "    [out]=LXS(y,X,'lms',2,'bdp',bdp(j),'nsamp',0,'msg',0);\n",
    "\n",
    "    hh=out.h;\n",
    "    if hh<n\n",
    "        resj=(y-Xwithintercept*out.beta).*(out.weights);\n",
    "        RES(:,j)=out.residuals;\n",
    "        % Apply Tallis consistency factor\n",
    "        vt = norminv(0.5*(1+hh/n));\n",
    "        factor = 1/(1-2*(n/hh)*vt.*normpdf(vt));\n",
    "        RSS=factor*resj'*(resj);\n",
    "        BIClxs(j,2)=-n*log(RSS/hh)-logn*(p+n-hh);\n",
    "    else\n",
    "        beta=Xwithintercept\\y;\n",
    "        res=y-Xwithintercept*beta;\n",
    "        RSS=res'*res;\n",
    "        BIClxs(j,2)=-n*log(RSS/hh)-logn*p;\n",
    "    end\n",
    "\n",
    "end"
   ],
   "outputs": []
  },
  {
   "cell_type": "markdown",
   "metadata": {},
   "source": [
    "\n",
    "## Create Figure 4.43"
   ]
  },
  {
   "cell_type": "code",
   "execution_count": 3,
   "metadata": {},
   "source": [
    "figure\n",
    "% BIC with LTS\n",
    "subplot(2,2,1)\n",
    "plot(BIClxs(:,1),BIClxs(:,2))\n",
    "xlabel('Break down point')\n",
    "ylabel('BIC')\n",
    "[~,indmax]=max(BIClxs(:,2));\n",
    "ylim([min(BIClxs(:,2)) max(BIClxs(:,2))])\n",
    "ax=axis;\n",
    "xlim([0 0.5])\n",
    "\n",
    "line(bdp(indmax)*ones(2,1), [ax(3); BIClxs(indmax,2)],'Color','r')\n",
    "set(gca,'XDir','rev')\n",
    "\n",
    "outpre=LXS(y,X,'nsamp',5000);\n",
    "[Un,BB]=FSRbsb(y,X,outpre.bs,'init',round(n/2));\n",
    "BICfs=[Un(:,1), zeros(size(Un,1),1)];\n",
    "logn=log(n);\n",
    "Xwithintercept=[ones(n,1) X];\n",
    "\n",
    "for j=2:size(BB,2)\n",
    "    boo=~isnan(BB(:,j));\n",
    "    hh=sum(boo);\n",
    "    Xb=Xwithintercept(boo,:);\n",
    "    yb=y(boo);\n",
    "    beta=Xb\\yb;\n",
    "    resj=yb-Xb*beta;\n",
    "    if hh<n\n",
    "        % Apply Tallis consistency factor\n",
    "        vt = norminv(0.5*(1+hh/n));\n",
    "        factor = 1/(1-2*(n/hh)*vt.*normpdf(vt));\n",
    "        RSS=factor*resj'*(resj);\n",
    "    else\n",
    "        RSS=resj'*resj;\n",
    "    end\n",
    "        BICfs(j-1,2)=-n*log(RSS/hh)-logn*(p+n-hh);\n",
    "end\n",
    "\n",
    "% Plot BIC FOR FS\n",
    "subplot(2,2,2)\n",
    "plot(BICfs(:,1),BICfs(:,2))\n",
    "xlabel('Subset size m')\n",
    "ylabel('BIC')\n",
    "[~,indmax]=max(BICfs(:,2));\n",
    "ax=axis;\n",
    "\n",
    "line(BICfs(indmax,1)*ones(2,1), [ax(3); BICfs(indmax,2)],'Color','r')\n",
    "xlim([n/2 n])\n",
    "ylim([min(BICfs(:,2)) max(BICfs(:,2))])\n",
    "\n",
    "if prin==1\n",
    "    % print to postscript\n",
    "    print -depsc figs\\CI1.eps;\n",
    "\n",
    "end\n",
    "\n",
    "sgtitle('Figure 4.43')\n",
    "set(gcf,\"Name\",'Figure 4.43')\n",
    "\n",
    "%InsideREADME"
   ],
   "outputs": []
}
 ],
 "metadata": {
  "kernelspec": {
   "display_name": "MATLAB (matlabkernel)",
   "language": "matlab",
   "name": "matlab"
  },
  "language_info": {
   "file_extension": ".m",
   "mimetype": "text/matlab",
   "name": "matlab",
   "nbconvert_exporter": "matlab",
   "pygments_lexer": "matlab",
   "version": "24.1.0.2453260"
  }
 },
 "nbformat": 4,
 "nbformat_minor": 4
}