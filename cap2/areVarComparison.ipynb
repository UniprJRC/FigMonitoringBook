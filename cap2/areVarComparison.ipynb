{
 "cells": [
  {
   "cell_type": "markdown",
   "metadata": {},
   "source": [
    "\n",
    "# <span style=\"color:rgb(213,80,0)\">Variance comparison under the contamination model.</span>\n",
    "\n",
    "This file creates Figure 2.4.\n",
    "\n",
    "## General settings\n",
    "\n",
    "Computes the variance of the sample mean and of the sample median (multiplied by n) under the contamination model (not all measurements are equally precise).\n",
    ""
   ]
  },
  {
   "cell_type": "code",
   "execution_count": 1,
   "metadata": {},
   "source": [
    "tau=(1:0.001:10)';\n",
    "lwd=3;\n",
    "FontSize=14;"
   ],
   "outputs": []
  },
  {
   "cell_type": "markdown",
   "metadata": {},
   "source": [
    "\n",
    "## Create plots"
   ]
  },
  {
   "cell_type": "code",
   "execution_count": 2,
   "metadata": {},
   "source": [
    "subplot(2,2,1)\n",
    "eps=0.05;\n",
    "nvarmean=(1-eps)+eps*(tau.^2);\n",
    "nvarMe=pi./(2*((1-eps +eps./tau).^2));\n",
    "hold('on')\n",
    "plot(tau,nvarmean,'r-','LineWidth',lwd)\n",
    "plot(tau,nvarMe,'b-.','LineWidth',lwd)\n",
    "xlabel('\\tau','FontSize',FontSize)\n",
    "set(gca,'FontSize',FontSize)\n",
    "title('\\epsilon=0.05','FontSize',FontSize)\n",
    "xlim([tau(1) tau(end)])\n",
    "ylim([1 11])\n",
    "\n",
    "subplot(2,2,2)\n",
    "eps=0.10;\n",
    "nvarmean1=(1-eps)+eps*(tau.^2);\n",
    "nvarMe1=pi./(2*((1-eps +eps./tau).^2));\n",
    "hold('on')\n",
    "plot(tau,nvarmean1,'r-','LineWidth',lwd)\n",
    "plot(tau,nvarMe1,'b-.','LineWidth',lwd)\n",
    "xlabel('\\tau','FontSize',FontSize)\n",
    "set(gca,'FontSize',FontSize)\n",
    "title('\\epsilon=0.10','FontSize',FontSize)\n",
    "xlim([tau(1) tau(end)])\n",
    "ylim([1 11])\n",
    "legend({' $n \\times$ var( $\\overline y$ )' ' $n \\times$ var(Me)'},'Interpreter','latex')\n",
    "vv=[tau,nvarmean nvarMe];\n",
    "vv1=[tau,nvarmean1 nvarMe1];\n",
    "\n",
    "prin=0;\n",
    "if prin==1\n",
    "    % print to postscript\n",
    "    print -depsc AREcont.eps;\n",
    "end\n",
    "\n",
    "%InsideREADME"
   ],
   "outputs": []
}
 ],
 "metadata": {
  "kernelspec": {
   "display_name": "MATLAB (matlabkernel)",
   "language": "matlab",
   "name": "matlab"
  },
  "language_info": {
   "file_extension": ".m",
   "mimetype": "text/matlab",
   "name": "matlab",
   "nbconvert_exporter": "matlab",
   "pygments_lexer": "matlab",
   "version": "24.1.0.2453260"
  }
 },
 "nbformat": 4,
 "nbformat_minor": 4
}