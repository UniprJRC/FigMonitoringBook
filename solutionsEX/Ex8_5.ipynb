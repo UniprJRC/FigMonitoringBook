{
 "cells": [
  {
   "cell_type": "markdown",
   "metadata": {},
   "source": [
    "\n",
    "# <span style=\"color:rgb(213,80,0)\">Exercise 8.5</span>\n",
    "\n",
    "Analysis of body measurements to predict percentage of body fat in males. This file creates Figures A.53-A.56.\n",
    "\n",
    "## Data loading\n",
    "\n",
    "S estimators with 2 values of bdp\n",
    ""
   ]
  },
  {
   "cell_type": "code",
   "execution_count": 1,
   "metadata": {},
   "source": [
    "load(\"fatilr.txt\")\n",
    "size(fatilr)\n",
    "\n",
    "y = fatilr(:,10);\n",
    "X = fatilr(:,1:9);\n",
    "\n",
    "conflev=[0.95 0.99];\n",
    "\n",
    "prin=0;"
   ],
   "outputs": []
  },
  {
   "cell_type": "markdown",
   "metadata": {},
   "source": [
    "## Create Figure A.53"
   ]
  },
  {
   "cell_type": "code",
   "execution_count": 2,
   "metadata": {},
   "source": [
    "figure;\n",
    "h1=subplot(2,1,1);\n",
    "bdp=0.25;\n",
    "[out]=Sreg(y,X,'nsamp',3000,'bdp',bdp);\n",
    "resindexplot(out,'h',h1,'conflev',conflev);\n",
    "ylabel(['Breakdown point =' num2str(bdp)])\n",
    "\n",
    "h2=subplot(2,1,2);\n",
    "bdp=0.5;\n",
    "[out]=Sreg(y,X,'nsamp',3000,'bdp',bdp);\n",
    "resindexplot(out,'h',h2,'conflev',conflev,'numlab',{6});\n",
    "ylabel(['Breakdown point =' num2str(bdp)])\n",
    "cascade;\n",
    "if prin==1\n",
    "    % print to postscript\n",
    "    print -depsc fatilr_S.eps;\n",
    "end\n",
    "\n",
    "sgtitle('Figure A.53')\n",
    "set(gcf,\"Name\",'Figure A.53')"
   ],
   "outputs": []
  },
  {
   "cell_type": "markdown",
   "metadata": {},
   "source": [
    "## Create Figure A.54\n",
    "\n",
    "MM estimators with 2 values of efficiency MMreg using two different level of efficiency\n",
    ""
   ]
  },
  {
   "cell_type": "code",
   "execution_count": 3,
   "metadata": {},
   "source": [
    "conflev=[0.95 0.99];\n",
    "figure;\n",
    "h1=subplot(2,1,1);\n",
    "eff=0.80;\n",
    "[out]=MMreg(y,X,'Snsamp',3000,'eff',eff);\n",
    "resindexplot(out,'h',h1,'conflev',conflev,'numlab',{6});\n",
    "ylabel(['Eff.=' num2str(eff)])\n",
    "h2=subplot(2,1,2);\n",
    "eff=0.99;\n",
    "[out]=MMreg(y,X,'Snsamp',3000,'eff',eff);\n",
    "resindexplot(out,'h',h2,'conflev',conflev,'numlab',{4});\n",
    "ylabel(['Eff.=' num2str(eff)])\n",
    "if prin==1\n",
    "    % print to postscript\n",
    "    print -depsc fatilr_MM.eps;\n",
    "end\n",
    "\n",
    "sgtitle('Figure A.54')\n",
    "set(gcf,\"Name\",'Figure A.54')\n",
    "drawnow"
   ],
   "outputs": []
  },
  {
   "cell_type": "markdown",
   "metadata": {},
   "source": [
    "## Create Figures A.55 and A.56\n",
    "\n",
    "Forward search Signal is in step m=250\n",
    ""
   ]
  },
  {
   "cell_type": "code",
   "execution_count": 4,
   "metadata": {},
   "source": [
    "[out]=LXS(y,X,'nsamp',1000);\n",
    "fsout=FSR(y, X,'plots',0);\n",
    "disp(fsout)"
   ],
   "outputs": []
  },
  {
   "cell_type": "markdown",
   "metadata": {},
   "source": [
    "## Create Figure A.55\n",
    "\n",
    "Monitoring S estimtes\n",
    ""
   ]
  },
  {
   "cell_type": "code",
   "execution_count": 5,
   "metadata": {},
   "source": [
    "[out]=Sregeda(y,X,'msg',0);\n",
    "fground = struct;\n",
    "fground.Color={'r'};\n",
    "fground.flabstep = '';\n",
    "fground.fthresh=2.0;\n",
    "resfwdplot(out, 'fground', fground, 'datatooltip','', 'corres', 1,'tag','pl_Sres');\n",
    "ylabel('Scaled S residuals');\n",
    "xlabel('bdp');\n",
    "\n",
    "if prin==1\n",
    "    % print to postscript\n",
    "    print -depsc fatilr_S_mon.eps;\n",
    "end\n",
    "\n",
    "sgtitle('Figure A.55')\n",
    "set(gcf,\"Name\",'Figure A.55')\n",
    "drawnow"
   ],
   "outputs": []
  },
  {
   "cell_type": "markdown",
   "metadata": {},
   "source": [
    "## Create Fig. A.56\n",
    "\n",
    "Monitoring MM estimtes\n",
    ""
   ]
  },
  {
   "cell_type": "code",
   "execution_count": 6,
   "metadata": {},
   "source": [
    "[out]=MMregeda(y,X);\n",
    "fground = struct;\n",
    "fground.Color={'r'};\n",
    "fground.flabstep = '';\n",
    "fground.fthresh=2.0;\n",
    "resfwdplot(out, 'fground', fground, 'datatooltip','', 'corres', 1);\n",
    "ylabel('Scaled S residuals');\n",
    "xlabel('Efficiency');\n",
    "\n",
    "if prin==1\n",
    "    % print to postscript\n",
    "    print -depsc fatilr_MM_mon.eps;\n",
    "end\n",
    "\n",
    "sgtitle('Figure A.56')\n",
    "set(gcf,\"Name\",'Figure A.56')\n",
    "\n",
    "%InsideREADME"
   ],
   "outputs": []
}
 ],
 "metadata": {
  "kernelspec": {
   "display_name": "MATLAB (matlabkernel)",
   "language": "matlab",
   "name": "matlab"
  },
  "language_info": {
   "file_extension": ".m",
   "mimetype": "text/matlab",
   "name": "matlab",
   "nbconvert_exporter": "matlab",
   "pygments_lexer": "matlab",
   "version": "23.2.0.2428915"
  }
 },
 "nbformat": 4,
 "nbformat_minor": 4
}