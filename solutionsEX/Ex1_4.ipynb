{
 "cells": [
  {
   "cell_type": "markdown",
   "metadata": {},
   "source": [
    "\n",
    "# <span style=\"color:rgb(213,80,0)\">Exercise 1.4</span>\n",
    "\n",
    "Univariate analysis\n",
    "\n",
    "## Data loading"
   ]
  },
  {
   "cell_type": "code",
   "execution_count": 1,
   "metadata": {},
   "source": [
    "clear\n",
    "close all\n",
    "load Income2;\n",
    "y=Income2{:,\"Income\"};\n",
    "\n",
    "% y and X in table format\n",
    "yt=Income2(:,end);\n",
    "\n",
    "n=length(y);\n",
    "one=ones(n,1);"
   ],
   "outputs": []
  },
  {
   "cell_type": "markdown",
   "metadata": {},
   "source": [
    "## Analysis of the trimmed mean (Prepare input for Figure\n",
    "\n",
    "Exercise 1.4 - part (a)\n",
    ""
   ]
  },
  {
   "cell_type": "code",
   "execution_count": 2,
   "metadata": {},
   "source": [
    "alphaAll=(0:0.01:0.5)';\n",
    "lalphaAll=length(alphaAll);\n",
    "meanTru=zeros(lalphaAll,1);\n",
    "% meanTru1=meanTru;\n",
    "ysor=sort(y);\n",
    "for i=1:lalphaAll\n",
    "    m=floor((n-1)*alphaAll(i));\n",
    "    meanTru(i)=mean(ysor(m+1:n-m));\n",
    "    % meanTru1(i)=trimmean(y,100*alphaAll(i));\n",
    "\n",
    "end"
   ],
   "outputs": []
  },
  {
   "cell_type": "markdown",
   "metadata": {},
   "source": [
    "## Create figure A.1\n",
    "\n",
    "Exercise 1.4 - part (b)\n",
    ""
   ]
  },
  {
   "cell_type": "code",
   "execution_count": 3,
   "metadata": {},
   "source": [
    "figure\n",
    "FontSize=14;\n",
    "plot(alphaAll,meanTru)\n",
    "xlabel('\\alpha','FontSize',FontSize)\n",
    "xlim([0 0.5])\n",
    "meany=mean(y);\n",
    "mediany=median(y);\n",
    "yline(meany)\n",
    "yline(mediany)\n",
    "ylabel(' $\\overline y_\\alpha$ ','Interpreter','latex','FontSize',FontSize)\n",
    "text(0.45,meany-60,\" $\\hat \\mu = \\overline y_n$ \",'Interpreter','latex','FontSize',FontSize)\n",
    "text(0.15,mediany+60,\"Me\",'Interpreter','latex','FontSize',FontSize)\n",
    "\n",
    "set(gca,\"XDir\",\"reverse\")\n",
    "set(gcf,\"Name\",'Figure A.1')\n",
    "title('Figure A.1')\n",
    "prin=0;\n",
    "if prin==1\n",
    "    % print to postscript\n",
    "    print -depsc trimmeanIncome2.eps;\n",
    "end"
   ],
   "outputs": []
  },
  {
   "cell_type": "markdown",
   "metadata": {},
   "source": [
    "## Create figure A.2.\n",
    "\n",
    "Exercise 1.4 - part (c)\n",
    ""
   ]
  },
  {
   "cell_type": "code",
   "execution_count": 4,
   "metadata": {},
   "source": [
    "figure\n",
    "yl1=-0.8;\n",
    "yl2=0.1;\n",
    "yrs=y/max(y);\n",
    "subplot(2,3,1)\n",
    "ytra=normBoxCox(yrs,1,1,'Jacobian',true);\n",
    "boxplot(ytra,'Labels',{''})\n",
    "title(' $\\lambda=1$ ','Interpreter','latex','FontSize',FontSize)\n",
    "ylim([yl1 yl2])\n",
    "\n",
    "subplot(2,3,2)\n",
    "ytra=normBoxCox(yrs,1,0,'Jacobian',true);\n",
    "boxplot(ytra,'Labels',{''})\n",
    "title(' $\\lambda=0$ ','Interpreter','latex','FontSize',FontSize)\n",
    "ylim([yl1 yl2])\n",
    "\n",
    "subplot(2,3,3)\n",
    "ytra=normBoxCox(yrs,1,-0.5,'Jacobian',true);\n",
    "boxplot(ytra,'Labels',{''})\n",
    "title(' $\\lambda=-0.5$ ','Interpreter','latex','FontSize',FontSize)\n",
    "ylim([yl1 yl2])\n",
    "\n",
    "subplot(2,3,4)\n",
    "ytra=normBoxCox(yrs,1,-1,'Jacobian',true);\n",
    "boxplot(ytra,'Labels',{''})\n",
    "title(' $\\lambda=-1$ ','Interpreter','latex','FontSize',FontSize)\n",
    "ylim([yl1 yl2])\n",
    "\n",
    "subplot(2,3,5)\n",
    "ytra=normBoxCox(yrs,1,-1.5,'Jacobian',true);\n",
    "boxplot(ytra,'Labels',{''})\n",
    "title(' $\\lambda=-1.5$ ','Interpreter','latex','FontSize',FontSize)\n",
    "ylim([yl1 yl2])\n",
    "\n",
    "subplot(2,3,6)\n",
    "ytra=normBoxCox(yrs,1,-2,'Jacobian',true);\n",
    "boxplot(ytra,'Labels',{''})\n",
    "title(' $\\lambda=-2$ ','Interpreter','latex','FontSize',FontSize)\n",
    "ylim([yl1 yl2])\n",
    "sgtitle('Figure A.2')\n",
    "set(gcf,\"Name\",'Figure A.2')\n",
    "\n",
    "prin=0;\n",
    "if prin==1\n",
    "    % print to postscript\n",
    "    print -depsc boxlaIncome2.eps;\n",
    "end\n",
    "%  BEGIN OF MULTIVARIATE ANALYSIS"
   ],
   "outputs": []
  },
  {
   "cell_type": "markdown",
   "metadata": {},
   "source": [
    "## Figure 10.12 yXplot"
   ]
  },
  {
   "cell_type": "code",
   "execution_count": 5,
   "metadata": {},
   "source": [
    "yXplot(yt,Xt);\n",
    "sgtitle(\"Figure 10.12\")\n",
    "if prin==1\n",
    "    % print to postscript\n",
    "    print -depsc inc2f1.eps;\n",
    "end\n",
    "\n",
    "%InsideREADME"
   ],
   "outputs": []
}
 ],
 "metadata": {
  "kernelspec": {
   "display_name": "MATLAB (matlabkernel)",
   "language": "matlab",
   "name": "matlab"
  },
  "language_info": {
   "file_extension": ".m",
   "mimetype": "text/matlab",
   "name": "matlab",
   "nbconvert_exporter": "matlab",
   "pygments_lexer": "matlab",
   "version": "23.2.0.2428915"
  }
 },
 "nbformat": 4,
 "nbformat_minor": 4
}