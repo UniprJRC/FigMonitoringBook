{
 "cells": [
  {
   "cell_type": "markdown",
   "metadata": {},
   "source": [
    "\n",
    "# <span style=\"color:rgb(213,80,0)\">Internet Marketing Data</span>\n",
    "\n",
    "This file creates Figures 7.20\\-7.24\n",
    "\n",
    "## Beginning of code\n",
    "\n",
    "[https://www.kaggle.com/fayejavad/marketing\\-linear\\-multiple\\-regression](https://www.kaggle.com/fayejavad/marketing-linear-multiple-regression)\n",
    ""
   ]
  },
  {
   "cell_type": "code",
   "execution_count": 1,
   "metadata": {},
   "source": [
    "clear\n",
    "close all\n",
    "load('Marketing_Data')\n",
    "y=Marketing_Data{:,4};\n",
    "X=Marketing_Data{:,1:3};\n",
    "prin=0;"
   ],
   "outputs": []
  },
  {
   "cell_type": "markdown",
   "metadata": {},
   "source": [
    "\n",
    "## Preliminary analysis\n",
    "\n",
    "Fit regression model based on the original data\n",
    ""
   ]
  },
  {
   "cell_type": "code",
   "execution_count": 2,
   "metadata": {},
   "source": [
    "out=fitlm(X,y);\n",
    "% F stat is 504\n",
    "disp('F stat')\n",
    "disp(out.ModelFitVsNullModel.Fstat)\n",
    "disp('ANOVA table based on untransformed data')\n",
    "disp(out)"
   ],
   "outputs": []
  },
  {
   "cell_type": "markdown",
   "metadata": {},
   "source": [
    "\n",
    "## Create Figure 7.20\n",
    "\n",
    "all options set to false. Monotonicity of the expl. variables imposed.\n",
    ""
   ]
  },
  {
   "cell_type": "code",
   "execution_count": 3,
   "metadata": {},
   "source": [
    "out=avas(y,X,'rob',false,'tyinitial',false,'orderR2',false,...\n",
    "    'scail',false,'trapezoid',false','l',3*ones(size(X,2),1));\n",
    "aceplot(out,'oneplot',true)\n",
    "sgtitle('Figure 7.20')\n",
    "set(gcf,\"Name\",'Figure 7.20')\n",
    "\n",
    "if prin==1\n",
    "    % print to postscript\n",
    "    print -depsc figs\\MD1.eps;\n",
    "end"
   ],
   "outputs": []
  },
  {
   "cell_type": "markdown",
   "metadata": {},
   "source": [
    "\n",
    "## Regression model based on transformed data using all options set to false\n",
    "\n",
    "find F\\-value\n",
    ""
   ]
  },
  {
   "cell_type": "code",
   "execution_count": 4,
   "metadata": {},
   "source": [
    "outTRAnoOPT=fitlm(out.tX,out.ty);\n",
    "disp('ANOVA table based on AVAS transformed data')\n",
    "disp(outTRAnoOPT)\n",
    "\n",
    "% F stat is 472 (even smaller than that for linear regression)"
   ],
   "outputs": []
  },
  {
   "cell_type": "markdown",
   "metadata": {},
   "source": [
    "\n",
    "## Marketing data: all options set to true. Create Figure 7.21"
   ]
  },
  {
   "cell_type": "code",
   "execution_count": 5,
   "metadata": {},
   "source": [
    "%tyinitial=struct;\n",
    "% tyinitial.la=-1:0.5:1;\n",
    "outTRAallOPT=avas(y,X,'trapezoid',true,'rob',true,'tyinitial',true,'orderR2',true,'scail',true,'l',3*ones(size(X,2),1));\n",
    "aceplot(outTRAallOPT,'oneplot',true)\n",
    "sgtitle('Figure 7.21')\n",
    "set(gcf,\"Name\",'Figure 7.21')\n",
    "\n",
    "if prin==1\n",
    "    % print to postscript\n",
    "    print -depsc figs\\MD2.eps;\n",
    "end\n",
    "disp('Number of outliers found')\n",
    "disp(length(outTRAallOPT.outliers))\n",
    "disp('p-value DW test (all options set to true)')\n",
    "disp(outTRAallOPT.pvaldw)\n",
    "disp('p-value Normality test (all options set to true)')\n",
    "disp(outTRAallOPT.pvaljb)"
   ],
   "outputs": []
  },
  {
   "cell_type": "markdown",
   "metadata": {},
   "source": [
    "\n",
    "## Marketing data: regression model based on transformed data using all options set to true\n",
    "\n",
    "find F value\n",
    ""
   ]
  },
  {
   "cell_type": "code",
   "execution_count": 6,
   "metadata": {},
   "source": [
    "outALLopts=fitlm(outTRAallOPT.tX,outTRAallOPT.ty,'Exclude',outTRAallOPT.outliers);\n",
    "disp(outALLopts)\n",
    "% F stat excluding the outliers is 936"
   ],
   "outputs": []
  },
  {
   "cell_type": "markdown",
   "metadata": {},
   "source": [
    "\n",
    "## Prepare input for Figure 7.22\n",
    "\n",
    "model selection with quadratic model\n",
    ""
   ]
  },
  {
   "cell_type": "code",
   "execution_count": 7,
   "metadata": {},
   "source": [
    "Xq=[X(:,1:2) X(:,1).^2 X(:,2).^2 X(:,1).*X(:,2)];\n",
    "[VALtfin,CorrMat]=avasms(y,Xq,'l',3*ones(size(Xq,2),1),...\n",
    "    'critBestSol',0.03,'maxBestSol',4,'plots',0);"
   ],
   "outputs": []
  },
  {
   "cell_type": "markdown",
   "metadata": {},
   "source": [
    "\n",
    "## Create Figure 7.22"
   ]
  },
  {
   "cell_type": "code",
   "execution_count": 8,
   "metadata": {},
   "source": [
    "BigAx=avasmsplot(VALtfin);\n",
    "disp(VALtfin)\n",
    "title(BigAx,'Figure 7.22')\n",
    "set(gcf,\"Name\",'Figure 7.22')\n",
    "\n",
    "if prin==1\n",
    "    % print to postscript\n",
    "    print -depsc figs\\MD3.eps;\n",
    "end"
   ],
   "outputs": []
  },
  {
   "cell_type": "markdown",
   "metadata": {},
   "source": [
    "\n",
    "## Create Figure 7.23\n",
    "\n",
    "Show details of best solution,\n",
    ""
   ]
  },
  {
   "cell_type": "code",
   "execution_count": 9,
   "metadata": {},
   "source": [
    "j=1;\n",
    "outj=VALtfin{j,\"Out\"};\n",
    "solj=outj{:};\n",
    "VarNames={'X_1' 'X_2' 'X_1^2' 'X_2^2' 'X_1X_2' 'y'};\n",
    "aceplot(solj,'oneplot',true,'VarNames',VarNames)\n",
    "if prin==1\n",
    "    % print to postscript\n",
    "    print -depsc figs\\MD4.eps;\n",
    "end\n",
    "sgtitle('Figure 7.23')\n",
    "set(gcf,\"Name\",'Figure 7.23')\n",
    "\n",
    "% Regression model on the transformed scale\n",
    "outjr=fitlm(solj.tX,solj.ty,'Exclude',solj.outliers,'VarNames',VarNames);\n",
    "\n",
    "disp('ANOVA based on the robust quadratic model')\n",
    "disp(outjr)"
   ],
   "outputs": []
  },
  {
   "cell_type": "markdown",
   "metadata": {},
   "source": [
    "\n",
    "## Marketing data: quadratic model all options set to false"
   ]
  },
  {
   "cell_type": "code",
   "execution_count": 10,
   "metadata": {},
   "source": [
    "outTRAqNoOpt=avas(y,Xq,'l',3*ones(size(Xq,2),1));\n",
    "disp('ANOVA based non robust quadratic model')\n",
    "fitlm(outTRAqNoOpt.tX,outTRAqNoOpt.ty,'Exclude','')\n",
    "% The F-stat now has a value of 556, hardly better than regression on the\n",
    "% first-order model without transformation of the response or of the\n",
    "% explanatory variables"
   ],
   "outputs": []
  },
  {
   "cell_type": "markdown",
   "metadata": {},
   "source": [
    "\n",
    "## Create Figure 7.24\n",
    "\n",
    "Quadratic model standand non robust analysis\n",
    ""
   ]
  },
  {
   "cell_type": "code",
   "execution_count": 11,
   "metadata": {},
   "source": [
    "aceplot(outTRAqNoOpt,'oneplot','','tyFitted',false)\n",
    "if prin==1\n",
    "    % print to postscript\n",
    "    print -depsc figs\\MD5.eps;\n",
    "end\n",
    "\n",
    "sgtitle('Figure 7.24')\n",
    "set(gcf,\"Name\",'Figure 7.24')\n",
    "\n",
    "%InsideREADME"
   ],
   "outputs": []
}
 ],
 "metadata": {
  "kernelspec": {
   "display_name": "MATLAB (matlabkernel)",
   "language": "matlab",
   "name": "matlab"
  },
  "language_info": {
   "file_extension": ".m",
   "mimetype": "text/matlab",
   "name": "matlab",
   "nbconvert_exporter": "matlab",
   "pygments_lexer": "matlab",
   "version": "24.1.0.2453260"
  }
 },
 "nbformat": 4,
 "nbformat_minor": 4
}