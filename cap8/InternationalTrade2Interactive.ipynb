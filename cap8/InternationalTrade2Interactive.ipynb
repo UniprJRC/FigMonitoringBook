{
 "cells": [
  {
   "cell_type": "code",
   "execution_count": 1,
   "metadata": {},
   "source": [
    "%$ InternationalTrade2.m\n",
    "% This file creates Figure 8.17\n",
    "% The file which creates Figures 8.16 and 8.18 is called InternationalTrade2.m"
   ],
   "outputs": []
  },
  {
   "cell_type": "markdown",
   "metadata": {},
   "source": [
    "## Beginning of code"
   ]
  },
  {
   "cell_type": "code",
   "execution_count": 2,
   "metadata": {},
   "source": [
    "close all\n",
    "load inttrade2.mat\n",
    "% This dataset refers to 0307491800\n",
    "X=inttrade2{:,1};\n",
    "y=inttrade2{:,2};\n",
    "\n",
    "X=X./max(X);\n",
    "Z=log(X);\n",
    "n=length(y);\n",
    "\n",
    "prin=0;\n",
    "typeH='art';"
   ],
   "outputs": []
  },
  {
   "cell_type": "markdown",
   "metadata": {},
   "source": [
    "## Prepare input for Figure 8.17"
   ]
  },
  {
   "cell_type": "code",
   "execution_count": 3,
   "metadata": {},
   "source": [
    "[outLXS]=LXS(y,X,'nsamp',10000);\n",
    "outHEDA=FSRHeda(y,X,Z,outLXS.bs,'init',round(0.75*length(y)),'typeH',typeH);"
   ],
   "outputs": []
  },
  {
   "cell_type": "markdown",
   "metadata": {},
   "source": [
    "## Brushing from the monitoring of residuals"
   ]
  },
  {
   "cell_type": "code",
   "execution_count": 4,
   "metadata": {},
   "source": [
    "databrush=struct;\n",
    "databrush.labeladd='1';\n",
    "databrush.selectionmode='Rect'; % Rectangular selection\n",
    "resfwdplot(outHEDA,'databrush',databrush,'datatooltip','')\n",
    "\n",
    "fig=findobj(0,'tag','pl_resfwd');\n",
    "figure(fig)\n",
    "if prin==1\n",
    "    print -depsc P307resfwdbrush.eps;\n",
    "else\n",
    "    title('Figure similar to top panel of Figure 8.17','It depends on your brushing')\n",
    "end\n",
    "\n",
    "fig=findobj(0,'tag','pl_yX');\n",
    "figure(fig)\n",
    "if prin==1\n",
    "    print -depsc P307brushxy.eps;\n",
    "else\n",
    "    title('Figure similar to bottom panel of Figure 8.17','It depends on your brushing')\n",
    "\n",
    "end\n",
    "\n",
    "%InsideREADME"
   ],
   "outputs": []
}
 ],
 "metadata": {
  "kernelspec": {
   "display_name": "MATLAB (matlabkernel)",
   "language": "matlab",
   "name": "matlab"
  },
  "language_info": {
   "file_extension": ".m",
   "mimetype": "text/matlab",
   "name": "matlab",
   "nbconvert_exporter": "matlab",
   "pygments_lexer": "matlab",
   "version": "24.2.0.2637905"
  }
 },
 "nbformat": 4,
 "nbformat_minor": 4
}