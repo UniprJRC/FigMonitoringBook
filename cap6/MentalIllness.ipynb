{
 "cells": [
  {
   "cell_type": "markdown",
   "metadata": {},
   "source": [
    "\n",
    "# <span style=\"color:rgb(213,80,0)\">Mental Illness data.</span>\n",
    "\n",
    "This file creates Figure 6.7.\n",
    "\n",
    "## Beginning of code"
   ]
  },
  {
   "cell_type": "code",
   "execution_count": 1,
   "metadata": {},
   "source": [
    "clearvars;close all;\n",
    "load('illnessx07.txt');\n",
    "y=illnessx07(:,4);\n",
    "X=illnessx07(:,2:3);\n",
    "[n,p]=size(X);\n",
    "prin=0;"
   ],
   "outputs": []
  },
  {
   "cell_type": "markdown",
   "metadata": {},
   "source": [
    "\n",
    "## Create Figure\n",
    "\n",
    "Compare LM and GLM predictions\n",
    ""
   ]
  },
  {
   "cell_type": "code",
   "execution_count": 2,
   "metadata": {},
   "source": [
    "logy=log(y);\n",
    "MLfit_LM = fitlm(X,logy);\n",
    "ypredLM=predict(MLfit_LM,X,'Simultaneous',true);\n",
    "\n",
    "subplot(2,2,1)\n",
    "la=-1;\n",
    "MLfit_GLM =  fitglm(X,y,'linear','Distribution','gamma','link',la);\n",
    "ypredGLM=predict(MLfit_GLM,X,'Simultaneous',true);\n",
    "\n",
    "plot(exp(ypredLM),ypredGLM,'o')\n",
    "xlabel('LM predictions')\n",
    "ylabel(['GLM predictions \\lambda=' num2str(la)])\n",
    "\n",
    "subplot(2,2,2)\n",
    "la=0;\n",
    "MLfit_GLM =  fitglm(X,y,'linear','Distribution','gamma','link',la);\n",
    "ypredGLM=predict(MLfit_GLM,X,'Simultaneous',true);\n",
    "\n",
    "plot(exp(ypredLM),ypredGLM,'o')\n",
    "xlabel('LM predictions')\n",
    "ylabel(['GLM predictions \\lambda=' num2str(la)])\n",
    "refline\n",
    "\n",
    "sgtitle('Figure 6.7')\n",
    "set(gcf,\"Name\",'Figure 6.7')\n",
    "\n",
    "if prin==1\n",
    "    % print to postscript\n",
    "  print -depsc figs\\I3.eps;\n",
    "end\n",
    "\n",
    "%InsideREADME"
   ],
   "outputs": []
}
 ],
 "metadata": {
  "kernelspec": {
   "display_name": "MATLAB (matlabkernel)",
   "language": "matlab",
   "name": "matlab"
  },
  "language_info": {
   "file_extension": ".m",
   "mimetype": "text/matlab",
   "name": "matlab",
   "nbconvert_exporter": "matlab",
   "pygments_lexer": "matlab",
   "version": "24.1.0.2453260"
  }
 },
 "nbformat": 4,
 "nbformat_minor": 4
}