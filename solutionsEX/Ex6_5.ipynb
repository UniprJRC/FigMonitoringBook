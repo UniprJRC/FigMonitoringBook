{
 "cells": [
  {
   "cell_type": "markdown",
   "metadata": {},
   "source": [
    "\n",
    "# <span style=\"color:rgb(213,80,0)\">Exercise 6.5</span>\n",
    "\n",
    "Score test and fan plot 1. This file creates Figures A.21-A.23 and Tables A.8-A.10.\n",
    "\n",
    "## D1 Data loading"
   ]
  },
  {
   "cell_type": "code",
   "execution_count": 1,
   "metadata": {},
   "source": [
    "XX=load('D1.txt');\n",
    "X=XX(:,1:end-1);\n",
    "y=XX(:,end);\n",
    "n=length(y);\n",
    "prin=0;"
   ],
   "outputs": []
  },
  {
   "cell_type": "markdown",
   "metadata": {},
   "source": [
    "## Create Figure A.21\n",
    "\n",
    "D1 yXplot\n",
    ""
   ]
  },
  {
   "cell_type": "code",
   "execution_count": 2,
   "metadata": {},
   "source": [
    "yXplot(y,X,'tag','pl_yini');\n",
    "sgtitle('Figure A.21')\n",
    "set(gcf,\"Name\",'Figure A.21')\n",
    "\n",
    "if prin==1\n",
    "    print -depsc figs\\D1yX.eps\n",
    "end"
   ],
   "outputs": []
  },
  {
   "cell_type": "markdown",
   "metadata": {},
   "source": [
    "## Create Table A.8"
   ]
  },
  {
   "cell_type": "code",
   "execution_count": 3,
   "metadata": {},
   "source": [
    "disp('Table A.8: ANOVA in the original scale for y')\n",
    "outl=fitlm(X,y);\n",
    "disp(outl)"
   ],
   "outputs": []
  },
  {
   "cell_type": "markdown",
   "metadata": {},
   "source": [
    "## Create Table A.9\n",
    "\n",
    "Score test\n",
    ""
   ]
  },
  {
   "cell_type": "code",
   "execution_count": 4,
   "metadata": {},
   "source": [
    "la=-1:0.25:1;\n",
    "outS=ScoreYJ(y,X,'la',la);\n",
    "varn=[\"lambda\" \"Score test\"];\n",
    "ScoreT=array2table([la' outS.Score],'VariableNames',varn);\n",
    "disp(\"Table A.9\")\n",
    "disp(ScoreT)"
   ],
   "outputs": []
  },
  {
   "cell_type": "markdown",
   "metadata": {},
   "source": [
    "## Create Figure A.22 (left panel)\n",
    "\n",
    "D1 fanplot just one lambda\n",
    ""
   ]
  },
  {
   "cell_type": "code",
   "execution_count": 5,
   "metadata": {},
   "source": [
    "la=[0 0.25 0.5 1];\n",
    "ylimy='';\n",
    "out=FSRfan(y,X,'la',la,'family','YJ','plots',1,'init',round(n/2),'ylimy',[-ylimy ylimy],'msg',0);\n",
    "title('Figure A.22 (left panel)')\n",
    "set(gcf,\"Name\",'Figure A.22 (left panel)')\n",
    "\n",
    "if prin==1\n",
    "    print -depsc figs\\D1fan.eps\n",
    "end"
   ],
   "outputs": []
  },
  {
   "cell_type": "markdown",
   "metadata": {},
   "source": [
    "## Create Figure A.22 (right panel)\n",
    "\n",
    "D1 fanplotpn\n",
    ""
   ]
  },
  {
   "cell_type": "code",
   "execution_count": 6,
   "metadata": {},
   "source": [
    "la=[0 0.25 0.5 1];\n",
    "ylimy='';\n",
    "out=FSRfan(y,X,'la',la,'family','YJpn','plots',1,'init',round(n/2), ...\n",
    "    'ylimy',[-ylimy ylimy],'msg',0,'tag','pl_scopn');\n",
    "title('Figure A.22 (right panel)')\n",
    "set(gcf,\"Name\",'Figure A.22 (right panel)')\n",
    "\n",
    "if prin==1\n",
    "    print -depsc figs\\D1fanpn.eps\n",
    "end"
   ],
   "outputs": []
  },
  {
   "cell_type": "markdown",
   "metadata": {},
   "source": [
    "## Create Figure A.23\n",
    "\n",
    "yXplot after transforming y\n",
    ""
   ]
  },
  {
   "cell_type": "code",
   "execution_count": 7,
   "metadata": {},
   "source": [
    "labest=0.25;\n",
    "ytra=normYJ(y,[],labest,'inverse',false);\n",
    "yXplot(ytra,X)\n",
    "sgtitle('Figure A.23')\n",
    "set(gcf,\"Name\",'Figure A.23')\n",
    "\n",
    "if prin==1\n",
    "    print -depsc figs\\D1ytraX.eps\n",
    "end"
   ],
   "outputs": []
  },
  {
   "cell_type": "markdown",
   "metadata": {},
   "source": [
    "## Create table A.10\n",
    "\n",
    "Anova table after transforming y\n",
    ""
   ]
  },
  {
   "cell_type": "code",
   "execution_count": 8,
   "metadata": {},
   "source": [
    "disp('Table A.10: ANOVA in the transformed scale for y')\n",
    "outTRA=fitlm(X,ytra);\n",
    "disp(outTRA)"
   ],
   "outputs": []
  },
  {
   "cell_type": "markdown",
   "metadata": {},
   "source": [
    "## D1 automatic procedure"
   ]
  },
  {
   "cell_type": "code",
   "execution_count": 9,
   "metadata": {},
   "source": [
    "[outFSRfan]=FSRfan(y,X,'plots',0,'init',round(n*0.3),'nsamp',10000,'la',[0 0.25 0.5 0.75 1 1.25],'msg',0,'family','YJ');\n",
    "[outini]=fanBIC(outFSRfan,'plots',0);\n",
    "% labest is the best value imposing the constraint that positive and\n",
    "% negative observations must have the same tramsformation parameter.\n",
    "labest=outini.labest;\n",
    "[outFSRfanpn]=FSRfan(y,X,'msg',0,'family','YJpn','la',labest,'plots',0);\n",
    "out1=fanBICpn(outFSRfanpn,'plots',0);\n",
    "disp('Best value of lambda from the automatic procedure')\n",
    "disp([\"laP\" \"laN\"])\n",
    "disp(out1.labestBIC);\n",
    "\n",
    "%InsideREADME"
   ],
   "outputs": []
}
 ],
 "metadata": {
  "kernelspec": {
   "display_name": "MATLAB (matlabkernel)",
   "language": "matlab",
   "name": "matlab"
  },
  "language_info": {
   "file_extension": ".m",
   "mimetype": "text/matlab",
   "name": "matlab",
   "nbconvert_exporter": "matlab",
   "pygments_lexer": "matlab",
   "version": "23.2.0.2428915"
  }
 },
 "nbformat": 4,
 "nbformat_minor": 4
}