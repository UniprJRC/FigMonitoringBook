{
 "cells": [
  {
   "cell_type": "markdown",
   "metadata": {},
   "source": [
    "\n",
    "# <span style=\"color:rgb(213,80,0)\">Balance sheets data.</span>\n",
    "\n",
    "This file creates Figure 6.12\\-6.13 and Table 6.2.\n",
    "\n",
    "## Beginning of code"
   ]
  },
  {
   "cell_type": "code",
   "execution_count": 1,
   "metadata": {},
   "source": [
    "XX=load('BalanceSheets.txt');\n",
    "% Define X and y\n",
    "y=XX(:,6);\n",
    "X=XX(:,1:5);\n",
    "prin=0;\n",
    "p=size(X,2)+1;\n",
    "n=length(y);"
   ],
   "outputs": []
  },
  {
   "cell_type": "markdown",
   "metadata": {},
   "source": [
    "\n",
    "## Create Figure 6.12 (top panel)"
   ]
  },
  {
   "cell_type": "code",
   "execution_count": 2,
   "metadata": {},
   "source": [
    "ylimy=20;\n",
    "nini=1000;\n",
    "la=[0.5 0.75 1 1.25];\n",
    "out=FSRfan(y,X,'la',la,'family','YJ','plots',0,'init',round(nini/2), ...\n",
    "    'ylimy',[-ylimy ylimy]);\n",
    "fanplotFS(out,'flabstep',1300,'laby','Fanplot','tag','pl_fanini');\n",
    "\n",
    "title('Figure 6.12 (top panel)')\n",
    "set(gcf,\"Name\",'Figure 6.12 (top panel)')"
   ],
   "outputs": []
  },
  {
   "cell_type": "markdown",
   "metadata": {},
   "source": [
    "\n",
    "## Create Figure 6.12 (bottom panel)"
   ]
  },
  {
   "cell_type": "code",
   "execution_count": 3,
   "metadata": {},
   "source": [
    "ylimy1=12;\n",
    "outpn=FSRfan(y,X,'la',1,'family','YJpn','plots',1, 'init',round(nini/2),...\n",
    "    'ylimy',[-ylimy1 ylimy1],'laby','Extended fanplot');\n",
    "\n",
    "title('Figure 6.12 (bottom panel)')\n",
    "set(gcf,\"Name\",'Figure 6.12 (bottom panel)')\n",
    "\n",
    "if prin==1\n",
    "    % print to postscript\n",
    "    print -depsc figsBS\\fanplotoriBS.eps;\n",
    "end"
   ],
   "outputs": []
  },
  {
   "cell_type": "markdown",
   "metadata": {},
   "source": [
    "\n",
    "## Create Figure 6.13"
   ]
  },
  {
   "cell_type": "code",
   "execution_count": 4,
   "metadata": {},
   "source": [
    "ytra=normYJpn(y, [], [0.5, 1.5], 'inverse',false, 'Jacobian', false);\n",
    "outpn=FSRfan(ytra,X,'intercept',1,'plots',1,'family','YJpn','la',1, ...\n",
    "    'laby','Extended fanplot','tag','plytra');\n",
    "xlabel('Subset size m')\n",
    "\n",
    "title('Figure 6.13')\n",
    "set(gcf,\"Name\",'Figure 6.13')\n",
    "\n",
    "if prin==1\n",
    "    % print to postscript\n",
    "    print -depsc figsBS\\fanplottraBS.eps;\n",
    "end"
   ],
   "outputs": []
  },
  {
   "cell_type": "markdown",
   "metadata": {},
   "source": [
    "\n",
    "## Create Table 6.2"
   ]
  },
  {
   "cell_type": "code",
   "execution_count": 5,
   "metadata": {},
   "source": [
    "mdl=fitlm(X,y);\n",
    "StoreFandR2=[mdl.ModelFitVsNullModel.Fstat;  mdl.Rsquared.Adjusted];\n",
    "\n",
    "outtra=FSR(ytra,X,'plots',0);\n",
    "mdltra=fitlm(X,ytra,'Exclude',outtra.outliers);\n",
    "StoreFandR2tra=[mdltra.ModelFitVsNullModel.Fstat;  mdltra.Rsquared.Adjusted];\n",
    "\n",
    "laP=[1 0.5];\n",
    "laN=[1 1.5];\n",
    "nobs=[n n-length(outtra.outliers)];\n",
    "mis=NaN(1,2);\n",
    "tsta=[mdl.Coefficients{:,\"tStat\"} mdltra.Coefficients{:,\"tStat\"}];\n",
    "FandR2=[StoreFandR2 StoreFandR2tra];\n",
    "df=nobs-p;\n",
    "\n",
    "namrow=[\"laP\"; \"laN\"; \"Number of observations\"; \"Error d.f. nu\";\n",
    "    \"t_nu values\"; \"Intercept\"; \"x\"+(1:5)'; \"F5,nu for regression\"; \"R2adj\"];\n",
    "namcol=[\"All\" \"42 deleted\"];\n",
    "\n",
    "data=[laP; laN; nobs;df;mis; tsta; FandR2 ];\n",
    "dataT=array2table(data,\"RowNames\",namrow,\"VariableNames\",namcol);\n",
    "disp('Table 6.2')\n",
    "disp(dataT)\n",
    "\n",
    "%InsideREADME"
   ],
   "outputs": []
}
 ],
 "metadata": {
  "kernelspec": {
   "display_name": "MATLAB (matlabkernel)",
   "language": "matlab",
   "name": "matlab"
  },
  "language_info": {
   "file_extension": ".m",
   "mimetype": "text/matlab",
   "name": "matlab",
   "nbconvert_exporter": "matlab",
   "pygments_lexer": "matlab",
   "version": "24.1.0.2453260"
  }
 },
 "nbformat": 4,
 "nbformat_minor": 4
}