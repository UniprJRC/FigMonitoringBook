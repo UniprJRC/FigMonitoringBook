{
 "cells": [
  {
   "cell_type": "markdown",
   "metadata": {},
   "source": [
    "\n",
    "# <span style=\"color:rgb(213,80,0)\">First truncated moment in folded normal distribution.</span>\n",
    "\n",
    "This file solves Exercise 3.10.\n",
    "\n",
    "## Beginning of code"
   ]
  },
  {
   "cell_type": "code",
   "execution_count": 1,
   "metadata": {},
   "source": [
    "% Check the simplification in equation A.30\n",
    "c=2.5; b=1.2;\n",
    "m1=sqrt(2/pi)*(chi2cdf(c^2,2)-chi2cdf(b^2,2));\n",
    "\n",
    "m1chk=2*(normpdf(b)-normpdf(c));\n",
    "\n",
    "assert(abs(m1-m1chk)<eps,\"Simplification not correct\");\n",
    "\n",
    "%InsideREADME"
   ],
   "outputs": []
}
 ],
 "metadata": {
  "kernelspec": {
   "display_name": "MATLAB (matlabkernel)",
   "language": "matlab",
   "name": "matlab"
  },
  "language_info": {
   "file_extension": ".m",
   "mimetype": "text/matlab",
   "name": "matlab",
   "nbconvert_exporter": "matlab",
   "pygments_lexer": "matlab",
   "version": "24.1.0.2628055"
  }
 },
 "nbformat": 4,
 "nbformat_minor": 4
}