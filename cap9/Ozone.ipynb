{
 "cells": [
  {
   "cell_type": "markdown",
   "metadata": {},
   "source": [
    "\n",
    "# <span style=\"color:rgb(213,80,0)\">Ozone data (reduced and full).</span>\n",
    "\n",
    "This file creates Figures 9.1 and 9.2\n",
    "\n",
    "## cdsplot with all default options.\n",
    "\n",
    "Load Ozone data (reduced data)\n",
    ""
   ]
  },
  {
   "cell_type": "code",
   "execution_count": 1,
   "metadata": {},
   "source": [
    "X=load('ozone.txt');\n",
    "% Transform the response using logs\n",
    "X(:,end)=log(X(:,end));\n",
    "% Add a time trend\n",
    "X=[(-40:39)' X];\n",
    "% Define y\n",
    "y=X(:,end);\n",
    "% Define X\n",
    "X=X(:,1:end-1);\n",
    "labels={'Time','1','2','3','4','5','6','7','8'};\n",
    "prin=0;\n",
    "\n",
    "% Robust model selection using Cp\n",
    "[Cpms]=FSRms(y,X,'labels',labels,'smallpint',5:9);\n",
    "% Candlestick plot\n",
    "cdsplot(Cpms);\n",
    "ylim([-1 45])\n",
    "if prin==1\n",
    "    % print to postscript\n",
    "    print -depsc ozonered.eps;\n",
    "end\n",
    "\n",
    "set(gcf,'Name', 'Figure 9.1');\n",
    "title('Figure 9.1')"
   ],
   "outputs": []
  },
  {
   "cell_type": "markdown",
   "metadata": {},
   "source": [
    "\n",
    "## Full ozone\n",
    "\n",
    "cdsplot with optional arguments. Load Ozone data (full data)\n",
    ""
   ]
  },
  {
   "cell_type": "code",
   "execution_count": 2,
   "metadata": {},
   "source": [
    "X=load('ozone_330_obs.txt');\n",
    "y=log(X(:,9));\n",
    "Time1=[(1:165)';(165:-1:1)'];\n",
    "X=[Time1 X(:,1:8)];\n",
    "labels={'Time','1','2','3','4','5','6','7','8'};\n",
    "outms=FSRms(y,X,'labels',labels,'smallpint',5:9);\n",
    "figure\n",
    "cdsplot(outms)\n",
    "\n",
    "if prin==1\n",
    "    % print to postscript\n",
    "    print -depsc ozonefull.eps;\n",
    "end\n",
    "\n",
    "set(gcf,'Name', 'Figure 9.2');\n",
    "title('Figure 9.2')\n",
    "\n",
    "% cdsplot(outms,'laboutl',1);\n",
    "% cdsplot(outms,'cpbrush',1,'laboutl',1);\n",
    "\n",
    "%InsideREADME"
   ],
   "outputs": []
}
 ],
 "metadata": {
  "kernelspec": {
   "display_name": "MATLAB (matlabkernel)",
   "language": "matlab",
   "name": "matlab"
  },
  "language_info": {
   "file_extension": ".m",
   "mimetype": "text/matlab",
   "name": "matlab",
   "nbconvert_exporter": "matlab",
   "pygments_lexer": "matlab",
   "version": "24.1.0.2453260"
  }
 },
 "nbformat": 4,
 "nbformat_minor": 4
}