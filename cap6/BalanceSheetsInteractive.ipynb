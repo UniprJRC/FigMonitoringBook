{
 "cells": [
  {
   "cell_type": "markdown",
   "metadata": {},
   "source": [
    "\n",
    "# <span style=\"color:rgb(213,80,0)\">Balance sheets data</span>"
   ]
  },
  {
   "cell_type": "code",
   "execution_count": 1,
   "metadata": {},
   "source": [
    "% This file creates Figure 6.14\n",
    "XX=load('BalanceSheets.txt');\n",
    "% Define X and y\n",
    "y=XX(:,6);\n",
    "X=XX(:,1:5);\n",
    "n=length(y);\n",
    "ytra=normYJpn(y, [], [0.5, 1.5], 'inverse',false, 'Jacobian', false);\n",
    "close all\n",
    "prin=0;"
   ],
   "outputs": []
  },
  {
   "cell_type": "markdown",
   "metadata": {},
   "source": [
    "## Figures similar to 6.14"
   ]
  },
  {
   "cell_type": "code",
   "execution_count": 2,
   "metadata": {},
   "source": [
    "[out]=LXS(ytra,X);\n",
    "[out]=FSReda(ytra,X,out.bs);\n",
    "% Plot minimum deletion residual\n",
    "mdrplot(out,'xlimx',[1000 n+1],'ylimy',[1.7 5]);\n",
    "% Now, some interactive brushing starting from the monitoring residuals\n",
    "% plot. Once a set of trajectories is highlighted in the monitoring residual plot,\n",
    "% the corresponding units are highlighted in the other plots\n",
    "databrush=struct;\n",
    "% databrush.bivarfit='i1';\n",
    "databrush.multivarfit = '2';\n",
    "databrush.selectionmode='Rect'; % Rectangular selection\n",
    "% databrush.persist='off'; % Enable repeated mouse selections\n",
    "databrush.Label='on'; % Write labels of trajectories while selecting\n",
    "databrush.RemoveLabels='on'; % Do not remove labels after selection\n",
    "databrush.RemoveTool='off'; %remove yellow\n",
    "\n",
    "cascade;\n",
    "fground=struct;\n",
    "fground.fthresh=100;\n",
    "standard=struct;\n",
    "standard.xlim=[800 n+1];\n",
    "resfwdplot(out,'databrush',databrush,'fground',fground,'standard',standard,'datatooltip','');\n",
    "\n",
    "%InsideREADME"
   ],
   "outputs": []
}
 ],
 "metadata": {
  "kernelspec": {
   "display_name": "MATLAB (matlabkernel)",
   "language": "matlab",
   "name": "matlab"
  },
  "language_info": {
   "file_extension": ".m",
   "mimetype": "text/matlab",
   "name": "matlab",
   "nbconvert_exporter": "matlab",
   "pygments_lexer": "matlab",
   "version": "24.2.0.2637905"
  }
 },
 "nbformat": 4,
 "nbformat_minor": 4
}