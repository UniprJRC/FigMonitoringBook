{
 "cells": [
  {
   "cell_type": "markdown",
   "metadata": {},
   "source": [
    "\n",
    "# <span style=\"color:rgb(213,80,0)\">Sensistivity curve for the Income data.</span>\n",
    "\n",
    "This file creates Figure 2.1.\n",
    "\n",
    "## Create input for Figure 2.1\n",
    "\n",
    "Load the data\n",
    ""
   ]
  },
  {
   "cell_type": "code",
   "execution_count": 1,
   "metadata": {},
   "source": [
    "load Income1;\n",
    "% Just use the first 11 observations\n",
    "y=Income1{1:11,\"HTOTVAL\"};\n",
    "\n",
    "% SC for mean, median and trimmed mean\n",
    "% Just use the first 11 observations\n",
    "logy11=log(y(1:11));\n",
    "alpha=0.10;\n",
    "% useMATLABtrimmean = Boolean which specifies whether to use MATLAB\n",
    "% function trimmean or not\n",
    "useMATLABtrimmean=false;\n",
    "\n",
    "% Compute median, mean and trimmed mean for all the observations\n",
    "medy=median(logy11);\n",
    "meany=mean(logy11);\n",
    "if useMATLABtrimmean==true\n",
    "    trimean=trimmean(logy11,100*(alpha*2),'floor');\n",
    "else\n",
    "    trimean=trimmeanFS(logy11,alpha);\n",
    "end\n",
    "\n",
    "% Value which has to be added to compute the sensitivity curve\n",
    "x=(9:0.01:14)';\n",
    "\n",
    "% Txnmean, Txnmed and Txntrimmean will contain the value of the sensitivity\n",
    "% curve based on y and x(i) i=1, 2, ..., length(x)\n",
    "Txnmean=zeros(length(x),1);\n",
    "Txnmed=Txnmean;\n",
    "Txntrimmean=Txnmean;\n",
    "for i=1:length(x)\n",
    "    Txnmean(i)=mean([logy11;x(i)]);\n",
    "    Txnmed(i)=median([logy11;x(i)]);\n",
    "    if useMATLABtrimmean==true\n",
    "        Txntrimmean(i)=trimmean([logy11;x(i)],20,'floor');\n",
    "    else\n",
    "        Txntrimmean(i)=trimmeanFS([logy11;x(i)],0.10);\n",
    "    end\n",
    "end\n",
    "\n",
    "n11=length(logy11);\n",
    "Scurvmean=(n11+1)*(Txnmean-meany);\n",
    "Scurvmedian=(n11+1)*(Txnmed-medy);\n",
    "Scurvtrimmean=(n11+1)*(Txntrimmean-trimean);"
   ],
   "outputs": []
  },
  {
   "cell_type": "markdown",
   "metadata": {},
   "source": [
    "\n",
    "## Create Figure 2.1"
   ]
  },
  {
   "cell_type": "code",
   "execution_count": 2,
   "metadata": {},
   "source": [
    "figure\n",
    "FontSize=14;\n",
    "LineWidth=2;\n",
    "hold('on')\n",
    "plot(x,Scurvmean,'Color','r','LineStyle','-','LineWidth',LineWidth)\n",
    "plot(x,Scurvmedian,'Color','b','LineStyle','-.','LineWidth',LineWidth)\n",
    "plot(x,Scurvtrimmean,'Color','k','LineStyle','--','LineWidth',LineWidth)\n",
    "xlabel(' $y$ ','Interpreter','latex','FontSize',FontSize)\n",
    "ylabel(' $12 \\times \\left\\{ T(y_1,\\ldots, y_{11}, y) - T(y_1, \\ldots, y_{11}) \\right\\}$ ',...\n",
    "    'Interpreter','latex','FontSize',FontSize)\n",
    "% title('Sensitivity curve')\n",
    "ax=axis;\n",
    "% add an horizontal line passing through 0\n",
    "yline(0,'LineStyle',':','LineWidth',1)\n",
    "% add legend\n",
    "legend({' $\\overline y$ ' ' $Me$ ' ' $\\overline y_{0.1}$ '},'FontSize',20,'Location','southeast','Interpreter','latex')\n",
    "title('Figure 2.1')\n",
    "set(gcf,\"Name\",'Figure 2.1')\n",
    "prin=0;\n",
    "if prin==1\n",
    "    % print to postscript\n",
    "    print -depsc SC.eps;\n",
    "end\n",
    "\n",
    "%InsideREADME"
   ],
   "outputs": []
}
 ],
 "metadata": {
  "kernelspec": {
   "display_name": "MATLAB (matlabkernel)",
   "language": "matlab",
   "name": "matlab"
  },
  "language_info": {
   "file_extension": ".m",
   "mimetype": "text/matlab",
   "name": "matlab",
   "nbconvert_exporter": "matlab",
   "pygments_lexer": "matlab",
   "version": "24.1.0.2453260"
  }
 },
 "nbformat": 4,
 "nbformat_minor": 4
}