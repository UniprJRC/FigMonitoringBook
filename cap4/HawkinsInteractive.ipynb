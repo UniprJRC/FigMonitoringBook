{
 "cells": [
  {
   "cell_type": "markdown",
   "metadata": {},
   "source": [
    "\n",
    "# <span style=\"color:rgb(213,80,0)\">Hawkins data (interactive part).</span>\n",
    "\n",
    "This file creates Figures 4.24-4.26.\n",
    "\n",
    "\n",
    "Note that this file needs interactivity.\n",
    "\n",
    "## Data loading"
   ]
  },
  {
   "cell_type": "code",
   "execution_count": 1,
   "metadata": {},
   "source": [
    "load('hawkins.txt');\n",
    "y=hawkins(:,9);\n",
    "X=hawkins(:,1:8);\n",
    "\n",
    "prin=0;"
   ],
   "outputs": []
  },
  {
   "cell_type": "markdown",
   "metadata": {},
   "source": [
    "## HD: resfwdplot persistent brushing with FS\n",
    "\n",
    "Interactive_example\n",
    ""
   ]
  },
  {
   "cell_type": "code",
   "execution_count": 2,
   "metadata": {},
   "source": [
    "[outLXS]=LXS(y,X,'nsamp',10000);\n",
    "[out]=FSReda(y,X,outLXS.bs);\n",
    "databrush=struct;\n",
    "databrush.bivarfit='';\n",
    "databrush.selectionmode='Brush'; % Brush selection\n",
    "databrush.persist='on'; % Enable repeated mouse selections\n",
    "databrush.Label='off'; % Write labels of trajectories while selecting\n",
    "databrush.RemoveLabels='off'; % Do not remove labels after selection\n",
    "% Note that if you wish to have the labels for the brushed units in the\n",
    "% yXplot it is necessary to add the instruction in the line below\n",
    "% databrush.labeladd='1'\n",
    "mdrplot(out,'ylimy',[1 8])\n",
    "resfwdplot(out,'databrush',databrush,'datatooltip','');\n",
    "fig=findobj(0,'tag','pl_mdr');\n",
    "figure(fig)\n",
    "title('Figure similar to bottom panel of 4.24 or 4.25 or 4.26','It depends on your brushing')\n",
    "fig=findobj(0,'tag','pl_resfwd');\n",
    "figure(fig)\n",
    "title('Figure similar to top panel of 4.24 or 4.25 or 4.26', 'It depends on your brushing')\n",
    "\n",
    "if prin==1\n",
    "    % print to postscript\n",
    "    print -depsc HD2a.eps;\n",
    "    print -depsc HD2b.eps;\n",
    "\n",
    "    print -depsc HD3a.eps;\n",
    "    print -depsc HD3b.eps;\n",
    "\n",
    "    print -depsc HD4a.eps;\n",
    "    print -depsc HD4b.eps;\n",
    "end\n",
    "\n",
    "%InsideREADME"
   ],
   "outputs": []
}
 ],
 "metadata": {
  "kernelspec": {
   "display_name": "MATLAB (matlabkernel)",
   "language": "matlab",
   "name": "matlab"
  },
  "language_info": {
   "file_extension": ".m",
   "mimetype": "text/matlab",
   "name": "matlab",
   "nbconvert_exporter": "matlab",
   "pygments_lexer": "matlab",
   "version": "23.2.0.2428915"
  }
 },
 "nbformat": 4,
 "nbformat_minor": 4
}