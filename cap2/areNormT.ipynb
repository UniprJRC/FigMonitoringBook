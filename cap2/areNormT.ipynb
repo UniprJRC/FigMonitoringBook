{
 "cells": [
  {
   "cell_type": "markdown",
   "metadata": {},
   "source": [
    "\n",
    "# <span style=\"color:rgb(213,80,0)\">Compute empirical and theoretical ARE(Me, Mean) under the normal distribution and the Student t.</span>\n",
    "\n",
    "This file creates Figure 2.3.\n",
    "\n",
    "## Theoretical ARE(Me, Mean) when the data are from the Normal distribution\n",
    "\n",
    "Var(sample mean)/Var(sample median) Initial part of Section 2.1.2. For the final part of Section 2.1.2 see file areVarComparison.m.\n",
    ""
   ]
  },
  {
   "cell_type": "code",
   "execution_count": 1,
   "metadata": {},
   "source": [
    "close all\n",
    "varmedian=1/(2*normpdf(0))^2;\n",
    "varmean=1;\n",
    "VarRatio=varmean/varmedian;\n",
    "disp(['Theoretical ARE(Me,mean) under the normal distribution='  num2str(VarRatio)] )"
   ],
   "outputs": []
  },
  {
   "cell_type": "markdown",
   "metadata": {},
   "source": [
    "\n",
    "## Empirical ARE(Me, Mean) when the data are from the Normal distribution\n",
    "\n",
    "This section is not mentioned in the book\n",
    ""
   ]
  },
  {
   "cell_type": "code",
   "execution_count": 2,
   "metadata": {},
   "source": [
    "n=10000000;\n",
    "nsimul=100; % Increare nsimul if you like greater precision\n",
    "meandistr=zeros(nsimul,1);\n",
    "mediandistr=zeros(nsimul,1);\n",
    "\n",
    "parfor j=1:nsimul\n",
    "    y=randn(n,1);\n",
    "    meandistr(j)=mean(y);\n",
    "    mediandistr(j)=median(y);\n",
    "end\n",
    "\n",
    "disp('Empirical ARE(Me, Mean) under the normal distribution=')\n",
    "disp([num2str(nsimul) ' simulations using n=' num2str(n)])\n",
    "disp(var(meandistr)/var(mediandistr))"
   ],
   "outputs": []
  },
  {
   "cell_type": "markdown",
   "metadata": {},
   "source": [
    "\n",
    "## Empirical ARE(Me,mean) under the Student t\\_5\n",
    "\n",
    "This section is not mentioned in the book\n",
    ""
   ]
  },
  {
   "cell_type": "code",
   "execution_count": 3,
   "metadata": {},
   "source": [
    "n=100;\n",
    "nsimul=1000;\n",
    "meandistr=zeros(nsimul,1);\n",
    "mediandistr=zeros(nsimul,1);\n",
    "% nu = degrees of freedom of Student T\n",
    "nu = 5;\n",
    "\n",
    "for j=1:nsimul\n",
    "    y=trnd(nu, n,1);\n",
    "    meandistr(j)=mean(y);\n",
    "    mediandistr(j)=median(y);\n",
    "end\n",
    "\n",
    "disp(['Empirical ARE(Me, Mean) under t' num2str(nu)])\n",
    "disp([num2str(nsimul) ' simulations using n=' num2str(n)])\n",
    "disp(var(meandistr)/var(mediandistr))"
   ],
   "outputs": []
  },
  {
   "cell_type": "markdown",
   "metadata": {},
   "source": [
    "\n",
    "## Compute Empirical ARE as function of degrees of freedom"
   ]
  },
  {
   "cell_type": "code",
   "execution_count": 4,
   "metadata": {},
   "source": [
    "n=100;\n",
    "nsimul=50000;\n",
    "nuall=2.1:0.1:10;\n",
    "lnu=length(nuall);\n",
    "VarRatioE=zeros(1,lnu);\n",
    "VarRatioT=zeros(1,lnu);\n",
    "\n",
    "meandistr=zeros(nsimul,1);\n",
    "mediandistr=zeros(nsimul,1);\n",
    "% nu = degrees of freedom of Student T\n",
    "ij=0;\n",
    "for nu=nuall\n",
    "    ij=ij+1;\n",
    "    parfor j=1:nsimul\n",
    "        y=trnd(nu, n,1);\n",
    "        meandistr(j)=mean(y);\n",
    "        mediandistr(j)=median(y);\n",
    "    end\n",
    "    disp(['Degrees of freedom: ' num2str(nu)])\n",
    "    VarRatioE(ij)=var(meandistr)/var(mediandistr);\n",
    "end"
   ],
   "outputs": []
  },
  {
   "cell_type": "markdown",
   "metadata": {},
   "source": [
    "\n",
    "## Plot the empirical ARE as function of degrees of freedom of Student T"
   ]
  },
  {
   "cell_type": "code",
   "execution_count": 5,
   "metadata": {},
   "source": [
    "ld=1.2;\n",
    "fs=16;\n",
    "plot(nuall,smooth(VarRatioE),'LineWidth',ld)\n",
    "hline=refline(0,1);\n",
    "hline.Color = 'r';\n",
    "xlabel('Degrees of freedom of Student $t$ ','FontSize',fs-2,'Interpreter','latex')\n",
    "ylabel('Empirical ARE(Me, $\\overline y$ )','Interpreter','latex','FontSize',fs)\n",
    "title('Figure not given in the book')"
   ],
   "outputs": []
  },
  {
   "cell_type": "markdown",
   "metadata": {},
   "source": [
    "\n",
    "## Create input for Figure 2.3\n",
    "\n",
    "Theoretical ARE curve as function of degrees of freedom Var(sample mean)/Var(sample median) nu = degrees of freedom of Student T\n",
    ""
   ]
  },
  {
   "cell_type": "code",
   "execution_count": 6,
   "metadata": {},
   "source": [
    "ij=0;\n",
    "for nu=nuall\n",
    "    ij=ij+1;\n",
    "    varmedian=1/(2*tpdf(0,nu))^2;\n",
    "    varmean=nu/(nu-2);\n",
    "    VarRatioT(ij)=varmean/varmedian;\n",
    "end"
   ],
   "outputs": []
  },
  {
   "cell_type": "markdown",
   "metadata": {},
   "source": [
    "\n",
    "## Create Figure 2.3"
   ]
  },
  {
   "cell_type": "code",
   "execution_count": 7,
   "metadata": {},
   "source": [
    "ld=1.2;\n",
    "fs=16;\n",
    "figure\n",
    "hold('on')\n",
    "% plot(nuall,(VarRatioE),'r','LineWidth',ld)\n",
    "plot(nuall,VarRatioT,'b', 'LineWidth',ld)\n",
    "\n",
    "hline=refline(0,1);\n",
    "hline.Color = 'r';\n",
    "xlabel('Degrees of freedom of Student $t$ ','FontSize',fs-2,'Interpreter','latex')\n",
    "ylabel('ARE(Me, $\\overline y$ )','Interpreter','latex','FontSize',fs)\n",
    "title('Figure 2.3')\n",
    "set(gcf,\"Name\",'Figure 2.3')"
   ],
   "outputs": []
  },
  {
   "cell_type": "markdown",
   "metadata": {},
   "source": [
    "\n",
    "## ARE for selected degrees of freedom"
   ]
  },
  {
   "cell_type": "code",
   "execution_count": 8,
   "metadata": {},
   "source": [
    "nusel=3:5; % degrees of freedom selected\n",
    "[~,posnusel]=intersect(nuall,nusel);\n",
    "VarRatioTsel=flip(VarRatioT(posnusel));\n",
    "rownam=\"t_\"+nusel+\" ARE(Me,mean)\";\n",
    "VarRatioTselt=array2table(VarRatioTsel',\"RowNames\",rownam, ...\n",
    "    \"VariableNames\",\"ARE for selected degrees of freedom\");\n",
    "disp(VarRatioTselt)\n",
    "\n",
    "prin=0;\n",
    "if prin==1\n",
    "    % print to postscript\n",
    "    print -depsc AREstudT.eps;\n",
    "end\n",
    "\n",
    "%InsideREADME"
   ],
   "outputs": []
}
 ],
 "metadata": {
  "kernelspec": {
   "display_name": "MATLAB (matlabkernel)",
   "language": "matlab",
   "name": "matlab"
  },
  "language_info": {
   "file_extension": ".m",
   "mimetype": "text/matlab",
   "name": "matlab",
   "nbconvert_exporter": "matlab",
   "pygments_lexer": "matlab",
   "version": "24.1.0.2453260"
  }
 },
 "nbformat": 4,
 "nbformat_minor": 4
}