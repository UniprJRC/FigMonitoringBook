{
 "cells": [
  {
   "cell_type": "markdown",
   "metadata": {},
   "source": [
    "\n",
    "# <span style=\"color:rgb(213,80,0)\">Exercise 8.2</span>\n",
    "\n",
    "Differences and similarities between HAR and ART heteroskedasticity. This file creates Figures 8.45-8.46.\n",
    "\n",
    "## Beginning of code"
   ]
  },
  {
   "cell_type": "code",
   "execution_count": 1,
   "metadata": {},
   "source": [
    "load inttrade1.mat\n",
    "% This dataset refers to 'POD_4801000000_CH_IT\n",
    "X=inttrade1.Weight;\n",
    "y=inttrade1.Value;\n",
    "prin=0;\n",
    "close all\n",
    "X=X./max(X);\n",
    "Z=log(X);\n",
    "n=length(y);\n",
    "% In this Exercise Harvery's heteroskedasiticty is used\n",
    "typeH='har';"
   ],
   "outputs": []
  },
  {
   "cell_type": "markdown",
   "metadata": {},
   "source": [
    "## Create Figure A.45\n",
    "\n",
    "Automatic outlier detection\n",
    ""
   ]
  },
  {
   "cell_type": "code",
   "execution_count": 2,
   "metadata": {},
   "source": [
    "bonflev=0.99;\n",
    "outH=FSRH(y,X,Z,'init',round(n*0.8),'plots',1,'ylim',[1.6 3], ...\n",
    "    'typeH',typeH,'bonflev',bonflev,'nsamp',10000);\n",
    "pl_fsr=findobj(0, 'type', 'figure','tag','pl_fsr');\n",
    "close(figure(pl_fsr(end)))\n",
    "\n",
    "pl_fsr=findobj(0, 'type', 'figure','tag','pl_yX');\n",
    "set(gcf,'Name', 'Figure A.45');\n",
    "title('Figure A.45')\n",
    "\n",
    "outl=outH.ListOut;\n",
    "bsb=1:n;\n",
    "bsb(outl)=[];"
   ],
   "outputs": []
  },
  {
   "cell_type": "markdown",
   "metadata": {},
   "source": [
    "## Prepare input for Figure 8.46"
   ]
  },
  {
   "cell_type": "code",
   "execution_count": 3,
   "metadata": {},
   "source": [
    "[outLXS]=LXS(y,X,'nsamp',1000);\n",
    "outHEDA=FSRHeda(y,X,Z,outLXS.bs,'init',round(0.7*length(y)),'typeH',typeH);"
   ],
   "outputs": []
  },
  {
   "cell_type": "markdown",
   "metadata": {},
   "source": [
    "## Create Figure A.46\n",
    "\n",
    "Forecasts with confidence bands\n",
    ""
   ]
  },
  {
   "cell_type": "code",
   "execution_count": 4,
   "metadata": {},
   "source": [
    "figure\n",
    "forecastH(y,X,Z,'outH',outHEDA,'bsb',bsb,'conflev',1-0.01/n);\n",
    "% scatter(X,y)\n",
    "title('')\n",
    "ylabel(typeH)\n",
    "ylabel('Value')\n",
    "xlabel('Weight')\n",
    "if prin==1\n",
    "    print -depsc P48bandsHhar.eps;\n",
    "end\n",
    "\n",
    "set(gcf,'Name', 'Figure A.46');\n",
    "title('Figure A.46')\n",
    "\n",
    "%InsideREADME"
   ],
   "outputs": []
}
 ],
 "metadata": {
  "kernelspec": {
   "display_name": "MATLAB (matlabkernel)",
   "language": "matlab",
   "name": "matlab"
  },
  "language_info": {
   "file_extension": ".m",
   "mimetype": "text/matlab",
   "name": "matlab",
   "nbconvert_exporter": "matlab",
   "pygments_lexer": "matlab",
   "version": "23.2.0.2428915"
  }
 },
 "nbformat": 4,
 "nbformat_minor": 4
}