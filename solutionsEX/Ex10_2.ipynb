{
 "cells": [
  {
   "cell_type": "markdown",
   "metadata": {},
   "source": [
    "\n",
    "# <span style=\"color:rgb(213,80,0)\">Exercise 10.2</span>\n",
    "\n",
    "Additional analysis of the customer loyalty data. This file creates Figure A.70\n",
    "\n",
    "## Data loading"
   ]
  },
  {
   "cell_type": "code",
   "execution_count": 1,
   "metadata": {},
   "source": [
    "load ConsLoyaltyRet.mat\n",
    "Xytable=ConsLoyaltyRet(:,2:end);\n",
    "nameXy=Xytable.Properties.VariableNames;\n",
    "nameX=nameXy(1:end-1);\n",
    "X=Xytable{:,1:end-1};\n",
    "y=Xytable{:,end};\n",
    "n=length(y);\n",
    "\n",
    "outFSRfan=FSRfan(y,X,'plots',0);\n",
    "% Best automatic value of lambda is 0.5\n",
    "outBIC=fanBIC(outFSRfan);\n",
    "if prin==1\n",
    "    % print to postscript\n",
    "    print -depsc figs\\transf2.eps;\n",
    "end\n",
    "\n",
    "title('Figure A.70')\n",
    "set(gcf,\"Name\",'A.70')\n",
    "disp('Proportion of observations included in the regression analysis')\n",
    "disp('of the square root transformation')\n",
    "disp(outBIC.mmstop(end-1,2)/n)\n",
    "\n",
    "%InsideREADME"
   ],
   "outputs": []
}
 ],
 "metadata": {
  "kernelspec": {
   "display_name": "MATLAB (matlabkernel)",
   "language": "matlab",
   "name": "matlab"
  },
  "language_info": {
   "file_extension": ".m",
   "mimetype": "text/matlab",
   "name": "matlab",
   "nbconvert_exporter": "matlab",
   "pygments_lexer": "matlab",
   "version": "23.2.0.2428915"
  }
 },
 "nbformat": 4,
 "nbformat_minor": 4
}