{
 "cells": [
  {
   "cell_type": "markdown",
   "metadata": {},
   "source": [
    "\n",
    "# <span style=\"color:rgb(213,80,0)\">Exercise 6.3.</span>\n",
    "\n",
    "Further analysis of the Balance sheets data: This file creates Figure A.18\n",
    "\n",
    "## Balance sheets data"
   ]
  },
  {
   "cell_type": "code",
   "execution_count": 1,
   "metadata": {},
   "source": [
    "XX=load('BalanceSheets.txt');\n",
    "% Define X and y\n",
    "y=XX(:,6);\n",
    "X=XX(:,1:5);\n",
    "n=length(y);\n",
    "ytra=normYJpn(y, [], [0.5, 1.5], 'inverse',false, 'Jacobian', false);\n",
    "close all\n",
    "prin=0;"
   ],
   "outputs": []
  },
  {
   "cell_type": "markdown",
   "metadata": {},
   "source": [
    "## Prepare the input for Figure A.18\n",
    "\n",
    "yXplot with 3 symbols Brushed units\n",
    ""
   ]
  },
  {
   "cell_type": "code",
   "execution_count": 2,
   "metadata": {},
   "source": [
    "brushedun=[94 188 206 226 373 488 496 535 653 757 764 836 842 856 863 ...\n",
    "         1129 1136 1207 1400];\n",
    "outTRA=FSR(ytra,X,'plots',0);\n",
    "outl=outTRA.outliers;\n",
    "extraOUT=setdiff(outTRA.outliers,brushedun);"
   ],
   "outputs": []
  },
  {
   "cell_type": "markdown",
   "metadata": {},
   "source": [
    "## Create Figure A.18\n",
    "\n",
    "yXplot with the 3 groups\n",
    ""
   ]
  },
  {
   "cell_type": "code",
   "execution_count": 3,
   "metadata": {},
   "source": [
    "group=ones(n,1);\n",
    "group(brushedun)=2;\n",
    "group(extraOUT)=3;\n",
    "yXplot(ytra,X,group);\n",
    "\n",
    "sgtitle('Figure A.18')\n",
    "set(gcf,\"Name\",'Figure A.18')\n",
    "\n",
    "if prin==1\n",
    "    % print to postscript\n",
    "    print -depsc BS3groups.eps;\n",
    "end\n",
    "\n",
    "%InsideREADME"
   ],
   "outputs": []
}
 ],
 "metadata": {
  "kernelspec": {
   "display_name": "MATLAB (matlabkernel)",
   "language": "matlab",
   "name": "matlab"
  },
  "language_info": {
   "file_extension": ".m",
   "mimetype": "text/matlab",
   "name": "matlab",
   "nbconvert_exporter": "matlab",
   "pygments_lexer": "matlab",
   "version": "23.2.0.2428915"
  }
 },
 "nbformat": 4,
 "nbformat_minor": 4
}