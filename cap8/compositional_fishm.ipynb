{
 "cells": [
  {
   "cell_type": "markdown",
   "metadata": {},
   "source": [
    "\n",
    "# <span style=\"color:rgb(213,80,0)\">Transformed Fish Morphology data.</span>\n",
    "\n",
    "This file creates Figures 8.35\\-8.38\n",
    "\n",
    "## Beginning of code"
   ]
  },
  {
   "cell_type": "code",
   "execution_count": 1,
   "metadata": {},
   "source": [
    "load ('fishmilr.txt');\n",
    "size(fishmilr)\n",
    "\n",
    "y = fishmilr(:,10);\n",
    "X = fishmilr(:,1:9);\n",
    "\n",
    "prin=0;\n",
    "\n",
    "conflev=[0.95 0.99];"
   ],
   "outputs": []
  },
  {
   "cell_type": "markdown",
   "metadata": {},
   "source": [
    "\n",
    "## Create Figure 8.35\n",
    "\n",
    "S estimators with 2 values of bdp\n",
    ""
   ]
  },
  {
   "cell_type": "code",
   "execution_count": 2,
   "metadata": {},
   "source": [
    "% Note that the pattern of residuals changes completely\n",
    "% Using bdp=0.5 the outliers are correctly found, on the other hand using\n",
    "% bdp=0.25 the masking effect is clear\n",
    "figure;\n",
    "h1=subplot(2,1,1);\n",
    "bdp=0.25;\n",
    "[out]=Sreg(y,X,'nsamp',3000,'bdp',bdp);\n",
    "resindexplot(out,'h',h1,'conflev',conflev);\n",
    "ylabel(['Breakdown point =' num2str(bdp)])\n",
    "\n",
    "h2=subplot(2,1,2);\n",
    "bdp=0.5;\n",
    "[out]=Sreg(y,X,'nsamp',3000,'bdp',bdp);\n",
    "resindexplot(out,'h',h2,'conflev',conflev,'numlab',{6});\n",
    "ylabel(['Breakdown point =' num2str(bdp)])\n",
    "cascade;\n",
    "if prin==1\n",
    "    % print to postscript\n",
    "    print -depsc fishmilr_S.eps;\n",
    "end\n",
    "\n",
    "sgtitle('Figure 8.35')\n",
    "set(gcf,\"Name\",'Figure 8.35')\n",
    "drawnow"
   ],
   "outputs": []
  },
  {
   "cell_type": "markdown",
   "metadata": {},
   "source": [
    "\n",
    "## Create Figure 8.36\n",
    "\n",
    "MM estimators with 2 values of efficiency MMreg using two different level of efficiency Note that the pattern of residuals changes completely Using eff=0.90 the outliers are correctly found, on the other hand using eff=0.95 the masking effect is clear\n",
    ""
   ]
  },
  {
   "cell_type": "code",
   "execution_count": 3,
   "metadata": {},
   "source": [
    "figure;\n",
    "h1=subplot(2,1,1);\n",
    "eff=0.80;\n",
    "[out]=MMreg(y,X,'Snsamp',3000,'eff',eff);\n",
    "resindexplot(out,'h',h1,'conflev',conflev,'numlab',{6});\n",
    "ylabel(['Eff.=' num2str(eff)])\n",
    "h2=subplot(2,1,2);\n",
    "eff=0.99;\n",
    "[out]=MMreg(y,X,'Snsamp',3000,'eff',eff);\n",
    "resindexplot(out,'h',h2,'conflev',conflev,'numlab',{4});\n",
    "ylabel(['Eff.=' num2str(eff)])\n",
    "if prin==1\n",
    "    % print to postscript\n",
    "    print -depsc fishmilr_MM.eps;\n",
    "end\n",
    "\n",
    "sgtitle('Figure 8.36')\n",
    "set(gcf,\"Name\",'Figure 8.36')\n",
    "drawnow"
   ],
   "outputs": []
  },
  {
   "cell_type": "markdown",
   "metadata": {},
   "source": [
    "\n",
    "## Forward search\n",
    "\n",
    "No signal during the search\n",
    ""
   ]
  },
  {
   "cell_type": "code",
   "execution_count": 4,
   "metadata": {},
   "source": [
    "fsout=FSR(y, X,'plots',0);"
   ],
   "outputs": []
  },
  {
   "cell_type": "markdown",
   "metadata": {},
   "source": [
    "\n",
    "## Create Figure 8.37\n",
    "\n",
    "Monitoring S estimates\n",
    ""
   ]
  },
  {
   "cell_type": "code",
   "execution_count": 5,
   "metadata": {},
   "source": [
    "[out]=Sregeda(y,X,'msg',0);\n",
    "fground = struct;\n",
    "fground.Color={'r'};\n",
    "fground.flabstep = '';\n",
    "fground.fthresh=2.0;\n",
    "resfwdplot(out, 'fground', fground, 'datatooltip','', 'corres', 1,'tag','pl_Sres');\n",
    "ylabel('Scaled S residuals');\n",
    "xlabel('bdp');\n",
    "\n",
    "if prin==1\n",
    "    % print to postscript\n",
    "    print -depsc fishmilr_S_mon.eps;\n",
    "end\n",
    "sgtitle('Figure 8.37')\n",
    "set(gcf,\"Name\",'Figure 8.37')\n",
    "drawnow"
   ],
   "outputs": []
  },
  {
   "cell_type": "markdown",
   "metadata": {},
   "source": [
    "\n",
    "## Create Figure 8.38\n",
    "\n",
    "Monitoring MM estimtes\n",
    ""
   ]
  },
  {
   "cell_type": "code",
   "execution_count": 6,
   "metadata": {},
   "source": [
    "[out]=MMregeda(y,X);\n",
    "fground = struct;\n",
    "fground.Color={'r'};\n",
    "fground.flabstep = '';\n",
    "fground.fthresh=2.0;\n",
    "resfwdplot(out, 'fground', fground, 'datatooltip','', 'corres', 1);\n",
    "ylabel('Scaled S residuals');\n",
    "xlabel('Efficiency');\n",
    "\n",
    "if prin==1\n",
    "    % print to postscript\n",
    "    print -depsc fishmilr_MM_mon.eps;\n",
    "end\n",
    "\n",
    "sgtitle('Figure 8.38')\n",
    "set(gcf,\"Name\",'Figure 8.38')\n",
    "\n",
    "%InsideREADME"
   ],
   "outputs": []
}
 ],
 "metadata": {
  "kernelspec": {
   "display_name": "MATLAB (matlabkernel)",
   "language": "matlab",
   "name": "matlab"
  },
  "language_info": {
   "file_extension": ".m",
   "mimetype": "text/matlab",
   "name": "matlab",
   "nbconvert_exporter": "matlab",
   "pygments_lexer": "matlab",
   "version": "24.1.0.2453260"
  }
 },
 "nbformat": 4,
 "nbformat_minor": 4
}