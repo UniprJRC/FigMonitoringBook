{
 "cells": [
  {
   "cell_type": "markdown",
   "metadata": {},
   "source": [
    "\n",
    "# <span style=\"color:rgb(213,80,0)\">AR regression data</span>\n",
    "\n",
    "This file creates Figures 4.12-4.14 Note that this file needs interactivity\n",
    "\n",
    "## Data loading"
   ]
  },
  {
   "cell_type": "code",
   "execution_count": 1,
   "metadata": {},
   "source": [
    "load('multiple_regression.txt');\n",
    "y=multiple_regression(:,4);\n",
    "X=multiple_regression(:,1:3);\n",
    "prin=0;"
   ],
   "outputs": []
  },
  {
   "cell_type": "markdown",
   "metadata": {},
   "source": [
    "## Create Figure 4.12\n",
    "\n",
    "datatooltip which monitors bsb LMS using 1000 subsamples\n",
    ""
   ]
  },
  {
   "cell_type": "code",
   "execution_count": 2,
   "metadata": {},
   "source": [
    "[out]=LXS(y,X,'nsamp',1000,'msg',0);\n",
    "% Forward Search\n",
    "[out]=FSReda(y,X,out.bs);\n",
    "\n",
    "disp('Click inside the plot to show the units inside subset')\n",
    "disp('for a given value of subset size m')\n",
    "disp('Right click to end the brushing')\n",
    "datatooltip=struct;\n",
    "datatooltip.SubsetLinesColor=[1 0 0];\n",
    "standard=struct;\n",
    "standard.titl='Click inside the plot to show the units inside subset for a given m';\n",
    "\n",
    "resfwdplot(out,'datatooltip',datatooltip,'standard',standard)\n",
    "\n",
    "sgtitle('Figure similar to 4.12 (it depends on your clicks)')\n",
    "set(gcf,\"Name\",'Figure 4.12')\n",
    "\n",
    "if prin==1\n",
    "    % print to postscript\n",
    "    print -depsc ARmonbsb30.eps;\n",
    "    print -depsc ARmonbsb53.eps;\n",
    "end"
   ],
   "outputs": []
  },
  {
   "cell_type": "markdown",
   "metadata": {},
   "source": [
    "## Create Figure 4.14\n",
    "\n",
    "MR (Multiple regression data): Forward EDA using persistent brushing LMS using 1000 subsamples\n",
    ""
   ]
  },
  {
   "cell_type": "code",
   "execution_count": 3,
   "metadata": {},
   "source": [
    "[out]=LXS(y,X,'nsamp',20000);\n",
    "% Forward Search\n",
    "[out]=FSReda(y,X,out.bs);\n",
    "out1=out;\n",
    "% Create scaled squared residuals\n",
    "% out1.RES=out.RES.^2;\n",
    "\n",
    "% plot minimum deletion residual with personalized options\n",
    "% mdrplot(out,'ylimy',[1 4.2],'xlimx',[10 60],'FontSize',14,'SizeAxesNum',14,'lwdenv',2);\n",
    "\n",
    "% Persistent brushing on the plot of the scaled residuals. The plot is:\n",
    "fground.flabstep='';        % without labels at steps 0 and n\n",
    "fground.fthresh=3.5;      % threshold which defines the trajectories in foreground\n",
    "fground.LineWidth=1.5;      % personalised linewidth for trajectories in foreground\n",
    "fground.Color={'r'};        % personalised color (red lines) for trajectories in foreground\n",
    "\n",
    "databrush=struct;\n",
    "databrush.bivarfit='';\n",
    "databrush.selectionmode='Rect'; % Rectangular selection\n",
    "% databrush.persist='on'; % Enable repeated mouse selections\n",
    "databrush.Label='on'; % Write labels of trajectories while selecting\n",
    "databrush.RemoveLabels='off'; % Do not remove labels after selection\n",
    "databrush.Pointer='hand'; % Hand cursor point while selecting\n",
    "databrush.FlagSize='8'; % Size of the brushed points\n",
    "databrush.RemoveTool='on'; % Remove yellow selection after finishing brushing\n",
    "standard=struct;\n",
    "standard.titl='Drag with the mouse to select a set of trajectories';\n",
    "resfwdplot(out1,'fground',fground,'standard',standard,'databrush',databrush);\n",
    "sgtitle('Figure similar to 4.14 bottom (it depends on your brushing)')\n",
    "set(gcf,\"Name\",'Figure 4.14 (bottom)')\n",
    "\n",
    "if prin==1\n",
    "    % print to postscript\n",
    "    print -depsc ARbrush.eps;\n",
    "    print -depsc ARbrushyX.eps;\n",
    "end"
   ],
   "outputs": []
  },
  {
   "cell_type": "markdown",
   "metadata": {},
   "source": [
    "## Create Figure 4.13"
   ]
  },
  {
   "cell_type": "code",
   "execution_count": 4,
   "metadata": {},
   "source": [
    "figure\n",
    "% Rotate manually\n",
    "disp('Rotate manually the 3D scatter')\n",
    "scatter3(X(:,1),X(:,2),y)\n",
    "xlabel('X1')\n",
    "ylabel('X2')\n",
    "zlabel('y')\n",
    "hold('on');\n",
    "sel=[9 30 31 38 47 21];\n",
    "scatter3(X(sel,1),X(sel,2),y(sel),'r','MarkerFaceColor','r')\n",
    "% sel=[43];\n",
    "hold('on')\n",
    "sel1=43;\n",
    "scatter3(X(sel1,1),X(sel1,2),y(sel1),'k','MarkerFaceColor','k')\n",
    "text(X(sel1,1),X(sel1,2),y(sel1),'43')\n",
    "\n",
    "title('Figure similar to 4.13 (it depends on your rotation)','Click and drag')\n",
    "set(gcf,\"Name\",'Figure 4.13')\n",
    "\n",
    "if prin==1\n",
    "    % print to postscript\n",
    "    print -depsc AR3D.eps;\n",
    "    print -depsc AR3Drot.eps;\n",
    "end\n",
    "\n",
    "%InsideREADME"
   ],
   "outputs": []
}
 ],
 "metadata": {
  "kernelspec": {
   "display_name": "MATLAB (matlabkernel)",
   "language": "matlab",
   "name": "matlab"
  },
  "language_info": {
   "file_extension": ".m",
   "mimetype": "text/matlab",
   "name": "matlab",
   "nbconvert_exporter": "matlab",
   "pygments_lexer": "matlab",
   "version": "23.2.0.2428915"
  }
 },
 "nbformat": 4,
 "nbformat_minor": 4
}