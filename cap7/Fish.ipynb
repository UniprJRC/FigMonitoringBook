{
 "cells": [
  {
   "cell_type": "markdown",
   "metadata": {},
   "source": [
    "\n",
    "# <span style=\"color:rgb(213,80,0)\">Fish data.</span>\n",
    "\n",
    "This file creates Figures 7.16\\-7.19.\n",
    "\n",
    "## Beginning of code.\n",
    "\n",
    "[https://www.kaggle.com/aungpyaeap/fish\\-market](https://www.kaggle.com/aungpyaeap/fish-market)\n",
    ""
   ]
  },
  {
   "cell_type": "code",
   "execution_count": 1,
   "metadata": {},
   "source": [
    "clear\n",
    "close all\n",
    "prin=0;\n",
    "load fish.mat\n",
    "\n",
    "% pike is removed and just 3 variables are used\n",
    "sel=categorical(fish{:,1})~='Pike';\n",
    "y=fish{sel,2};\n",
    "X=fish{sel,3:5};"
   ],
   "outputs": []
  },
  {
   "cell_type": "markdown",
   "metadata": {},
   "source": [
    "\n",
    "## Prepare input for Figure 7.16 and Figure 7.17\n",
    "\n",
    "automatic model selection (a monotonicity constraint on the transformation of the regressors is imposed)\n",
    ""
   ]
  },
  {
   "cell_type": "code",
   "execution_count": 2,
   "metadata": {},
   "source": [
    "[VALtfin,corMatrix]=avasms(y,X,'l',3*ones(size(X,2),1),'plots',0);\n",
    "disp('Value of R2 for the first solution')\n",
    "disp(VALtfin.R2(1))"
   ],
   "outputs": []
  },
  {
   "cell_type": "markdown",
   "metadata": {},
   "source": [
    "\n",
    "## Create Figure 7.16 and 7.17"
   ]
  },
  {
   "cell_type": "code",
   "execution_count": 3,
   "metadata": {},
   "source": [
    "BigAx=avasmsplot(VALtfin,'showBars',true,'corMatrix',corMatrix);\n",
    "\n",
    "pl_augstarplot=findobj(0, 'type', 'figure','tag','pl_augstarplot');\n",
    "figure(pl_augstarplot(1))\n",
    "title(BigAx,'Figure 7.16')\n",
    "set(gcf,\"Name\",'Figure 7.16')\n",
    "\n",
    "pl_heatmap=findobj(0, 'type', 'figure','tag', 'pl_heatmap');\n",
    "figure(pl_heatmap(1))\n",
    "sgtitle('Figure 7.17')\n",
    "set(gcf,\"Name\",'Figure 7.17')\n",
    "\n",
    "if prin==1\n",
    "    % print to postscript\n",
    "    print -depsc figs\\F1.eps;\n",
    "    print -depsc figs\\F1bis.eps;\n",
    "\n",
    "end"
   ],
   "outputs": []
  },
  {
   "cell_type": "markdown",
   "metadata": {},
   "source": [
    "\n",
    "## Create Figure 7.18 (extract best solution)"
   ]
  },
  {
   "cell_type": "code",
   "execution_count": 4,
   "metadata": {},
   "source": [
    "j=1;\n",
    "outj=VALtfin{j,\"Out\"};\n",
    "out=outj{:};\n",
    "aceplot(out,'tyFitted',false,'oneplot',[])\n",
    "\n",
    "sgtitle('Figure 7.18')\n",
    "set(gcf,\"Name\",'Figure 7.18')\n",
    "\n",
    "if prin==1\n",
    "    % print to postscript\n",
    "    print -depsc figs\\F2.eps;\n",
    "    %  print -depsc figs\\F3.eps;\n",
    "\n",
    "end\n",
    "disp(['Number of outliers by first solution=' num2str(length(out.outliers))])\n",
    "\n",
    "ytra=out.ty;\n",
    "Listout=out.outliers;"
   ],
   "outputs": []
  },
  {
   "cell_type": "markdown",
   "metadata": {},
   "source": [
    "\n",
    "## FISH JUST one expl"
   ]
  },
  {
   "cell_type": "code",
   "execution_count": 5,
   "metadata": {},
   "source": [
    "[VALtfin,CorrMat]=avasms(y,X(:,1),'l',3,'plots',0);\n",
    "j=1;\n",
    "outj=VALtfin{j,\"Out\"};\n",
    "out=outj{:};\n",
    "disp(out)\n",
    "ytrajust1=out.ty;\n",
    "Listoutjust1=out.outliers;"
   ],
   "outputs": []
  },
  {
   "cell_type": "markdown",
   "metadata": {},
   "source": [
    "\n",
    "## Create Figure 7.19\n",
    "\n",
    "comparison of transformations (3 and 1 expl. var.)\n",
    ""
   ]
  },
  {
   "cell_type": "code",
   "execution_count": 6,
   "metadata": {},
   "source": [
    "[~,ind]=sort(y);\n",
    "figure\n",
    "subplot(2,2,1)\n",
    "ytheo=(y.^(1/3));\n",
    "ystand=zscore(y);\n",
    "ytheoz=zscore(ytheo(ind));\n",
    "[ysor, ind]=sort(ystand);\n",
    "[ytraz,mu,sig]=zscore(ytra(ind));\n",
    "[ytrajust1z,mujust1,sigjust1]=zscore(ytrajust1(ind));\n",
    "\n",
    "plot(ysor,ytraz,'o')\n",
    "hold('on')\n",
    "plot(ysor,ytheoz,'-','LineWidth',2)\n",
    "plot(ystand(Listout),(ytra(Listout)-mu)/sig,'o','Color','r','MarkerFaceColor','r')\n",
    "xlabel('y standardized')\n",
    "ylabel('yt(all variables)')\n",
    "\n",
    "subplot(2,2,2)\n",
    "plot(ysor,ytrajust1z,'o')\n",
    "hold('on')\n",
    "    plot(ysor,ytheoz,'-','LineWidth',2)\n",
    "plot(ystand(Listoutjust1),(ytra(Listoutjust1)-mujust1)/sigjust1,'o','Color','r','MarkerFaceColor','r')\n",
    "xlabel('y standardized')\n",
    "ylabel('yt(just one expl. variable)')\n",
    "\n",
    "if prin==1\n",
    "    % print to postscript\n",
    "    print -depsc F4.eps;\n",
    "end\n",
    "\n",
    "sgtitle('Figure 7.19')\n",
    "set(gcf,\"Name\",'Figure 7.19')\n",
    "\n",
    "% R2 using y^1/3 and deleting obs. 41\n",
    "outJust1=fitlm(X(:,1),ytheo,'Exclude',41);\n",
    "disp('Value of R2 in the model which just includes one expl. var.')\n",
    "disp(outJust1.Rsquared)\n",
    "\n",
    "%InsideREADME"
   ],
   "outputs": []
}
 ],
 "metadata": {
  "kernelspec": {
   "display_name": "MATLAB (matlabkernel)",
   "language": "matlab",
   "name": "matlab"
  },
  "language_info": {
   "file_extension": ".m",
   "mimetype": "text/matlab",
   "name": "matlab",
   "nbconvert_exporter": "matlab",
   "pygments_lexer": "matlab",
   "version": "24.1.0.2453260"
  }
 },
 "nbformat": 4,
 "nbformat_minor": 4
}