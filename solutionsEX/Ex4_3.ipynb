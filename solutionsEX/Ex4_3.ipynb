{
 "cells": [
  {
   "cell_type": "markdown",
   "metadata": {},
   "source": [
    "\n",
    "# <span style=\"color:rgb(213,80,0)\">Exercise 4.3</span>\n",
    "\n",
    "Surgical Unit data: Analysis to test difference between two groups This file creates Figures A.10-A.12 and Table A.6\n",
    "\n",
    "## Beginning of code"
   ]
  },
  {
   "cell_type": "code",
   "execution_count": 1,
   "metadata": {},
   "source": [
    "close all;\n",
    "y=hospitalFS(:,5);"
   ],
   "outputs": [
    {
     "data": {
      "text/plain": [
       "Reference to a cleared variable hospitalFS."
      ]
     },
     "metadata": {},
     "execution_count":  1,
     "output_type": "execute_result"
    }
   ]
  },
  {
   "cell_type": "code",
   "execution_count": 2,
   "metadata": {},
   "source": [
    "X=hospitalFS(:,1:4);\n",
    "\n",
    "% Set dummy variable for surgical unit 1\n",
    "group=ones(n,1);\n",
    "group(55:n)=0;\n",
    "n=length(y);\n",
    "prin=0;\n",
    "\n",
    "Xgroup=[X group];\n",
    "nameXy={'X1','X2','X3' 'X4' 'dum' 'y'};\n",
    "Xyt=array2table([Xgroup y],'VariableNames',nameXy);"
   ],
   "outputs": []
  },
  {
   "cell_type": "markdown",
   "metadata": {},
   "source": [
    "## Create Table A.6"
   ]
  },
  {
   "cell_type": "code",
   "execution_count": 3,
   "metadata": {},
   "source": [
    "mdl=fitlm(Xyt);\n",
    "disp('Table A.6')\n",
    "disp(mdl)"
   ],
   "outputs": []
  },
  {
   "cell_type": "markdown",
   "metadata": {},
   "source": [
    "## Create Figure A.10"
   ]
  },
  {
   "cell_type": "code",
   "execution_count": 4,
   "metadata": {},
   "source": [
    "[out]=FSRaddt(y,[X group],'plots',1,'nameX',{'X1','X2','X3' 'X4' 'dum'},'lwdenv',2,'lwdt',2);\n",
    "title('Figure A.10')\n",
    "set(gcf,\"Name\",'Figure A.10')\n",
    "\n",
    "if prin==1\n",
    "    % print to postscript\n",
    "    print -depsc SPaddvarDUM.eps;\n",
    "end\n",
    "\n",
    "%InsideREADME"
   ],
   "outputs": []
}
 ],
 "metadata": {
  "kernelspec": {
   "display_name": "MATLAB (matlabkernel)",
   "language": "matlab",
   "name": "matlab"
  },
  "language_info": {
   "file_extension": ".m",
   "mimetype": "text/matlab",
   "name": "matlab",
   "nbconvert_exporter": "matlab",
   "pygments_lexer": "matlab",
   "version": "23.2.0.2428915"
  }
 },
 "nbformat": 4,
 "nbformat_minor": 4
}