{
 "cells": [
  {
   "cell_type": "markdown",
   "metadata": {},
   "source": [
    "\n",
    "# <span style=\"color:rgb(213,80,0)\">Exercise 10.3</span>\n",
    "\n",
    "Analysis of the modified customer loyalty data in the square-root scale.\n",
    "\n",
    "\n",
    "This file creates Figures A.70-A.73\n",
    "\n",
    "## Beginning of code"
   ]
  },
  {
   "cell_type": "code",
   "execution_count": 1,
   "metadata": {},
   "source": [
    "close all\n",
    "clear\n",
    "load ConsLoyaltyRet.mat\n",
    "Xytable=ConsLoyaltyRet(:,2:end);\n",
    "nameXy=Xytable.Properties.VariableNames;\n",
    "nameX=nameXy(1:end-1);\n",
    "X=Xytable{:,1:end-1};\n",
    "y=Xytable{:,end};\n",
    "ytra=sqrt(y);\n",
    "n=length(y);\n",
    "\n",
    "% Contaminate the data\n",
    "ss=Xytable.Price==10 & Xytable.NegativePublicity<0.2;\n",
    "kk=3;\n",
    "y(ss)=y(ss)-kk;\n",
    "Xytable{ss,end}= Xytable{ss,end}-kk;\n",
    "sqy=sqrt(y);\n",
    "prin=0;"
   ],
   "outputs": []
  },
  {
   "cell_type": "markdown",
   "metadata": {},
   "source": [
    "## Create Figure A.70"
   ]
  },
  {
   "cell_type": "code",
   "execution_count": 2,
   "metadata": {},
   "source": [
    "outFSRfan=FSRfan(y,X,'plots',0);\n",
    "% Best automatic value of lambda is 0.5\n",
    "outBIC=fanBIC(outFSRfan);\n",
    "sgtitle('Figure A.70')\n",
    "set(gcf,\"Name\",'Figure A.70')"
   ],
   "outputs": []
  },
  {
   "cell_type": "markdown",
   "metadata": {},
   "source": [
    "## Create Figure A.71\n",
    "\n",
    "Monitoring of res in sqrt scale LMS\n",
    ""
   ]
  },
  {
   "cell_type": "code",
   "execution_count": 3,
   "metadata": {},
   "source": [
    "[outLXSsq]=LXS(sqy,X,'nsamp',50000);\n",
    "% Forward Search\n",
    "[outsq]=FSReda(sqy,X,outLXSsq.bs);\n",
    "\n",
    "resfwdplot(outsq,'datatooltip','','tag','pl_resfwdini')\n",
    "if prin==1\n",
    "    % print to postscript\n",
    "    print -depsc modCLmonressqrt.eps;\n",
    "end\n",
    "title('Figure A.71')\n",
    "set(gcf,\"Name\",'Figure A.71')\n",
    "drawnow"
   ],
   "outputs": []
  },
  {
   "cell_type": "markdown",
   "metadata": {},
   "source": [
    "## Create Figure A.72\n",
    "\n",
    "FSR in sqrt scale\n",
    ""
   ]
  },
  {
   "cell_type": "code",
   "execution_count": 4,
   "metadata": {},
   "source": [
    "outsqrty=FSR(sqy,X,'plots',0);\n",
    "\n",
    "% plots of res in sqrt scale\n",
    "mdl=fitlm(X,sqy,'Exclude',outsqrty.outliers,'VarNames',nameXy);\n",
    "\n",
    "figure\n",
    "h1=subplot(2,1,1);\n",
    "res=mdl.Residuals{:,3};\n",
    "qqplotFS(res,'X',X,'plots',1,'h',h1);\n",
    "\n",
    "subplot(2,1,2)\n",
    "\n",
    "plotResiduals(mdl,'symmetry','ResidualType','studentized')\n",
    "title('')\n",
    "\n",
    "if prin==1\n",
    "    % print to postscript\n",
    "    print -depsc figs\\modCL8.eps;\n",
    "end\n",
    "sgtitle('Figure A.72')\n",
    "set(gcf,\"Name\",'Figure A.72')\n",
    "drawnow"
   ],
   "outputs": []
  },
  {
   "cell_type": "markdown",
   "metadata": {},
   "source": [
    "## Create Figure A.73\n",
    "\n",
    "FSRaddt in the model without the interactions sqrt scale\n",
    ""
   ]
  },
  {
   "cell_type": "code",
   "execution_count": 5,
   "metadata": {},
   "source": [
    "outADDt=FSRaddt(sqy,X,'plots',0);\n",
    "fanplotFS(outADDt,'highlight',outsqrty.outliers)\n",
    "title('')\n",
    "if prin==1\n",
    "    % print to postscript\n",
    "    print -depsc modCL6sqrt.eps;\n",
    "end\n",
    "title('Figure A.73')\n",
    "set(gcf,\"Name\",'Figure A.73')\n",
    "\n",
    "%InsideREADME"
   ],
   "outputs": []
}
 ],
 "metadata": {
  "kernelspec": {
   "display_name": "MATLAB (matlabkernel)",
   "language": "matlab",
   "name": "matlab"
  },
  "language_info": {
   "file_extension": ".m",
   "mimetype": "text/matlab",
   "name": "matlab",
   "nbconvert_exporter": "matlab",
   "pygments_lexer": "matlab",
   "version": "23.2.0.2428915"
  }
 },
 "nbformat": 4,
 "nbformat_minor": 4
}